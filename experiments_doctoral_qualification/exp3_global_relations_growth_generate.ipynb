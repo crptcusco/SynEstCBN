{
 "cells": [
  {
   "cell_type": "markdown",
   "source": [
    "# Experiment : Coupling signal growth"
   ],
   "metadata": {
    "collapsed": false,
    "pycharm": {
     "name": "#%% md\n"
    }
   }
  },
  {
   "cell_type": "markdown",
   "source": [
    "## Init the Ray client"
   ],
   "metadata": {
    "collapsed": false,
    "pycharm": {
     "name": "#%% md\n"
    }
   }
  },
  {
   "cell_type": "code",
   "execution_count": null,
   "outputs": [],
   "source": [
    "# Imports\n",
    "from clases.red_rddas_model import RedRddasModel\n",
    "import ray\n",
    "import time\n",
    "import pandas as pd\n",
    "\n",
    "# Ray Configurations\n",
    "runtime_env = {\"working_dir\": \"/home/reynaldo/Documents/RESEARCH/SynEstRDDA\", \"pip\": [\"requests\", \"pendulum==2.1.2\"]}\n",
    "ray.init(address='ray://172.17.163.253:10001', runtime_env=runtime_env, log_to_driver=False, allow_multiple=True, ignore_reinit_error=True)\n",
    "# ray.init(address='ray://172.17.163.244:10001', runtime_env=runtime_env , log_to_driver=False, num_cpus=12)\n",
    "# ray.init(log_to_driver=False, num_cpus=12)\n",
    "# ray.init(log_to_driver=False, num_cpus=12)"
   ],
   "metadata": {
    "collapsed": false,
    "pycharm": {
     "name": "#%%\n"
    }
   }
  },
  {
   "cell_type": "markdown",
   "source": [
    "### Generate the Samples and recollected the indicators"
   ],
   "metadata": {
    "collapsed": false,
    "pycharm": {
     "name": "#%% md\n"
    }
   }
  },
  {
   "cell_type": "code",
   "execution_count": null,
   "outputs": [],
   "source": [
    "# Experiment for global rrelations growth\n",
    "\n",
    "#capture the time for all the experiment\n",
    "v_begin_exp = time.time()\n",
    "\n",
    "n_experiments = 500\n",
    "l_experiments = []\n",
    "for cont_experiment in range(1,n_experiments+1):\n",
    "    print(\"============================\")\n",
    "    print(\"Experiment:\", cont_experiment)\n",
    "    print(\"============================\")\n",
    "\n",
    "    # Variable Parameters\n",
    "    n_of_signals_rdd_min = 2\n",
    "    n_of_signals_rdd_max = 7\n",
    "\n",
    "    # Fixed Parameters\n",
    "    n_of_rdds = 8\n",
    "    n_of_var_by_rdd = 5\n",
    "    n_output_variables = 2\n",
    "    n_clauses_function = 2\n",
    "    type_network = \"ALEATORY\"\n",
    "\n",
    "    # List of Result for the Experiments\n",
    "    l_res_sample = []\n",
    "\n",
    "    v_n_network = 1\n",
    "    for n_of_signals_rdd in range(n_of_signals_rdd_min, n_of_signals_rdd_max + 1):\n",
    "        print(\"Number of Network:\", v_n_network)\n",
    "        print(\"Number of RDDs:\", n_of_rdds)\n",
    "        print(\"Number of Signals by RDD:\", n_of_signals_rdd)\n",
    "        print(\"-------------------------------\")\n",
    "\n",
    "        # generate the RDDAs of the Network of RDDAs\n",
    "        print(\"generating the Network of RDDAs ...\")\n",
    "        o_rdda_model = RedRddasModel(n_of_rdds, n_of_var_by_rdd, n_of_signals_rdd, n_output_variables,\n",
    "                                       n_clauses_function)\n",
    "\n",
    "        # Generate the RDDs\n",
    "        print(\"generating the rdds ...\")\n",
    "        o_rdda_model.generate_rddas(type_network=type_network)\n",
    "\n",
    "        # Calculate the Attractors by RDDA and by Signal\n",
    "        v_begin_0 = time.time()\n",
    "        result = RedRddasModel.find_attractors_rddas_ray.remote(o_rdda_model)\n",
    "        o_rdda_model = ray.get(result)\n",
    "        v_end_0 = time.time()\n",
    "        v_time_0 = v_end_0 - v_begin_0\n",
    "\n",
    "        # Calculate the Attractors by RDDA and by Signal\n",
    "        v_begin_1 = time.time()\n",
    "        result = RedRddasModel.calculation_compatible_pairs.remote(o_rdda_model)\n",
    "        o_rdda_model = ray.get(result)\n",
    "        v_end_1 = time.time()\n",
    "        v_time_1 = v_end_1 - v_begin_1\n",
    "\n",
    "        # Calculate the Attractors by RDDA and by Signal with optimized Method\n",
    "        v_begin_2 = time.time()\n",
    "        result = RedRddasModel.assembly_attractor_fields_optimized.remote(o_rdda_model)\n",
    "        o_rdda_model = ray.get(result)\n",
    "        v_end_2 = time.time()\n",
    "        v_time_2 = v_end_2 - v_begin_2\n",
    "\n",
    "        # Save the results for the experiment , numeric and time indicators\n",
    "        res_dict = {\n",
    "                    \"n_network\": v_n_network,\n",
    "                    \"n_variables\": n_of_var_by_rdd,\n",
    "                    \"n_coupling_signals\": n_of_signals_rdd,\n",
    "                    \"n_rdda_attractors\": len(o_rdda_model.d_global_rdda_attractor.items()),\n",
    "                    \"t_find_attractors_method\": v_time_0,\n",
    "                    \"n_pair_attractors\": len(o_rdda_model.list_attractors_pairs),\n",
    "                    \"t_comp_paris_method\": v_time_1,\n",
    "                    \"n_attractor_fields\": len(o_rdda_model.attractor_fields),\n",
    "                    \"t_optimized_method\": v_time_2\n",
    "                    }\n",
    "        l_res_sample.append(res_dict)\n",
    "        v_n_network = v_n_network + 1\n",
    "\n",
    "    # Add the sample data to pandas dataframe\n",
    "    df = pd.DataFrame.from_dict(l_res_sample)\n",
    "    l_experiments.append(df)\n",
    "# Capture the time of the experiment\n",
    "v_end_exp = time.time()\n",
    "v_time_exp = v_end_exp - v_begin_exp\n",
    "print(\"END EXPERIMENT\")"
   ],
   "metadata": {
    "collapsed": false,
    "pycharm": {
     "name": "#%%\n"
    }
   }
  },
  {
   "cell_type": "markdown",
   "source": [
    "## Save the experiment data in csv, using pandas Dataframe"
   ],
   "metadata": {
    "collapsed": false,
    "pycharm": {
     "name": "#%% md\n"
    }
   }
  },
  {
   "cell_type": "code",
   "execution_count": null,
   "outputs": [],
   "source": [
    "pf_res = pd.concat(l_experiments, keys=range(1,n_experiments+1), names=[\"n_sample\",\"n_aux\"], ignore_index=False)\n",
    "pf_res.reset_index(drop=True, inplace=True, level=1)\n",
    "pf_res"
   ],
   "metadata": {
    "collapsed": false,
    "pycharm": {
     "name": "#%%\n"
    }
   }
  },
  {
   "cell_type": "code",
   "execution_count": null,
   "outputs": [],
   "source": [
    "path = \"exp2_internal_variable_growth_data.csv\"\n",
    "pf_res.to_csv(path)\n",
    "print(\"Experiment saved in:\", path)"
   ],
   "metadata": {
    "collapsed": false,
    "pycharm": {
     "name": "#%%\n"
    }
   }
  }
 ],
 "metadata": {
  "kernelspec": {
   "display_name": "Python 3",
   "language": "python",
   "name": "python3"
  },
  "language_info": {
   "codemirror_mode": {
    "name": "ipython",
    "version": 2
   },
   "file_extension": ".py",
   "mimetype": "text/x-python",
   "name": "python",
   "nbconvert_exporter": "python",
   "pygments_lexer": "ipython2",
   "version": "2.7.6"
  }
 },
 "nbformat": 4,
 "nbformat_minor": 0
}