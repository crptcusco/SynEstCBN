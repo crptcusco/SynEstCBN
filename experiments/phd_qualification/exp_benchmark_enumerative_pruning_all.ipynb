{
 "cells": [
  {
   "cell_type": "code",
   "execution_count": 2,
   "metadata": {
    "collapsed": true,
    "ExecuteTime": {
     "end_time": "2023-11-23T16:14:23.708949926Z",
     "start_time": "2023-11-23T16:14:23.279754808Z"
    }
   },
   "outputs": [
    {
     "ename": "ModuleNotFoundError",
     "evalue": "No module named 'igraph'",
     "output_type": "error",
     "traceback": [
      "\u001B[0;31m---------------------------------------------------------------------------\u001B[0m",
      "\u001B[0;31mModuleNotFoundError\u001B[0m                       Traceback (most recent call last)",
      "Cell \u001B[0;32mIn[2], line 2\u001B[0m\n\u001B[1;32m      1\u001B[0m \u001B[38;5;66;03m# Imports\u001B[39;00m\n\u001B[0;32m----> 2\u001B[0m \u001B[38;5;28;01mfrom\u001B[39;00m \u001B[38;5;21;01mclasses\u001B[39;00m\u001B[38;5;21;01m.\u001B[39;00m\u001B[38;5;21;01mcbnetwork\u001B[39;00m \u001B[38;5;28;01mimport\u001B[39;00m CBN\n\u001B[1;32m      3\u001B[0m \u001B[38;5;28;01mfrom\u001B[39;00m \u001B[38;5;21;01mclasses\u001B[39;00m\u001B[38;5;21;01m.\u001B[39;00m\u001B[38;5;21;01mexperiment\u001B[39;00m \u001B[38;5;28;01mimport\u001B[39;00m ExperimentModel\n\u001B[1;32m      5\u001B[0m \u001B[38;5;28;01mimport\u001B[39;00m \u001B[38;5;21;01mray\u001B[39;00m\n",
      "File \u001B[0;32m~/Documents/CODE/RESEARCH/SynEstCBN/classes/cbnetwork.py:3\u001B[0m\n\u001B[1;32m      1\u001B[0m \u001B[38;5;28;01mimport\u001B[39;00m \u001B[38;5;21;01mrandom\u001B[39;00m  \u001B[38;5;66;03m# generate random numbers\u001B[39;00m\n\u001B[1;32m      2\u001B[0m \u001B[38;5;28;01mimport\u001B[39;00m \u001B[38;5;21;01mnetworkx\u001B[39;00m \u001B[38;5;28;01mas\u001B[39;00m \u001B[38;5;21;01mnx\u001B[39;00m  \u001B[38;5;66;03m# library to work with graphs\u001B[39;00m\n\u001B[0;32m----> 3\u001B[0m \u001B[38;5;28;01mimport\u001B[39;00m \u001B[38;5;21;01migraph\u001B[39;00m \u001B[38;5;28;01mas\u001B[39;00m \u001B[38;5;21;01mig\u001B[39;00m\n\u001B[1;32m      4\u001B[0m \u001B[38;5;28;01mimport\u001B[39;00m \u001B[38;5;21;01mmatplotlib\u001B[39;00m\u001B[38;5;21;01m.\u001B[39;00m\u001B[38;5;21;01mpyplot\u001B[39;00m \u001B[38;5;28;01mas\u001B[39;00m \u001B[38;5;21;01mplt\u001B[39;00m  \u001B[38;5;66;03m# library to make draws\u001B[39;00m\n\u001B[1;32m      5\u001B[0m \u001B[38;5;28;01mimport\u001B[39;00m \u001B[38;5;21;01mmatplotlib\u001B[39;00m\u001B[38;5;21;01m.\u001B[39;00m\u001B[38;5;21;01mcolors\u001B[39;00m \u001B[38;5;28;01mas\u001B[39;00m \u001B[38;5;21;01mmco\u001B[39;00m \u001B[38;5;66;03m# library who have the list of colors\u001B[39;00m\n",
      "\u001B[0;31mModuleNotFoundError\u001B[0m: No module named 'igraph'"
     ]
    }
   ],
   "source": [
    "# Imports\n",
    "from classes.cbnetwork import CBN\n",
    "from classes.experiment import ExperimentModel\n",
    "\n",
    "import ray\n",
    "import time\n",
    "import pandas as pd\n",
    "import numpy as np\n",
    "import pickle  # library to serialization object\n",
    "\n",
    "from itertools import product  # generate combinations of numbers\n",
    "\n",
    "# Ray Configurations\n",
    "# ray.shutdown()\n",
    "#runtime_env = {\"working_dir\": \"/home/reynaldo/Documents/RESEARCH/SynEstRDDA\", \"pip\": [\"requests\", \"pendulum==2.1.2\"]}\n",
    "#ray.init(address='ray://172.17.163.253:10001', runtime_env=runtime_env, log_to_driver=False)\n",
    "# ray.init(address='ray://172.17.163.244:10001', runtime_env=runtime_env , log_to_driver=False, num_cpus=12)\n",
    "# ray.init(log_to_driver=False, num_cpus=12)"
   ]
  },
  {
   "cell_type": "code",
   "execution_count": null,
   "outputs": [],
   "source": [
    "# Parameters\n",
    "n_rdds = 5\n",
    "n_of_variables_rdda = 5\n",
    "n_of_signals_rdda = 2\n",
    "n_exit_variables = 2\n",
    "n_clauses_function = 2\n",
    "type_network = \"ALEATORY\"\n",
    "\n",
    "# Generate the RDDA\n",
    "o_rdda = RedRddasModel(number_of_rddas=n_rdds,number_of_variables_rdda=n_of_variables_rdda,number_of_signals_rdda=n_of_signals_rdda,number_exit_variables=n_exit_variables,number_clauses_function=n_clauses_function)\n",
    "\n",
    "# Show the RDDA\n",
    "o_rdda.show_description()\n",
    "\n",
    "# Generate the RDDs\n",
    "o_rdda.generate_rddas(type_network=type_network)\n",
    "\n",
    "# Show the list of RDDs\n",
    "o_rdda.show_rdds()\n",
    "\n",
    "# Find the attractors by RDD\n",
    "o_rdda = RedRddasModel.find_attractors_rddas(o_rdda)\n",
    "\n",
    "# Show the attractors of the RDDs by Signal\n",
    "o_rdda.show_attractors()\n",
    "\n",
    "# Calculation the Attractor Pairs\n",
    "o_rdda = RedRddasModel.calculation_compatible_pairs(o_rdda)\n",
    "\n",
    "# Show the list of attractor pairs\n",
    "o_rdda.show_attractor_pairs()\n",
    "\n",
    "# Assembly the attractor fields\n",
    "l_partial_paths = o_rdda.assembly_attractor_fields_pruning(o_rdda)\n",
    "\n",
    "# Show the list of attractor fields\n",
    "o_rdda.show_attractor_fields_detail()"
   ],
   "metadata": {
    "collapsed": false,
    "ExecuteTime": {
     "start_time": "2023-11-23T16:14:23.708391080Z"
    }
   }
  },
  {
   "cell_type": "code",
   "execution_count": null,
   "outputs": [],
   "source": [
    "# # partial_solutions = [ iteration = [] ]\n",
    "# for iteration in l_partial_solutions:\n",
    "#     print(\"Number of Partial Solutions:\", len(iteration))\n",
    "#     for partial_solution in iteration:\n",
    "#         print(\"Part :\", partial_solution)\n",
    "\n",
    "# print(o_rdda.list_signal_pairs)\n",
    "# for l_pairs in o_rdda.list_signal_pairs:\n",
    "#     print(\"Number of pairs from list :\", len(l_pairs))\n",
    "\n",
    "# Assembly the attractor fields and save the partial solutions\n",
    "df_exec_experiment = o_rdda.assembly_attractor_fields_experiment()\n",
    "df_exec_experiment"
   ],
   "metadata": {
    "collapsed": false,
    "ExecuteTime": {
     "start_time": "2023-11-23T16:14:23.708575690Z"
    }
   }
  },
  {
   "cell_type": "code",
   "execution_count": null,
   "outputs": [],
   "source": [
    "# Indicators about execution of the method\n",
    "df_exec_experiment['iterative_after'] = df_exec_experiment['base_list_iterative'] * df_exec_experiment['second_list_pairs']\n",
    "df_exec_experiment['percent_methods'] = 100 - ( (df_exec_experiment['base_list_after'] * 100) / df_exec_experiment['iterative_after'])\n",
    "df_exec_experiment"
   ],
   "metadata": {
    "collapsed": false,
    "ExecuteTime": {
     "start_time": "2023-11-23T16:14:23.708705337Z"
    }
   }
  },
  {
   "cell_type": "markdown",
   "source": [
    "### Graph the values of every method"
   ],
   "metadata": {
    "collapsed": false
   }
  },
  {
   "cell_type": "code",
   "execution_count": null,
   "outputs": [],
   "source": [
    "import matplotlib.pyplot as plt\n",
    "df_exec_experiment['id'] = range(1, len(df_exec_experiment) + 1)\n",
    "df_exec_experiment.set_index('id')\n",
    "df_exec_experiment"
   ],
   "metadata": {
    "collapsed": false,
    "ExecuteTime": {
     "start_time": "2023-11-23T16:14:23.708799860Z"
    }
   }
  },
  {
   "cell_type": "code",
   "execution_count": null,
   "outputs": [],
   "source": [
    "import matplotlib.pyplot as plt\n",
    "x_axs = list(df_exec_experiment['id'])\n",
    "y_axs_enumerate = list(df_exec_experiment['iterative_after'])\n",
    "y_axs_pruning = list(df_exec_experiment['base_list_after'])\n",
    "\n",
    "fig, ax = plt.subplots()\n",
    "ax.plot(x_axs, y_axs_enumerate, label=\"Enumerative\")\n",
    "ax.plot(x_axs, y_axs_pruning, label=\"Pruning\")\n",
    "ax.legend()\n",
    "plt.xlabel(\"Iteration\")\n",
    "plt.ylabel(\"Candidates\")\n",
    "plt.title(\"Benchmark beetwen Methods\")\n",
    "plt.savefig('data/exp_benchmark_enumerative_pruning_fig.eps')\n",
    "plt.show()"
   ],
   "metadata": {
    "collapsed": false,
    "ExecuteTime": {
     "start_time": "2023-11-23T16:14:23.708901635Z"
    }
   }
  },
  {
   "cell_type": "markdown",
   "source": [
    "### Generate the latex table with pandas"
   ],
   "metadata": {
    "collapsed": false
   }
  },
  {
   "cell_type": "code",
   "execution_count": null,
   "outputs": [],
   "source": [
    "df = df_exec_experiment[['first_list_pairs','second_list_pairs', 'base_list_after', 'iterative_after']].copy().\\\n",
    "    rename(columns={'first_list_pairs': 'Lista Base', 'second_list_pairs': 'Lista Adicionada', 'base_list_after': 'Precandidatos Podas', 'iterative_after' : 'Precandidatos Enumerativo'})\n",
    "df"
   ],
   "metadata": {
    "collapsed": false,
    "ExecuteTime": {
     "end_time": "2023-11-23T16:14:23.709726190Z",
     "start_time": "2023-11-23T16:14:23.709107940Z"
    }
   }
  },
  {
   "cell_type": "code",
   "execution_count": null,
   "outputs": [],
   "source": [
    "# Export Dataframe to Latex a\n",
    "print(df.to_latex(index=False))"
   ],
   "metadata": {
    "collapsed": false,
    "ExecuteTime": {
     "start_time": "2023-11-23T16:14:23.709177606Z"
    }
   }
  },
  {
   "cell_type": "markdown",
   "source": [
    "\n"
   ],
   "metadata": {
    "collapsed": false
   }
  },
  {
   "cell_type": "code",
   "execution_count": null,
   "outputs": [],
   "source": [
    "# Tree pruning in the Assembly of attractor fields\n",
    "# imports\n",
    "import matplotlib.pyplot as plt\n",
    "import networkx as nx\n",
    "import pydot\n",
    "from networkx.drawing.nx_pydot import graphviz_layout\n",
    "import numpy as np\n",
    "\n",
    "# Create Dictionary\n",
    "d_pairs = {}\n",
    "v_key = 1\n",
    "for v_pair in o_rdda.list_attractors_pairs:\n",
    "    d_pairs[v_key] = v_pair\n",
    "    v_key = v_key + 1\n",
    "\n",
    "# Show the dictionary and the\n",
    "for v_key, v_value in d_pairs.items():\n",
    "    print(v_key, \":\", v_value)\n",
    "\n",
    "# List all the partial paths in the assembly attractor fields method\n",
    "l_path_edge = []\n",
    "for l_path in l_partial_paths:\n",
    "    for path in l_path:\n",
    "        # print(path)\n",
    "        # select the final edges\n",
    "        l_path_edge.append(path[-2:])\n",
    "        # print(path[-2:])\n",
    "\n",
    "# fill the edges with dict\n",
    "l_edges_dict = []\n",
    "for v_edge in l_path_edge:\n",
    "    v_edge_dict = []\n",
    "    for key, value in d_pairs.items():\n",
    "        if value == v_edge[0]:\n",
    "            v_edge_dict.append(key)\n",
    "            # print(value)\n",
    "            # print(v_edge[0])\n",
    "            # print(key)\n",
    "    for key, value in d_pairs.items():\n",
    "        if value == v_edge[1]:\n",
    "            v_edge_dict.append(key)\n",
    "            # print(value)\n",
    "            # print(v_edge[1])\n",
    "            # print(key)\n",
    "    l_edges_dict.append(v_edge_dict)\n",
    "print(l_edges_dict)"
   ],
   "metadata": {
    "collapsed": false,
    "ExecuteTime": {
     "start_time": "2023-11-23T16:14:23.709239586Z"
    }
   }
  },
  {
   "cell_type": "code",
   "execution_count": null,
   "outputs": [],
   "source": [
    "# Tree pruning in the Assembly of attractor fields\n",
    "# imports\n",
    "import matplotlib.pyplot as plt\n",
    "import networkx as nx\n",
    "import pydot\n",
    "from networkx.drawing.nx_pydot import graphviz_layout\n",
    "import numpy as np\n",
    "\n",
    "# Generate the graph with the paths\n",
    "T = nx.Graph()\n",
    "# T.add_nodes_from(d_pairs.keys())\n",
    "T.add_edges_from(l_edges_dict)\n",
    "\n",
    "# Generate the Layout with dot\n",
    "pos = graphviz_layout(T, prog=\"dot\")\n",
    "# Fix the position problem, string to int\n",
    "aux_pos ={}\n",
    "for key in pos.keys():\n",
    "    aux_pos[int(key)] = pos[key]\n",
    "pos = aux_pos\n",
    "# Generate the graph with the data an information\n",
    "nx.draw_networkx(T, pos, font_size=10)\n",
    "# Show the graph with parameters\n",
    "plt.figure(figsize=(1200,600), dpi=900)\n",
    "plt.show()"
   ],
   "metadata": {
    "collapsed": false,
    "ExecuteTime": {
     "start_time": "2023-11-23T16:14:23.709299941Z"
    }
   }
  },
  {
   "cell_type": "markdown",
   "source": [
    "# Generate full tree for enumerate method"
   ],
   "metadata": {
    "collapsed": false
   }
  },
  {
   "cell_type": "code",
   "execution_count": null,
   "outputs": [],
   "source": [
    "# Generate the edges\n",
    "l_aux = []\n",
    "v_begin = 1\n",
    "for element in o_rdda.list_signal_pairs:\n",
    "    l_aux.append(list(range(v_begin , v_begin + len(element))))\n",
    "    v_begin = v_begin + len(element)\n",
    "# for element in l_aux:\n",
    "#     print(element)\n",
    "\n",
    "l_path_edge = []\n",
    "for v_index in range(0,len(l_aux)-1):\n",
    "    l_path_edge = l_path_edge + list(product(l_aux[v_index],l_aux[v_index+1]))\n",
    "    # print(l_path_edge)\n",
    "\n",
    "# Generate the graph with the paths\n",
    "T = nx.Graph()\n",
    "T.add_edges_from(l_path_edge)\n",
    "\n",
    "# Generate the Layout with dot\n",
    "pos = graphviz_layout(T, prog=\"dot\")\n",
    "# Fix the position problem, string to int\n",
    "aux_pos ={}\n",
    "for key in pos.keys():\n",
    "    aux_pos[int(key)] = pos[key]\n",
    "pos = aux_pos\n",
    "# Generate the graph with the data an information\n",
    "nx.draw_networkx(T, pos, font_size=10)\n",
    "# Show the graph with parameters\n",
    "plt.figure(figsize=(1200,600), dpi=900)\n",
    "plt.show()"
   ],
   "metadata": {
    "collapsed": false,
    "ExecuteTime": {
     "start_time": "2023-11-23T16:14:23.709384838Z"
    }
   }
  }
 ],
 "metadata": {
  "kernelspec": {
   "display_name": "Python 3",
   "language": "python",
   "name": "python3"
  },
  "language_info": {
   "codemirror_mode": {
    "name": "ipython",
    "version": 2
   },
   "file_extension": ".py",
   "mimetype": "text/x-python",
   "name": "python",
   "nbconvert_exporter": "python",
   "pygments_lexer": "ipython2",
   "version": "2.7.6"
  }
 },
 "nbformat": 4,
 "nbformat_minor": 0
}
