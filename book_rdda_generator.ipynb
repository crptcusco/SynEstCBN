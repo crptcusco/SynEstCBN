{
 "cells": [
  {
   "cell_type": "code",
   "execution_count": 10,
   "metadata": {
    "collapsed": true
   },
   "outputs": [
    {
     "name": "stdout",
     "output_type": "stream",
     "text": [
      "generating the Network of RDDAs ...\n",
      "generating the rddas ...\n",
      "RDDA :  1\n",
      "VARIABLES :  [1, 2, 3, 4, 5]\n",
      "RDDA :  2\n",
      "VARIABLES :  [6, 7, 8, 9, 10]\n",
      "RDDA :  3\n",
      "VARIABLES :  [11, 12, 13, 14, 15]\n",
      "RDDA :  4\n",
      "VARIABLES :  [16, 17, 18, 19, 20]\n",
      "Generating the True Table\n",
      "A ∨ B\n",
      "{'10': 'A', '8': 'B'}\n",
      "{'A': True, 'B': True}\n",
      "A ∨ B\n",
      "{'10': 'A', '8': 'B'}\n",
      "{'A': True, 'B': False}\n",
      "A ∨ B\n",
      "{'10': 'A', '8': 'B'}\n",
      "{'A': False, 'B': True}\n",
      "A ∨ B\n",
      "{'10': 'A', '8': 'B'}\n",
      "{'A': False, 'B': False}\n",
      "Network Input : 1\n",
      "Network Output : 2\n",
      "Variables : [10, 8]\n",
      "Name Variable : 21\n",
      "Coupling Function : 10 ∨ 8\n",
      "Truth Table: {'11': '1', '10': '1', '01': '1', '00': '0'}\n",
      "Generating the True Table\n",
      "A ∨ B\n",
      "{'16': 'A', '17': 'B'}\n",
      "{'A': True, 'B': True}\n",
      "A ∨ B\n",
      "{'16': 'A', '17': 'B'}\n",
      "{'A': True, 'B': False}\n",
      "A ∨ B\n",
      "{'16': 'A', '17': 'B'}\n",
      "{'A': False, 'B': True}\n",
      "A ∨ B\n",
      "{'16': 'A', '17': 'B'}\n",
      "{'A': False, 'B': False}\n",
      "Network Input : 1\n",
      "Network Output : 4\n",
      "Variables : [16, 17]\n",
      "Name Variable : 22\n",
      "Coupling Function : 16 ∨ 17\n",
      "Truth Table: {'11': '1', '10': '1', '01': '1', '00': '0'}\n",
      "Generating the True Table\n",
      "A ∨ B\n",
      "{'11': 'A', '14': 'B'}\n",
      "{'A': True, 'B': True}\n",
      "A ∨ B\n",
      "{'11': 'A', '14': 'B'}\n",
      "{'A': True, 'B': False}\n",
      "A ∨ B\n",
      "{'11': 'A', '14': 'B'}\n",
      "{'A': False, 'B': True}\n",
      "A ∨ B\n",
      "{'11': 'A', '14': 'B'}\n",
      "{'A': False, 'B': False}\n",
      "Network Input : 2\n",
      "Network Output : 3\n",
      "Variables : [11, 14]\n",
      "Name Variable : 23\n",
      "Coupling Function : 11 ∨ 14\n",
      "Truth Table: {'11': '1', '10': '1', '01': '1', '00': '0'}\n",
      "Generating the True Table\n",
      "A ∨ B\n",
      "{'8': 'A', '9': 'B'}\n",
      "{'A': True, 'B': True}\n",
      "A ∨ B\n",
      "{'8': 'A', '9': 'B'}\n",
      "{'A': True, 'B': False}\n",
      "A ∨ B\n",
      "{'8': 'A', '9': 'B'}\n",
      "{'A': False, 'B': True}\n",
      "A ∨ B\n",
      "{'8': 'A', '9': 'B'}\n",
      "{'A': False, 'B': False}\n",
      "Network Input : 3\n",
      "Network Output : 2\n",
      "Variables : [8, 9]\n",
      "Name Variable : 24\n",
      "Coupling Function : 8 ∨ 9\n",
      "Truth Table: {'11': '1', '10': '1', '01': '1', '00': '0'}\n",
      "Generating the True Table\n",
      "A ∨ B\n",
      "{'14': 'A', '11': 'B'}\n",
      "{'A': True, 'B': True}\n",
      "A ∨ B\n",
      "{'14': 'A', '11': 'B'}\n",
      "{'A': True, 'B': False}\n",
      "A ∨ B\n",
      "{'14': 'A', '11': 'B'}\n",
      "{'A': False, 'B': True}\n",
      "A ∨ B\n",
      "{'14': 'A', '11': 'B'}\n",
      "{'A': False, 'B': False}\n",
      "Network Input : 4\n",
      "Network Output : 3\n",
      "Variables : [14, 11]\n",
      "Name Variable : 25\n",
      "Coupling Function : 14 ∨ 11\n",
      "Truth Table: {'11': '1', '10': '1', '01': '1', '00': '0'}\n",
      "RDDA CREATED\n",
      "RDDA CREATED\n",
      "RDDA CREATED\n",
      "RDDA CREATED\n"
     ]
    }
   ],
   "source": [
    "from clases.red_rddas_model import RedRddasModel\n",
    "\n",
    "# PROGRAM TO FIND STABILITY AND SYNCHRONISE IN RDDA\n",
    "# Receiving the parameters\n",
    "n_of_rddas = 4\n",
    "n_of_variables_rdda = 5\n",
    "n_of_signals_rdda = 2\n",
    "n_exit_variables = 2\n",
    "n_clauses_function = 2\n",
    "type_network = \"ALEATORY\"\n",
    "# this name has to be unique\n",
    "unique_path = \"06_04_2022\"\n",
    "path = \"files/\" + unique_path + \"_\" + str(n_of_rddas) + \"_\" + str(n_of_variables_rdda) + \"_\" + str(n_of_signals_rdda) \\\n",
    "       + \"_\" + str(n_exit_variables) + \"_\" + str(n_clauses_function)\n",
    "\n",
    "# generate the RDDAs of the Network of RDDAs\n",
    "print(\"generating the Network of RDDAs ...\")\n",
    "oRedRddasModel = RedRddasModel(n_of_rddas, n_of_variables_rdda, n_of_signals_rdda, n_exit_variables,\n",
    "                               n_clauses_function)\n",
    "\n",
    "# generate the RDDAs\n",
    "print(\"generating the rddas ...\")\n",
    "oRedRddasModel.generate_rddas(type_network=type_network)"
   ]
  },
  {
   "cell_type": "code",
   "execution_count": 11,
   "outputs": [
    {
     "name": "stdout",
     "output_type": "stream",
     "text": [
      "\u001B[2m\u001B[36m(findLocalAtractorsSATSatispy pid=12770)\u001B[0m RED NUMBER : 1 PERMUTATION SIGNAL COUPLING: 00\n",
      "\u001B[2m\u001B[36m(find_attractors_rddas pid=12773)\u001B[0m BEGIN CALCULATE ALL LOCAL ATTRACTORS BY PERMUTATION\n",
      "\u001B[2m\u001B[36m(findLocalAtractorsSATSatispy pid=12770)\u001B[0m The expression cannot be satisfied\n",
      "\u001B[2m\u001B[36m(findLocalAtractorsSATSatispy pid=12770)\u001B[0m RED NUMBER : 1 PERMUTATION SIGNAL COUPLING: 01\n",
      "\u001B[2m\u001B[36m(findLocalAtractorsSATSatispy pid=12770)\u001B[0m The expression cannot be satisfied\n",
      "\u001B[2m\u001B[36m(findLocalAtractorsSATSatispy pid=12770)\u001B[0m RED NUMBER : 1 PERMUTATION SIGNAL COUPLING: 10\n",
      "\u001B[2m\u001B[36m(findLocalAtractorsSATSatispy pid=12770)\u001B[0m The expression cannot be satisfied\n",
      "\u001B[2m\u001B[36m(findLocalAtractorsSATSatispy pid=12770)\u001B[0m RED NUMBER : 1 PERMUTATION SIGNAL COUPLING: 11\n",
      "\u001B[2m\u001B[36m(findLocalAtractorsSATSatispy pid=12770)\u001B[0m The expression cannot be satisfied\n",
      "\u001B[2m\u001B[36m(findLocalAtractorsSATSatispy pid=12770)\u001B[0m RED NUMBER : 2 PERMUTATION SIGNAL COUPLING: 0\n",
      "\u001B[2m\u001B[36m(findLocalAtractorsSATSatispy pid=12770)\u001B[0m The expression cannot be satisfied\n",
      "\u001B[2m\u001B[36m(findLocalAtractorsSATSatispy pid=12770)\u001B[0m RED NUMBER : 2 PERMUTATION SIGNAL COUPLING: 1\n",
      "\u001B[2m\u001B[36m(findLocalAtractorsSATSatispy pid=12770)\u001B[0m The expression cannot be satisfied\n",
      "\u001B[2m\u001B[36m(findLocalAtractorsSATSatispy pid=12770)\u001B[0m RED NUMBER : 3 PERMUTATION SIGNAL COUPLING: 0\n",
      "\u001B[2m\u001B[36m(findLocalAtractorsSATSatispy pid=12770)\u001B[0m The expression cannot be satisfied\n",
      "\u001B[2m\u001B[36m(findLocalAtractorsSATSatispy pid=12770)\u001B[0m RED NUMBER : 3 PERMUTATION SIGNAL COUPLING: 1\n",
      "\u001B[2m\u001B[36m(findLocalAtractorsSATSatispy pid=12770)\u001B[0m The expression cannot be satisfied\n",
      "\u001B[2m\u001B[36m(findLocalAtractorsSATSatispy pid=12770)\u001B[0m RED NUMBER : 4 PERMUTATION SIGNAL COUPLING: 0\n",
      "\u001B[2m\u001B[36m(findLocalAtractorsSATSatispy pid=12770)\u001B[0m The expression cannot be satisfied\n",
      "\u001B[2m\u001B[36m(findLocalAtractorsSATSatispy pid=12770)\u001B[0m RED NUMBER : 4 PERMUTATION SIGNAL COUPLING: 1\n",
      "\u001B[2m\u001B[36m(findLocalAtractorsSATSatispy pid=12770)\u001B[0m The expression cannot be satisfied\n",
      "\u001B[2m\u001B[36m(find_attractors_rddas pid=12773)\u001B[0m END CALCULATE ALL LOCAL ATTRACTORS\n",
      "\u001B[2m\u001B[36m(find_attractors_rddas pid=12773)\u001B[0m ######################################################\n"
     ]
    }
   ],
   "source": [
    "import ray\n",
    "# Calculate the Attractors by RDDA and by Signal\n",
    "result = RedRddasModel.find_attractors_rddas.remote(oRedRddasModel)\n",
    "oRedRddasModel = ray.get(result)"
   ],
   "metadata": {
    "collapsed": false,
    "pycharm": {
     "name": "#%%\n"
    }
   }
  },
  {
   "cell_type": "code",
   "execution_count": 12,
   "outputs": [
    {
     "name": "stdout",
     "output_type": "stream",
     "text": [
      "file : files/06_04_2022_4_5_2_2_2.pickle saved\n",
      "=======================================================\n",
      "The Network of RDDAs is saved in:  files/06_04_2022_4_5_2_2_2.pickle\n",
      "END SCRIPT\n"
     ]
    }
   ],
   "source": [
    "# Save the Network of RDDAs in a Pickle file\n",
    "RedRddasModel.save_file_pickle(oRedRddasModel, path)\n",
    "path += \".pickle\"\n",
    "\n",
    "print(\"=======================================================\")\n",
    "print(\"The Network of RDDAs is saved in: \", path)\n",
    "\n",
    "# Load the Network of RDDAs in a Pickle file\n",
    "# oRedRddasModel2 = RedRddasModel.load_file_pickle(path)\n",
    "\n",
    "# Show the Network of RDDAs\n",
    "# oRedRddasModel2.show()\n",
    "\n",
    "print(\"END SCRIPT\")"
   ],
   "metadata": {
    "collapsed": false,
    "pycharm": {
     "name": "#%%\n"
    }
   }
  }
 ],
 "metadata": {
  "kernelspec": {
   "display_name": "Python 3",
   "language": "python",
   "name": "python3"
  },
  "language_info": {
   "codemirror_mode": {
    "name": "ipython",
    "version": 2
   },
   "file_extension": ".py",
   "mimetype": "text/x-python",
   "name": "python",
   "nbconvert_exporter": "python",
   "pygments_lexer": "ipython2",
   "version": "2.7.6"
  }
 },
 "nbformat": 4,
 "nbformat_minor": 0
}