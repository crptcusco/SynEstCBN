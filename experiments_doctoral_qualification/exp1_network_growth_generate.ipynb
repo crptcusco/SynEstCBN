{
 "cells": [
  {
   "cell_type": "markdown",
   "source": [
    "# Experiment : Network growth"
   ],
   "metadata": {
    "collapsed": false,
    "pycharm": {
     "name": "#%% md\n"
    }
   }
  },
  {
   "cell_type": "markdown",
   "source": [
    "## Init the Ray client"
   ],
   "metadata": {
    "collapsed": false,
    "pycharm": {
     "name": "#%% md\n"
    }
   }
  },
  {
   "cell_type": "code",
   "execution_count": 1,
   "outputs": [
    {
     "data": {
      "text/plain": "RayContext(dashboard_url='', python_version='3.8.10', ray_version='1.13.0', ray_commit='e4ce38d001dbbe09cd21c497fedd03d692b2be3e', address_info={'node_ip_address': '172.17.163.244', 'raylet_ip_address': '172.17.163.244', 'redis_address': None, 'object_store_address': '/tmp/ray/session_2022-07-20_19-09-20_667223_104082/sockets/plasma_store', 'raylet_socket_name': '/tmp/ray/session_2022-07-20_19-09-20_667223_104082/sockets/raylet', 'webui_url': '', 'session_dir': '/tmp/ray/session_2022-07-20_19-09-20_667223_104082', 'metrics_export_port': 63058, 'gcs_address': '172.17.163.244:61819', 'address': '172.17.163.244:61819', 'node_id': '3be6b57912f2be3a881a4b13c9f741dce488f7d8075e579da5d0324a'})"
     },
     "execution_count": 1,
     "metadata": {},
     "output_type": "execute_result"
    }
   ],
   "source": [
    "# Imports\n",
    "from clases.red_rddas_model import RedRddasModel\n",
    "import ray\n",
    "import time\n",
    "import pandas as pd\n",
    "\n",
    "# Ray Configurations\n",
    "# runtime_env = {\"working_dir\": \"/home/carlos/Documents/RESEARCH/SynEstRDDA\", \"pip\": [\"requests\", \"pendulum==2.1.2\"]}\n",
    "# ray.init(address='ray://172.17.163.253:10001', runtime_env=runtime_env , log_to_driver=False)\n",
    "# ray.init(address='ray://172.17.163.244:10001', runtime_env=runtime_env , log_to_driver=False)\n",
    "ray.init(log_to_driver=False, num_cpus=12)"
   ],
   "metadata": {
    "collapsed": false,
    "pycharm": {
     "name": "#%%\n"
    }
   }
  },
  {
   "cell_type": "markdown",
   "source": [
    "### Generate the Samples and recollected the indicators"
   ],
   "metadata": {
    "collapsed": false,
    "pycharm": {
     "name": "#%% md\n"
    }
   }
  },
  {
   "cell_type": "code",
   "execution_count": 2,
   "outputs": [
    {
     "name": "stdout",
     "output_type": "stream",
     "text": [
      "============================\n",
      "Experiment: 1\n",
      "============================\n",
      "Number of Network: 1\n",
      "-------------------------------\n",
      "generating the Network of RDDAs ...\n",
      "generating the rdds ...\n",
      "Number of Network: 2\n",
      "-------------------------------\n",
      "generating the Network of RDDAs ...\n",
      "generating the rdds ...\n",
      "Number of Network: 3\n",
      "-------------------------------\n",
      "generating the Network of RDDAs ...\n",
      "generating the rdds ...\n",
      "Number of Network: 4\n",
      "-------------------------------\n",
      "generating the Network of RDDAs ...\n",
      "generating the rdds ...\n",
      "Number of Network: 5\n",
      "-------------------------------\n",
      "generating the Network of RDDAs ...\n",
      "generating the rdds ...\n",
      "Number of Network: 6\n",
      "-------------------------------\n",
      "generating the Network of RDDAs ...\n",
      "generating the rdds ...\n",
      "Number of Network: 7\n",
      "-------------------------------\n",
      "generating the Network of RDDAs ...\n",
      "generating the rdds ...\n",
      "Number of Network: 8\n",
      "-------------------------------\n",
      "generating the Network of RDDAs ...\n",
      "generating the rdds ...\n",
      "============================\n",
      "Experiment: 2\n",
      "============================\n",
      "Number of Network: 1\n",
      "-------------------------------\n",
      "generating the Network of RDDAs ...\n",
      "generating the rdds ...\n",
      "Number of Network: 2\n",
      "-------------------------------\n",
      "generating the Network of RDDAs ...\n",
      "generating the rdds ...\n",
      "Number of Network: 3\n",
      "-------------------------------\n",
      "generating the Network of RDDAs ...\n",
      "generating the rdds ...\n",
      "Number of Network: 4\n",
      "-------------------------------\n",
      "generating the Network of RDDAs ...\n",
      "generating the rdds ...\n",
      "Number of Network: 5\n",
      "-------------------------------\n",
      "generating the Network of RDDAs ...\n",
      "generating the rdds ...\n",
      "Number of Network: 6\n",
      "-------------------------------\n",
      "generating the Network of RDDAs ...\n",
      "generating the rdds ...\n",
      "Number of Network: 7\n",
      "-------------------------------\n",
      "generating the Network of RDDAs ...\n",
      "generating the rdds ...\n",
      "Number of Network: 8\n",
      "-------------------------------\n",
      "generating the Network of RDDAs ...\n",
      "generating the rdds ...\n",
      "============================\n",
      "Experiment: 3\n",
      "============================\n",
      "Number of Network: 1\n",
      "-------------------------------\n",
      "generating the Network of RDDAs ...\n",
      "generating the rdds ...\n",
      "Number of Network: 2\n",
      "-------------------------------\n",
      "generating the Network of RDDAs ...\n",
      "generating the rdds ...\n",
      "Number of Network: 3\n",
      "-------------------------------\n",
      "generating the Network of RDDAs ...\n",
      "generating the rdds ...\n",
      "Number of Network: 4\n",
      "-------------------------------\n",
      "generating the Network of RDDAs ...\n",
      "generating the rdds ...\n",
      "Number of Network: 5\n",
      "-------------------------------\n",
      "generating the Network of RDDAs ...\n",
      "generating the rdds ...\n",
      "Number of Network: 6\n",
      "-------------------------------\n",
      "generating the Network of RDDAs ...\n",
      "generating the rdds ...\n",
      "Number of Network: 7\n",
      "-------------------------------\n",
      "generating the Network of RDDAs ...\n",
      "generating the rdds ...\n",
      "Number of Network: 8\n",
      "-------------------------------\n",
      "generating the Network of RDDAs ...\n",
      "generating the rdds ...\n",
      "============================\n",
      "Experiment: 4\n",
      "============================\n",
      "Number of Network: 1\n",
      "-------------------------------\n",
      "generating the Network of RDDAs ...\n",
      "generating the rdds ...\n",
      "Number of Network: 2\n",
      "-------------------------------\n",
      "generating the Network of RDDAs ...\n",
      "generating the rdds ...\n",
      "Number of Network: 3\n",
      "-------------------------------\n",
      "generating the Network of RDDAs ...\n",
      "generating the rdds ...\n",
      "Number of Network: 4\n",
      "-------------------------------\n",
      "generating the Network of RDDAs ...\n",
      "generating the rdds ...\n",
      "Number of Network: 5\n",
      "-------------------------------\n",
      "generating the Network of RDDAs ...\n",
      "generating the rdds ...\n",
      "Number of Network: 6\n",
      "-------------------------------\n",
      "generating the Network of RDDAs ...\n",
      "generating the rdds ...\n",
      "Number of Network: 7\n",
      "-------------------------------\n",
      "generating the Network of RDDAs ...\n",
      "generating the rdds ...\n",
      "Number of Network: 8\n",
      "-------------------------------\n",
      "generating the Network of RDDAs ...\n",
      "generating the rdds ...\n"
     ]
    },
    {
     "ename": "KeyboardInterrupt",
     "evalue": "",
     "output_type": "error",
     "traceback": [
      "\u001B[0;31m---------------------------------------------------------------------------\u001B[0m",
      "\u001B[0;31mKeyboardInterrupt\u001B[0m                         Traceback (most recent call last)",
      "\u001B[0;32m<ipython-input-2-2c68e82c9502>\u001B[0m in \u001B[0;36m<module>\u001B[0;34m\u001B[0m\n\u001B[1;32m     61\u001B[0m         \u001B[0mv_begin_2\u001B[0m \u001B[0;34m=\u001B[0m \u001B[0mtime\u001B[0m\u001B[0;34m.\u001B[0m\u001B[0mtime\u001B[0m\u001B[0;34m(\u001B[0m\u001B[0;34m)\u001B[0m\u001B[0;34m\u001B[0m\u001B[0;34m\u001B[0m\u001B[0m\n\u001B[1;32m     62\u001B[0m         \u001B[0mresult\u001B[0m \u001B[0;34m=\u001B[0m \u001B[0mRedRddasModel\u001B[0m\u001B[0;34m.\u001B[0m\u001B[0massembly_attractor_fields_optimized\u001B[0m\u001B[0;34m.\u001B[0m\u001B[0mremote\u001B[0m\u001B[0;34m(\u001B[0m\u001B[0moRedRddasModel\u001B[0m\u001B[0;34m)\u001B[0m\u001B[0;34m\u001B[0m\u001B[0;34m\u001B[0m\u001B[0m\n\u001B[0;32m---> 63\u001B[0;31m         \u001B[0moRedRddasModel\u001B[0m \u001B[0;34m=\u001B[0m \u001B[0mray\u001B[0m\u001B[0;34m.\u001B[0m\u001B[0mget\u001B[0m\u001B[0;34m(\u001B[0m\u001B[0mresult\u001B[0m\u001B[0;34m)\u001B[0m\u001B[0;34m\u001B[0m\u001B[0;34m\u001B[0m\u001B[0m\n\u001B[0m\u001B[1;32m     64\u001B[0m         \u001B[0mv_end_2\u001B[0m \u001B[0;34m=\u001B[0m \u001B[0mtime\u001B[0m\u001B[0;34m.\u001B[0m\u001B[0mtime\u001B[0m\u001B[0;34m(\u001B[0m\u001B[0;34m)\u001B[0m\u001B[0;34m\u001B[0m\u001B[0;34m\u001B[0m\u001B[0m\n\u001B[1;32m     65\u001B[0m         \u001B[0mv_time_2\u001B[0m \u001B[0;34m=\u001B[0m \u001B[0mv_end_2\u001B[0m \u001B[0;34m-\u001B[0m \u001B[0mv_begin_2\u001B[0m\u001B[0;34m\u001B[0m\u001B[0;34m\u001B[0m\u001B[0m\n",
      "\u001B[0;32m~/.local/lib/python3.8/site-packages/ray/_private/client_mode_hook.py\u001B[0m in \u001B[0;36mwrapper\u001B[0;34m(*args, **kwargs)\u001B[0m\n\u001B[1;32m    103\u001B[0m             \u001B[0;32mif\u001B[0m \u001B[0mfunc\u001B[0m\u001B[0;34m.\u001B[0m\u001B[0m__name__\u001B[0m \u001B[0;34m!=\u001B[0m \u001B[0;34m\"init\"\u001B[0m \u001B[0;32mor\u001B[0m \u001B[0mis_client_mode_enabled_by_default\u001B[0m\u001B[0;34m:\u001B[0m\u001B[0;34m\u001B[0m\u001B[0;34m\u001B[0m\u001B[0m\n\u001B[1;32m    104\u001B[0m                 \u001B[0;32mreturn\u001B[0m \u001B[0mgetattr\u001B[0m\u001B[0;34m(\u001B[0m\u001B[0mray\u001B[0m\u001B[0;34m,\u001B[0m \u001B[0mfunc\u001B[0m\u001B[0;34m.\u001B[0m\u001B[0m__name__\u001B[0m\u001B[0;34m)\u001B[0m\u001B[0;34m(\u001B[0m\u001B[0;34m*\u001B[0m\u001B[0margs\u001B[0m\u001B[0;34m,\u001B[0m \u001B[0;34m**\u001B[0m\u001B[0mkwargs\u001B[0m\u001B[0;34m)\u001B[0m\u001B[0;34m\u001B[0m\u001B[0;34m\u001B[0m\u001B[0m\n\u001B[0;32m--> 105\u001B[0;31m         \u001B[0;32mreturn\u001B[0m \u001B[0mfunc\u001B[0m\u001B[0;34m(\u001B[0m\u001B[0;34m*\u001B[0m\u001B[0margs\u001B[0m\u001B[0;34m,\u001B[0m \u001B[0;34m**\u001B[0m\u001B[0mkwargs\u001B[0m\u001B[0;34m)\u001B[0m\u001B[0;34m\u001B[0m\u001B[0;34m\u001B[0m\u001B[0m\n\u001B[0m\u001B[1;32m    106\u001B[0m \u001B[0;34m\u001B[0m\u001B[0m\n\u001B[1;32m    107\u001B[0m     \u001B[0;32mreturn\u001B[0m \u001B[0mwrapper\u001B[0m\u001B[0;34m\u001B[0m\u001B[0;34m\u001B[0m\u001B[0m\n",
      "\u001B[0;32m~/.local/lib/python3.8/site-packages/ray/worker.py\u001B[0m in \u001B[0;36mget\u001B[0;34m(object_refs, timeout)\u001B[0m\n\u001B[1;32m   1823\u001B[0m \u001B[0;34m\u001B[0m\u001B[0m\n\u001B[1;32m   1824\u001B[0m         \u001B[0;31m# TODO(ujvl): Consider how to allow user to retrieve the ready objects.\u001B[0m\u001B[0;34m\u001B[0m\u001B[0;34m\u001B[0m\u001B[0;34m\u001B[0m\u001B[0m\n\u001B[0;32m-> 1825\u001B[0;31m         \u001B[0mvalues\u001B[0m\u001B[0;34m,\u001B[0m \u001B[0mdebugger_breakpoint\u001B[0m \u001B[0;34m=\u001B[0m \u001B[0mworker\u001B[0m\u001B[0;34m.\u001B[0m\u001B[0mget_objects\u001B[0m\u001B[0;34m(\u001B[0m\u001B[0mobject_refs\u001B[0m\u001B[0;34m,\u001B[0m \u001B[0mtimeout\u001B[0m\u001B[0;34m=\u001B[0m\u001B[0mtimeout\u001B[0m\u001B[0;34m)\u001B[0m\u001B[0;34m\u001B[0m\u001B[0;34m\u001B[0m\u001B[0m\n\u001B[0m\u001B[1;32m   1826\u001B[0m         \u001B[0;32mfor\u001B[0m \u001B[0mi\u001B[0m\u001B[0;34m,\u001B[0m \u001B[0mvalue\u001B[0m \u001B[0;32min\u001B[0m \u001B[0menumerate\u001B[0m\u001B[0;34m(\u001B[0m\u001B[0mvalues\u001B[0m\u001B[0;34m)\u001B[0m\u001B[0;34m:\u001B[0m\u001B[0;34m\u001B[0m\u001B[0;34m\u001B[0m\u001B[0m\n\u001B[1;32m   1827\u001B[0m             \u001B[0;32mif\u001B[0m \u001B[0misinstance\u001B[0m\u001B[0;34m(\u001B[0m\u001B[0mvalue\u001B[0m\u001B[0;34m,\u001B[0m \u001B[0mRayError\u001B[0m\u001B[0;34m)\u001B[0m\u001B[0;34m:\u001B[0m\u001B[0;34m\u001B[0m\u001B[0;34m\u001B[0m\u001B[0m\n",
      "\u001B[0;32m~/.local/lib/python3.8/site-packages/ray/worker.py\u001B[0m in \u001B[0;36mget_objects\u001B[0;34m(self, object_refs, timeout)\u001B[0m\n\u001B[1;32m    362\u001B[0m \u001B[0;34m\u001B[0m\u001B[0m\n\u001B[1;32m    363\u001B[0m         \u001B[0mtimeout_ms\u001B[0m \u001B[0;34m=\u001B[0m \u001B[0mint\u001B[0m\u001B[0;34m(\u001B[0m\u001B[0mtimeout\u001B[0m \u001B[0;34m*\u001B[0m \u001B[0;36m1000\u001B[0m\u001B[0;34m)\u001B[0m \u001B[0;32mif\u001B[0m \u001B[0mtimeout\u001B[0m \u001B[0;32melse\u001B[0m \u001B[0;34m-\u001B[0m\u001B[0;36m1\u001B[0m\u001B[0;34m\u001B[0m\u001B[0;34m\u001B[0m\u001B[0m\n\u001B[0;32m--> 364\u001B[0;31m         data_metadata_pairs = self.core_worker.get_objects(\n\u001B[0m\u001B[1;32m    365\u001B[0m             \u001B[0mobject_refs\u001B[0m\u001B[0;34m,\u001B[0m \u001B[0mself\u001B[0m\u001B[0;34m.\u001B[0m\u001B[0mcurrent_task_id\u001B[0m\u001B[0;34m,\u001B[0m \u001B[0mtimeout_ms\u001B[0m\u001B[0;34m\u001B[0m\u001B[0;34m\u001B[0m\u001B[0m\n\u001B[1;32m    366\u001B[0m         )\n",
      "\u001B[0;32mpython/ray/_raylet.pyx\u001B[0m in \u001B[0;36mray._raylet.CoreWorker.get_objects\u001B[0;34m()\u001B[0m\n",
      "\u001B[0;32mpython/ray/_raylet.pyx\u001B[0m in \u001B[0;36mray._raylet.check_status\u001B[0;34m()\u001B[0m\n",
      "\u001B[0;31mKeyboardInterrupt\u001B[0m: "
     ]
    }
   ],
   "source": [
    "# Take the time of all Experiment\n",
    "v_begin_exp = time.time()\n",
    "# Experiment for RDD variation\n",
    "    print(\"============================\")\n",
    "    print(\"Experiment:\", cont_experiment)\n",
    "    print(\"============================\")\n",
    "\n",
    "    # Variable Parameters\n",
    "    n_rddas_min = 3\n",
    "    n_rddas_max = 10\n",
    "\n",
    "    # Fixed Parameters\n",
    "    n_of_variables_rdda = 5\n",
    "    n_of_signals_rdda = 2\n",
    "    n_exit_variables = 2\n",
    "    n_clauses_function = 2\n",
    "    type_network = \"ALEATORY\"\n",
    "\n",
    "    # List of Result for the Experiments\n",
    "    l_res_sample = []\n",
    "\n",
    "    v_n_network = 1\n",
    "    for n_of_rdds in range(n_rddas_min, n_rddas_max + 1):\n",
    "        print(\"Number of Network:\", v_n_network)\n",
    "        print(\"-------------------------------\")\n",
    "\n",
    "        # generate the RDDAs of the Network of RDDAs\n",
    "        print(\"generating the Network of RDDAs ...\")\n",
    "        oRedRddasModel = RedRddasModel(n_of_rdds, n_of_variables_rdda, n_of_signals_rdda, n_exit_variables,\n",
    "                                       n_clauses_function)\n",
    "\n",
    "        # Generate the RDDs\n",
    "        print(\"generating the rdds ...\")\n",
    "        oRedRddasModel.generate_rddas(type_network=type_network)\n",
    "\n",
    "        # Calculate the Attractors by RDDA and by Signal\n",
    "        v_begin_0 = time.time()\n",
    "        result = RedRddasModel.find_attractors_rddas_ray.remote(oRedRddasModel)\n",
    "        oRedRddasModel = ray.get(result)\n",
    "        v_end_0 = time.time()\n",
    "        v_time_0 = v_end_0 - v_begin_0\n",
    "\n",
    "        # Calculate the Attractors by RDDA and by Signal\n",
    "        v_begin_1 = time.time()\n",
    "        result = RedRddasModel.calculation_compatible_pairs.remote(oRedRddasModel)\n",
    "        oRedRddasModel = ray.get(result)\n",
    "        v_end_1 = time.time()\n",
    "        v_time_1 = v_end_1 - v_begin_1\n",
    "\n",
    "        # # Calculate the Attractors by RDDA and by Signal with iterative Method\n",
    "        # v_begin_1 = time.time()\n",
    "        # # result = RedRddasModel.assembly_attractor_fields_iterative.remote(oRedRddasModel)\n",
    "        # # oRedRddasModel = ray.get(result)\n",
    "        # v_end_1 = time.time()\n",
    "        # v_time_1 = v_end_1 - v_begin_1\n",
    "\n",
    "        # Calculate the Attractors by RDDA and by Signal with optimized Method\n",
    "        v_begin_2 = time.time()\n",
    "        result = RedRddasModel.assembly_attractor_fields_optimized.remote(oRedRddasModel)\n",
    "        oRedRddasModel = ray.get(result)\n",
    "        v_end_2 = time.time()\n",
    "        v_time_2 = v_end_2 - v_begin_2\n",
    "\n",
    "        # Save the results for the experiment , numeric and time indicators\n",
    "        res_dict = {\n",
    "                    \"n_network\": v_n_network,\n",
    "                    \"n_rdds\": n_of_rdds,\n",
    "                    \"n_rdda_attractors\": len(oRedRddasModel.d_global_rdda_attractor.items()),\n",
    "                    \"t_find_attractors_method\": v_time_0,\n",
    "                    \"n_pair_attractors\": len(oRedRddasModel.list_attractors_pairs),\n",
    "                    \"t_comp_paris_method\": v_time_1,\n",
    "                    \"n_attractor_fields\": len(oRedRddasModel.attractor_fields),\n",
    "                    \"t_optimized_method\": v_time_2\n",
    "                    }\n",
    "        l_res_sample.append(res_dict)\n",
    "        v_n_network = v_n_network + 1\n",
    "\n",
    "    # Add the sample data to pandas dataframe\n",
    "    df = pd.DataFrame.from_dict(l_res_sample)\n",
    "    l_experiments.append(df)\n",
    "print(\"END EXPERIMENT\")\n",
    "# Take the time of the experiment\n",
    "v_end_exp = time.time()\n",
    "v_time_exp = v_end_exp - v_begin_exp\n",
    "print(\"Time experiment (in seconds): \", v_time_exp )"
   ],
   "metadata": {
    "collapsed": false,
    "pycharm": {
     "name": "#%%\n"
    }
   }
  },
  {
   "cell_type": "markdown",
   "source": [
    "### Resume of the experiment"
   ],
   "metadata": {
    "collapsed": false,
    "pycharm": {
     "name": "#%% md\n"
    }
   }
  },
  {
   "cell_type": "code",
   "execution_count": null,
   "outputs": [],
   "source": [
    "# Total Time 359606.66107463837 segs  - 4,16 days\n",
    "print(\"RESUME OF THE EXPERIMENT\")\n",
    "print(\"--------------------------------------------------------------------\")\n",
    "print(\"Name of the Experiment:\", \"Experiment 2 - Internal Variable Growth\")\n",
    "print(\"Variable Parameters : Number os RDDs\")\n",
    "print(\"Range of Number of RDDs:\",n_rddas_min,\"-\", n_rddas_max)\n",
    "print(\"Fixed parameters\")\n",
    "print(\"Number of variables:\",n_of_variables_rdda)\n",
    "print(\"Number of signals by RDD :\", n_of_signals_rdda)\n",
    "print(\"Number of output variables:\", n_exit_variables)\n",
    "print(\"Number of function clauses:\", n_clauses_function)\n",
    "print(\"Network Type:\", type_network)\n",
    "print(\"--------------------------------------------------------------------\")\n",
    "print(\"Time of Experiment (in seg)\", v_time_exp)\n",
    "print(\"Time of Experiment (in hours, minutes and seconds)\", time.strftime(\"%H:%M:%S\", time.gmtime(v_time_exp)))\n",
    "print(\"--------------------------------------------------------------------\")\n",
    "pf_res = pd.concat(l_experiments, keys=range(1,n_experiments+1), names=[\"n_sample\",\"n_aux\"], ignore_index=False)\n",
    "pf_res.reset_index(drop=True, inplace=True, level=1)\n",
    "pf_res"
   ],
   "metadata": {
    "collapsed": false,
    "pycharm": {
     "name": "#%%\n",
     "is_executing": true
    }
   }
  },
  {
   "cell_type": "markdown",
   "source": [
    "## Save the experiment data in csv, using pandas Dataframe"
   ],
   "metadata": {
    "collapsed": false,
    "pycharm": {
     "name": "#%% md\n"
    }
   }
  },
  {
   "cell_type": "code",
   "execution_count": null,
   "outputs": [],
   "source": [
    "pf_res = pd.concat(l_experiments, keys=range(1,n_experiments+1), names=[\"n_sample\",\"n_aux\"], ignore_index=False)\n",
    "pf_res.reset_index(drop=True, inplace=True, level=1)\n",
    "pf_res"
   ],
   "metadata": {
    "collapsed": false,
    "pycharm": {
     "name": "#%%\n",
     "is_executing": true
    }
   }
  },
  {
   "cell_type": "code",
   "execution_count": null,
   "outputs": [],
   "source": [
    "path = \"exp1_network_growth_data.csv\"\n",
    "pf_res.to_csv(path)\n",
    "print(\"Experiment saved in:\", path)"
   ],
   "metadata": {
    "collapsed": false,
    "pycharm": {
     "name": "#%%\n",
     "is_executing": true
    }
   }
  }
 ],
 "metadata": {
  "kernelspec": {
   "display_name": "Python 3",
   "language": "python",
   "name": "python3"
  },
  "language_info": {
   "codemirror_mode": {
    "name": "ipython",
    "version": 2
   },
   "file_extension": ".py",
   "mimetype": "text/x-python",
   "name": "python",
   "nbconvert_exporter": "python",
   "pygments_lexer": "ipython2",
   "version": "2.7.6"
  }
 },
 "nbformat": 4,
 "nbformat_minor": 0
}