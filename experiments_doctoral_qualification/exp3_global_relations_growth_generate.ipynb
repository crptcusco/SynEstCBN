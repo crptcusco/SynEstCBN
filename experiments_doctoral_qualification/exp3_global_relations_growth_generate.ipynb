{
 "cells": [
  {
   "cell_type": "markdown",
   "source": [
    "# Experiment : Coupling signal growth"
   ],
   "metadata": {
    "collapsed": false,
    "pycharm": {
     "name": "#%% md\n"
    }
   }
  },
  {
   "cell_type": "markdown",
   "source": [
    "## Init the Ray client"
   ],
   "metadata": {
    "collapsed": false,
    "pycharm": {
     "name": "#%% md\n"
    }
   }
  },
  {
   "cell_type": "code",
   "execution_count": 1,
   "outputs": [
    {
     "data": {
      "text/plain": "RayContext(dashboard_url='', python_version='3.8.10', ray_version='1.13.0', ray_commit='e4ce38d001dbbe09cd21c497fedd03d692b2be3e', address_info={'node_ip_address': '172.17.163.244', 'raylet_ip_address': '172.17.163.244', 'redis_address': None, 'object_store_address': '/tmp/ray/session_2022-07-19_21-11-26_634322_50298/sockets/plasma_store', 'raylet_socket_name': '/tmp/ray/session_2022-07-19_21-11-26_634322_50298/sockets/raylet', 'webui_url': '', 'session_dir': '/tmp/ray/session_2022-07-19_21-11-26_634322_50298', 'metrics_export_port': 59070, 'gcs_address': '172.17.163.244:62400', 'address': '172.17.163.244:62400', 'node_id': 'a6df1725be7de7f92af05cc9e1b8dcda719705dae0db03a7d1e54650'})"
     },
     "execution_count": 1,
     "metadata": {},
     "output_type": "execute_result"
    }
   ],
   "source": [
    "# Imports\n",
    "from clases.red_rddas_model import RedRddasModel\n",
    "import ray\n",
    "import time\n",
    "import pandas as pd\n",
    "\n",
    "# Ray Configurations\n",
    "# runtime_env = {\"working_dir\": \"/home/reynaldo/Documents/RESEARCH/SynEstRDDA\", \"pip\": [\"requests\", \"pendulum==2.1.2\"]}\n",
    "# ray.init(address='ray://172.17.163.253:10001', runtime_env=runtime_env, log_to_driver=False, allow_multiple=True, ignore_reinit_error=True)\n",
    "# ray.init(address='ray://172.17.163.244:10001', runtime_env=runtime_env , log_to_driver=False, num_cpus=12)\n",
    "ray.init(log_to_driver=False, num_cpus=12)\n"
   ],
   "metadata": {
    "collapsed": false,
    "pycharm": {
     "name": "#%%\n"
    }
   }
  },
  {
   "cell_type": "markdown",
   "source": [
    "### Generate the Samples and recollected the indicators"
   ],
   "metadata": {
    "collapsed": false,
    "pycharm": {
     "name": "#%% md\n"
    }
   }
  },
  {
   "cell_type": "code",
   "execution_count": 2,
   "outputs": [
    {
     "name": "stdout",
     "output_type": "stream",
     "text": [
      "============================\n",
      "Experiment: 1\n",
      "============================\n",
      "Number of Network: 1\n",
      "Number of RDDs: 8\n",
      "Number of Signals by RDD: 2\n",
      "-------------------------------\n",
      "generating the Network of RDDAs ...\n",
      "generating the rdds ...\n",
      "Number of Network: 2\n",
      "Number of RDDs: 8\n",
      "Number of Signals by RDD: 3\n",
      "-------------------------------\n",
      "generating the Network of RDDAs ...\n",
      "generating the rdds ...\n",
      "Number of Network: 3\n",
      "Number of RDDs: 8\n",
      "Number of Signals by RDD: 4\n",
      "-------------------------------\n",
      "generating the Network of RDDAs ...\n",
      "generating the rdds ...\n"
     ]
    },
    {
     "ename": "KeyboardInterrupt",
     "evalue": "",
     "output_type": "error",
     "traceback": [
      "\u001B[0;31m---------------------------------------------------------------------------\u001B[0m",
      "\u001B[0;31mKeyboardInterrupt\u001B[0m                         Traceback (most recent call last)",
      "\u001B[0;32m<ipython-input-2-5c2503454c9f>\u001B[0m in \u001B[0;36m<module>\u001B[0;34m\u001B[0m\n\u001B[1;32m     58\u001B[0m         \u001B[0mv_begin_2\u001B[0m \u001B[0;34m=\u001B[0m \u001B[0mtime\u001B[0m\u001B[0;34m.\u001B[0m\u001B[0mtime\u001B[0m\u001B[0;34m(\u001B[0m\u001B[0;34m)\u001B[0m\u001B[0;34m\u001B[0m\u001B[0;34m\u001B[0m\u001B[0m\n\u001B[1;32m     59\u001B[0m         \u001B[0mresult\u001B[0m \u001B[0;34m=\u001B[0m \u001B[0mRedRddasModel\u001B[0m\u001B[0;34m.\u001B[0m\u001B[0massembly_attractor_fields_optimized\u001B[0m\u001B[0;34m.\u001B[0m\u001B[0mremote\u001B[0m\u001B[0;34m(\u001B[0m\u001B[0mo_rdda_model\u001B[0m\u001B[0;34m)\u001B[0m\u001B[0;34m\u001B[0m\u001B[0;34m\u001B[0m\u001B[0m\n\u001B[0;32m---> 60\u001B[0;31m         \u001B[0mo_rdda_model\u001B[0m \u001B[0;34m=\u001B[0m \u001B[0mray\u001B[0m\u001B[0;34m.\u001B[0m\u001B[0mget\u001B[0m\u001B[0;34m(\u001B[0m\u001B[0mresult\u001B[0m\u001B[0;34m)\u001B[0m\u001B[0;34m\u001B[0m\u001B[0;34m\u001B[0m\u001B[0m\n\u001B[0m\u001B[1;32m     61\u001B[0m         \u001B[0mv_end_2\u001B[0m \u001B[0;34m=\u001B[0m \u001B[0mtime\u001B[0m\u001B[0;34m.\u001B[0m\u001B[0mtime\u001B[0m\u001B[0;34m(\u001B[0m\u001B[0;34m)\u001B[0m\u001B[0;34m\u001B[0m\u001B[0;34m\u001B[0m\u001B[0m\n\u001B[1;32m     62\u001B[0m         \u001B[0mv_time_2\u001B[0m \u001B[0;34m=\u001B[0m \u001B[0mv_end_2\u001B[0m \u001B[0;34m-\u001B[0m \u001B[0mv_begin_2\u001B[0m\u001B[0;34m\u001B[0m\u001B[0;34m\u001B[0m\u001B[0m\n",
      "\u001B[0;32m~/.local/lib/python3.8/site-packages/ray/_private/client_mode_hook.py\u001B[0m in \u001B[0;36mwrapper\u001B[0;34m(*args, **kwargs)\u001B[0m\n\u001B[1;32m    103\u001B[0m             \u001B[0;32mif\u001B[0m \u001B[0mfunc\u001B[0m\u001B[0;34m.\u001B[0m\u001B[0m__name__\u001B[0m \u001B[0;34m!=\u001B[0m \u001B[0;34m\"init\"\u001B[0m \u001B[0;32mor\u001B[0m \u001B[0mis_client_mode_enabled_by_default\u001B[0m\u001B[0;34m:\u001B[0m\u001B[0;34m\u001B[0m\u001B[0;34m\u001B[0m\u001B[0m\n\u001B[1;32m    104\u001B[0m                 \u001B[0;32mreturn\u001B[0m \u001B[0mgetattr\u001B[0m\u001B[0;34m(\u001B[0m\u001B[0mray\u001B[0m\u001B[0;34m,\u001B[0m \u001B[0mfunc\u001B[0m\u001B[0;34m.\u001B[0m\u001B[0m__name__\u001B[0m\u001B[0;34m)\u001B[0m\u001B[0;34m(\u001B[0m\u001B[0;34m*\u001B[0m\u001B[0margs\u001B[0m\u001B[0;34m,\u001B[0m \u001B[0;34m**\u001B[0m\u001B[0mkwargs\u001B[0m\u001B[0;34m)\u001B[0m\u001B[0;34m\u001B[0m\u001B[0;34m\u001B[0m\u001B[0m\n\u001B[0;32m--> 105\u001B[0;31m         \u001B[0;32mreturn\u001B[0m \u001B[0mfunc\u001B[0m\u001B[0;34m(\u001B[0m\u001B[0;34m*\u001B[0m\u001B[0margs\u001B[0m\u001B[0;34m,\u001B[0m \u001B[0;34m**\u001B[0m\u001B[0mkwargs\u001B[0m\u001B[0;34m)\u001B[0m\u001B[0;34m\u001B[0m\u001B[0;34m\u001B[0m\u001B[0m\n\u001B[0m\u001B[1;32m    106\u001B[0m \u001B[0;34m\u001B[0m\u001B[0m\n\u001B[1;32m    107\u001B[0m     \u001B[0;32mreturn\u001B[0m \u001B[0mwrapper\u001B[0m\u001B[0;34m\u001B[0m\u001B[0;34m\u001B[0m\u001B[0m\n",
      "\u001B[0;32m~/.local/lib/python3.8/site-packages/ray/worker.py\u001B[0m in \u001B[0;36mget\u001B[0;34m(object_refs, timeout)\u001B[0m\n\u001B[1;32m   1823\u001B[0m \u001B[0;34m\u001B[0m\u001B[0m\n\u001B[1;32m   1824\u001B[0m         \u001B[0;31m# TODO(ujvl): Consider how to allow user to retrieve the ready objects.\u001B[0m\u001B[0;34m\u001B[0m\u001B[0;34m\u001B[0m\u001B[0;34m\u001B[0m\u001B[0m\n\u001B[0;32m-> 1825\u001B[0;31m         \u001B[0mvalues\u001B[0m\u001B[0;34m,\u001B[0m \u001B[0mdebugger_breakpoint\u001B[0m \u001B[0;34m=\u001B[0m \u001B[0mworker\u001B[0m\u001B[0;34m.\u001B[0m\u001B[0mget_objects\u001B[0m\u001B[0;34m(\u001B[0m\u001B[0mobject_refs\u001B[0m\u001B[0;34m,\u001B[0m \u001B[0mtimeout\u001B[0m\u001B[0;34m=\u001B[0m\u001B[0mtimeout\u001B[0m\u001B[0;34m)\u001B[0m\u001B[0;34m\u001B[0m\u001B[0;34m\u001B[0m\u001B[0m\n\u001B[0m\u001B[1;32m   1826\u001B[0m         \u001B[0;32mfor\u001B[0m \u001B[0mi\u001B[0m\u001B[0;34m,\u001B[0m \u001B[0mvalue\u001B[0m \u001B[0;32min\u001B[0m \u001B[0menumerate\u001B[0m\u001B[0;34m(\u001B[0m\u001B[0mvalues\u001B[0m\u001B[0;34m)\u001B[0m\u001B[0;34m:\u001B[0m\u001B[0;34m\u001B[0m\u001B[0;34m\u001B[0m\u001B[0m\n\u001B[1;32m   1827\u001B[0m             \u001B[0;32mif\u001B[0m \u001B[0misinstance\u001B[0m\u001B[0;34m(\u001B[0m\u001B[0mvalue\u001B[0m\u001B[0;34m,\u001B[0m \u001B[0mRayError\u001B[0m\u001B[0;34m)\u001B[0m\u001B[0;34m:\u001B[0m\u001B[0;34m\u001B[0m\u001B[0;34m\u001B[0m\u001B[0m\n",
      "\u001B[0;32m~/.local/lib/python3.8/site-packages/ray/worker.py\u001B[0m in \u001B[0;36mget_objects\u001B[0;34m(self, object_refs, timeout)\u001B[0m\n\u001B[1;32m    362\u001B[0m \u001B[0;34m\u001B[0m\u001B[0m\n\u001B[1;32m    363\u001B[0m         \u001B[0mtimeout_ms\u001B[0m \u001B[0;34m=\u001B[0m \u001B[0mint\u001B[0m\u001B[0;34m(\u001B[0m\u001B[0mtimeout\u001B[0m \u001B[0;34m*\u001B[0m \u001B[0;36m1000\u001B[0m\u001B[0;34m)\u001B[0m \u001B[0;32mif\u001B[0m \u001B[0mtimeout\u001B[0m \u001B[0;32melse\u001B[0m \u001B[0;34m-\u001B[0m\u001B[0;36m1\u001B[0m\u001B[0;34m\u001B[0m\u001B[0;34m\u001B[0m\u001B[0m\n\u001B[0;32m--> 364\u001B[0;31m         data_metadata_pairs = self.core_worker.get_objects(\n\u001B[0m\u001B[1;32m    365\u001B[0m             \u001B[0mobject_refs\u001B[0m\u001B[0;34m,\u001B[0m \u001B[0mself\u001B[0m\u001B[0;34m.\u001B[0m\u001B[0mcurrent_task_id\u001B[0m\u001B[0;34m,\u001B[0m \u001B[0mtimeout_ms\u001B[0m\u001B[0;34m\u001B[0m\u001B[0;34m\u001B[0m\u001B[0m\n\u001B[1;32m    366\u001B[0m         )\n",
      "\u001B[0;32mpython/ray/_raylet.pyx\u001B[0m in \u001B[0;36mray._raylet.CoreWorker.get_objects\u001B[0;34m()\u001B[0m\n",
      "\u001B[0;32mpython/ray/_raylet.pyx\u001B[0m in \u001B[0;36mray._raylet.check_status\u001B[0;34m()\u001B[0m\n",
      "\u001B[0;31mKeyboardInterrupt\u001B[0m: "
     ]
    }
   ],
   "source": [
    "# Experiment for global relations growth\n",
    "\n",
    "#capture the time for all the experiment\n",
    "v_begin_exp = time.time()\n",
    "\n",
    "n_experiments = 500\n",
    "l_experiments = []\n",
    "for cont_experiment in range(1,n_experiments+1):\n",
    "    print(\"============================\")\n",
    "    print(\"Experiment:\", cont_experiment)\n",
    "    print(\"============================\")\n",
    "\n",
    "    # Variable Parameters\n",
    "    n_of_signals_rdd_min = 2\n",
    "    n_of_signals_rdd_max = 7\n",
    "\n",
    "    # Fixed Parameters\n",
    "    n_of_rdds = 8\n",
    "    n_of_var_by_rdd = 5\n",
    "    n_output_variables = 2\n",
    "    n_clauses_function = 2\n",
    "    type_network = \"ALEATORY\"\n",
    "\n",
    "    # List of Result for the Experiments\n",
    "    l_res_sample = []\n",
    "\n",
    "    v_n_network = 1\n",
    "    for n_of_signals_rdd in range(n_of_signals_rdd_min, n_of_signals_rdd_max + 1):\n",
    "        print(\"Number of Network:\", v_n_network)\n",
    "        print(\"Number of RDDs:\", n_of_rdds)\n",
    "        print(\"Number of Signals by RDD:\", n_of_signals_rdd)\n",
    "        print(\"-------------------------------\")\n",
    "\n",
    "        # generate the RDDAs of the Network of RDDAs\n",
    "        print(\"generating the Network of RDDAs ...\")\n",
    "        o_rdda_model = RedRddasModel(n_of_rdds, n_of_var_by_rdd, n_of_signals_rdd, n_output_variables,\n",
    "                                       n_clauses_function)\n",
    "\n",
    "        # Generate the RDDs\n",
    "        print(\"generating the rdds ...\")\n",
    "        o_rdda_model.generate_rddas(type_network=type_network)\n",
    "\n",
    "        # Calculate the Attractors by RDDA and by Signal\n",
    "        v_begin_0 = time.time()\n",
    "        result = RedRddasModel.find_attractors_rddas_ray.remote(o_rdda_model)\n",
    "        o_rdda_model = ray.get(result)\n",
    "        v_end_0 = time.time()\n",
    "        v_time_0 = v_end_0 - v_begin_0\n",
    "\n",
    "        # Calculate the Attractors by RDDA and by Signal\n",
    "        v_begin_1 = time.time()\n",
    "        result = RedRddasModel.calculation_compatible_pairs.remote(o_rdda_model)\n",
    "        o_rdda_model = ray.get(result)\n",
    "        v_end_1 = time.time()\n",
    "        v_time_1 = v_end_1 - v_begin_1\n",
    "\n",
    "        # Calculate the Attractors by RDDA and by Signal with optimized Method\n",
    "        v_begin_2 = time.time()\n",
    "        result = RedRddasModel.assembly_attractor_fields_optimized.remote(o_rdda_model)\n",
    "        o_rdda_model = ray.get(result)\n",
    "        v_end_2 = time.time()\n",
    "        v_time_2 = v_end_2 - v_begin_2\n",
    "\n",
    "        # Save the results for the experiment , numeric and time indicators\n",
    "        res_dict = {\n",
    "                    \"n_network\": v_n_network,\n",
    "                    \"n_variables\": n_of_var_by_rdd,\n",
    "                    \"n_coupling_signals\": n_of_signals_rdd,\n",
    "                    \"n_rdda_attractors\": len(o_rdda_model.d_global_rdda_attractor.items()),\n",
    "                    \"t_find_attractors_method\": v_time_0,\n",
    "                    \"n_pair_attractors\": len(o_rdda_model.list_attractors_pairs),\n",
    "                    \"t_comp_paris_method\": v_time_1,\n",
    "                    \"n_attractor_fields\": len(o_rdda_model.attractor_fields),\n",
    "                    \"t_optimized_method\": v_time_2\n",
    "                    }\n",
    "        l_res_sample.append(res_dict)\n",
    "        v_n_network = v_n_network + 1\n",
    "\n",
    "    # Add the sample data to pandas dataframe\n",
    "    df = pd.DataFrame.from_dict(l_res_sample)\n",
    "    l_experiments.append(df)\n",
    "# Capture the time of the experiment\n",
    "v_end_exp = time.time()\n",
    "v_time_exp = v_end_exp - v_begin_exp\n",
    "print(\"END EXPERIMENT\")"
   ],
   "metadata": {
    "collapsed": false,
    "pycharm": {
     "name": "#%%\n"
    }
   }
  },
  {
   "cell_type": "markdown",
   "source": [
    "## Save the experiment data in csv, using pandas Dataframe"
   ],
   "metadata": {
    "collapsed": false,
    "pycharm": {
     "name": "#%% md\n"
    }
   }
  },
  {
   "cell_type": "code",
   "execution_count": null,
   "outputs": [],
   "source": [
    "pf_res = pd.concat(l_experiments, keys=range(1,n_experiments+1), names=[\"n_sample\",\"n_aux\"], ignore_index=False)\n",
    "pf_res.reset_index(drop=True, inplace=True, level=1)\n",
    "pf_res"
   ],
   "metadata": {
    "collapsed": false,
    "pycharm": {
     "name": "#%%\n",
     "is_executing": true
    }
   }
  },
  {
   "cell_type": "code",
   "execution_count": null,
   "outputs": [],
   "source": [
    "path = \"exp2_internal_variable_growth_data.csv\"\n",
    "pf_res.to_csv(path)\n",
    "print(\"Experiment saved in:\", path)"
   ],
   "metadata": {
    "collapsed": false,
    "pycharm": {
     "name": "#%%\n",
     "is_executing": true
    }
   }
  }
 ],
 "metadata": {
  "kernelspec": {
   "display_name": "Python 3",
   "language": "python",
   "name": "python3"
  },
  "language_info": {
   "codemirror_mode": {
    "name": "ipython",
    "version": 2
   },
   "file_extension": ".py",
   "mimetype": "text/x-python",
   "name": "python",
   "nbconvert_exporter": "python",
   "pygments_lexer": "ipython2",
   "version": "2.7.6"
  }
 },
 "nbformat": 4,
 "nbformat_minor": 0
}