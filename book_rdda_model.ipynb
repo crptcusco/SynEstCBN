{
 "cells": [
  {
   "cell_type": "code",
   "execution_count": 97,
   "metadata": {
    "collapsed": true
   },
   "outputs": [
    {
     "name": "stdout",
     "output_type": "stream",
     "text": [
      "Reading the file:  files/22_02_2022_5_5_2_2_2.pickle\n"
     ]
    }
   ],
   "source": [
    "from clases.red_rddas_model import RedRddasModel\n",
    "# import random  # generate random numbers\n",
    "# from random import randint  # generate random numbers integers\n",
    "# from itertools import product  # generate combinations of numbers\n",
    "\n",
    "# path = \"files/example_research/rdda_3_5_2_2_2.pickle\"\n",
    "path = \"files/22_02_2022_5_5_2_2_2.pickle\"\n",
    "# path = \"files/21_02_2022_3_5_2_2_2.pickle\"\n",
    "# path = \"files/19_02_2022_3_5_2_2_2.pickle\"\n",
    "# path = \"files/19_02_2022_5_5_2_2_2.pickle\"\n",
    "# path = \"files/15_02_2022_3_5_2_2_2.pickle\"\n",
    "# path = \"files/15_07_2020_5_5_2_2_2.pickle\"\n",
    "# path = \"files/18_07_2020_5_5_2_2_2.pickle\"\n",
    "# path = \"files/22_01_2022_3_5_2_2_2.pickle\"\n",
    "path_base = path[:-7]\n",
    "\n",
    "print(\"Reading the file: \", path)\n",
    "oRedRddasModel = RedRddasModel.load_file_pickle(path)"
   ]
  },
  {
   "cell_type": "code",
   "execution_count": 98,
   "outputs": [
    {
     "name": "stdout",
     "output_type": "stream",
     "text": [
      "================================================================\n",
      "NETWORK RDDA DESCRIPTION\n",
      "================================================================\n",
      "Number of RDDs : 5\n",
      "Number of variables by RDD : 5\n",
      "Number of coupling signals by RDD : 2\n",
      "Maximum number of exit variables by signal : 5\n",
      "Maximum number of clauses by function : 5\n",
      "================================================================\n",
      "================================================================\n",
      "RDDA DESCRIPTION\n",
      "Name of RDDA : 1\n",
      "List of intern variables : \n",
      "[1, 2, 3, 4, 5]\n",
      "List of coupling signals : \n",
      "---------------\n",
      "Network Input : 1\n",
      "Network Output : 2\n",
      "Variables : [9, 6]\n",
      "Name Variable : 26\n",
      "Coupling Function : 9 ∨ 6\n",
      "Truth Table: {'11': '1', '10': '1', '01': '1', '00': '0'}\n",
      "---------------\n",
      "---------------\n",
      "Network Input : 1\n",
      "Network Output : 4\n",
      "Variables : [17, 18]\n",
      "Name Variable : 27\n",
      "Coupling Function : 17 ∨ 18\n",
      "Truth Table: {'11': '1', '10': '1', '01': '1', '00': '0'}\n",
      "---------------\n",
      "Description of Variables\n",
      "V: 1 CNF :[[26]]\n",
      "V: 2 CNF :[[4, 26]]\n",
      "V: 3 CNF :[[5, 2], [27, 2]]\n",
      "V: 4 CNF :[[2, 3]]\n",
      "V: 5 CNF :[[5, 1, 2], [4, 1]]\n",
      "================================================================\n",
      "================================================================\n",
      "RDDA DESCRIPTION\n",
      "Name of RDDA : 2\n",
      "List of intern variables : \n",
      "[6, 7, 8, 9, 10]\n",
      "List of coupling signals : \n",
      "---------------\n",
      "Network Input : 2\n",
      "Network Output : 5\n",
      "Variables : [21, 23]\n",
      "Name Variable : 28\n",
      "Coupling Function : 21 ∨ 23\n",
      "Truth Table: {'11': '1', '10': '1', '01': '1', '00': '0'}\n",
      "---------------\n",
      "Description of Variables\n",
      "V: 6 CNF :[[28, 9, 6]]\n",
      "V: 7 CNF :[[6, 7, 8], [10]]\n",
      "V: 8 CNF :[[6, 8, 10]]\n",
      "V: 9 CNF :[[6, 8, 9]]\n",
      "V: 10 CNF :[[10, 7, 28]]\n",
      "================================================================\n",
      "================================================================\n",
      "RDDA DESCRIPTION\n",
      "Name of RDDA : 3\n",
      "List of intern variables : \n",
      "[11, 12, 13, 14, 15]\n",
      "List of coupling signals : \n",
      "---------------\n",
      "Network Input : 3\n",
      "Network Output : 4\n",
      "Variables : [18, 17]\n",
      "Name Variable : 29\n",
      "Coupling Function : 18 ∨ 17\n",
      "Truth Table: {'11': '1', '10': '1', '01': '1', '00': '0'}\n",
      "---------------\n",
      "---------------\n",
      "Network Input : 3\n",
      "Network Output : 2\n",
      "Variables : [10, 7]\n",
      "Name Variable : 30\n",
      "Coupling Function : 10 ∨ 7\n",
      "Truth Table: {'11': '1', '10': '1', '01': '1', '00': '0'}\n",
      "---------------\n",
      "Description of Variables\n",
      "V: 11 CNF :[[14, 11]]\n",
      "V: 12 CNF :[[12]]\n",
      "V: 13 CNF :[[11, 29]]\n",
      "V: 14 CNF :[[11, 30], [12, 14]]\n",
      "V: 15 CNF :[[13, 29]]\n",
      "================================================================\n",
      "================================================================\n",
      "RDDA DESCRIPTION\n",
      "Name of RDDA : 4\n",
      "List of intern variables : \n",
      "[16, 17, 18, 19, 20]\n",
      "List of coupling signals : \n",
      "---------------\n",
      "Network Input : 4\n",
      "Network Output : 2\n",
      "Variables : [10, 9]\n",
      "Name Variable : 31\n",
      "Coupling Function : 10 ∨ 9\n",
      "Truth Table: {'11': '1', '10': '1', '01': '1', '00': '0'}\n",
      "---------------\n",
      "Description of Variables\n",
      "V: 16 CNF :[[17, 31, 19], [20, 19, 16]]\n",
      "V: 17 CNF :[[17, 19]]\n",
      "V: 18 CNF :[[17]]\n",
      "V: 19 CNF :[[31, 17, 20]]\n",
      "V: 20 CNF :[[16]]\n",
      "================================================================\n",
      "================================================================\n",
      "RDDA DESCRIPTION\n",
      "Name of RDDA : 5\n",
      "List of intern variables : \n",
      "[21, 22, 23, 24, 25]\n",
      "List of coupling signals : \n",
      "---------------\n",
      "Network Input : 5\n",
      "Network Output : 3\n",
      "Variables : [12, 14]\n",
      "Name Variable : 32\n",
      "Coupling Function : 12 ∨ 14\n",
      "Truth Table: {'11': '1', '10': '1', '01': '1', '00': '0'}\n",
      "---------------\n",
      "---------------\n",
      "Network Input : 5\n",
      "Network Output : 2\n",
      "Variables : [9, 10]\n",
      "Name Variable : 33\n",
      "Coupling Function : 9 ∨ 10\n",
      "Truth Table: {'11': '1', '10': '1', '01': '1', '00': '0'}\n",
      "---------------\n",
      "Description of Variables\n",
      "V: 21 CNF :[[24, 25, 33]]\n",
      "V: 22 CNF :[[25, 32]]\n",
      "V: 23 CNF :[[23]]\n",
      "V: 24 CNF :[[22, 24], [24, 23]]\n",
      "V: 25 CNF :[[24]]\n",
      "================================================================\n"
     ]
    }
   ],
   "source": [
    "#Show the RDDA Information\n",
    "oRedRddasModel.show()"
   ],
   "metadata": {
    "collapsed": false,
    "pycharm": {
     "name": "#%%\n"
    }
   }
  },
  {
   "cell_type": "code",
   "execution_count": 99,
   "outputs": [
    {
     "name": "stdout",
     "output_type": "stream",
     "text": [
      "\u001B[2m\u001B[36m(find_attractors_rddas pid=33152)\u001B[0m BEGIN CALCULATE ALL LOCAL ATTRACTORS BY PERMUTATION\n",
      "\u001B[2m\u001B[36m(find_attractors_rddas pid=33152)\u001B[0m RED NUMBER : 1 PERMUTATION SIGNAL COUPLING: 00\n",
      "\u001B[2m\u001B[36m(find_attractors_rddas pid=33152)\u001B[0m The expression cannot be satisfied\n",
      "\u001B[2m\u001B[36m(find_attractors_rddas pid=33152)\u001B[0m RED NUMBER : 1 PERMUTATION SIGNAL COUPLING: 01\n",
      "\u001B[2m\u001B[36m(find_attractors_rddas pid=33152)\u001B[0m The expression cannot be satisfied\n",
      "\u001B[2m\u001B[36m(find_attractors_rddas pid=33152)\u001B[0m RED NUMBER : 1 PERMUTATION SIGNAL COUPLING: 10\n",
      "\u001B[2m\u001B[36m(find_attractors_rddas pid=33152)\u001B[0m The expression cannot be satisfied\n",
      "\u001B[2m\u001B[36m(find_attractors_rddas pid=33152)\u001B[0m RED NUMBER : 1 PERMUTATION SIGNAL COUPLING: 11\n",
      "\u001B[2m\u001B[36m(find_attractors_rddas pid=33152)\u001B[0m The expression cannot be satisfied\n",
      "\u001B[2m\u001B[36m(find_attractors_rddas pid=33152)\u001B[0m RED NUMBER : 2 PERMUTATION SIGNAL COUPLING: 0\n",
      "\u001B[2m\u001B[36m(find_attractors_rddas pid=33152)\u001B[0m The expression cannot be satisfied\n",
      "\u001B[2m\u001B[36m(find_attractors_rddas pid=33152)\u001B[0m RED NUMBER : 2 PERMUTATION SIGNAL COUPLING: 1\n",
      "\u001B[2m\u001B[36m(find_attractors_rddas pid=33152)\u001B[0m The expression cannot be satisfied\n",
      "\u001B[2m\u001B[36m(find_attractors_rddas pid=33152)\u001B[0m RED NUMBER : 3 PERMUTATION SIGNAL COUPLING: 00\n",
      "\u001B[2m\u001B[36m(find_attractors_rddas pid=33152)\u001B[0m The expression cannot be satisfied\n",
      "\u001B[2m\u001B[36m(find_attractors_rddas pid=33152)\u001B[0m RED NUMBER : 3 PERMUTATION SIGNAL COUPLING: 01\n",
      "\u001B[2m\u001B[36m(find_attractors_rddas pid=33152)\u001B[0m The expression cannot be satisfied\n",
      "\u001B[2m\u001B[36m(find_attractors_rddas pid=33152)\u001B[0m RED NUMBER : 3 PERMUTATION SIGNAL COUPLING: 10\n",
      "\u001B[2m\u001B[36m(find_attractors_rddas pid=33152)\u001B[0m The expression cannot be satisfied\n",
      "\u001B[2m\u001B[36m(find_attractors_rddas pid=33152)\u001B[0m RED NUMBER : 3 PERMUTATION SIGNAL COUPLING: 11\n",
      "\u001B[2m\u001B[36m(find_attractors_rddas pid=33152)\u001B[0m The expression cannot be satisfied\n",
      "\u001B[2m\u001B[36m(find_attractors_rddas pid=33152)\u001B[0m RED NUMBER : 4 PERMUTATION SIGNAL COUPLING: 0\n",
      "\u001B[2m\u001B[36m(find_attractors_rddas pid=33152)\u001B[0m The expression cannot be satisfied\n",
      "\u001B[2m\u001B[36m(find_attractors_rddas pid=33152)\u001B[0m RED NUMBER : 4 PERMUTATION SIGNAL COUPLING: 1\n",
      "\u001B[2m\u001B[36m(find_attractors_rddas pid=33152)\u001B[0m The expression cannot be satisfied\n",
      "\u001B[2m\u001B[36m(find_attractors_rddas pid=33152)\u001B[0m RED NUMBER : 5 PERMUTATION SIGNAL COUPLING: 00\n",
      "\u001B[2m\u001B[36m(find_attractors_rddas pid=33152)\u001B[0m The expression cannot be satisfied\n",
      "\u001B[2m\u001B[36m(find_attractors_rddas pid=33152)\u001B[0m RED NUMBER : 5 PERMUTATION SIGNAL COUPLING: 01\n",
      "\u001B[2m\u001B[36m(find_attractors_rddas pid=33152)\u001B[0m The expression cannot be satisfied\n",
      "\u001B[2m\u001B[36m(find_attractors_rddas pid=33152)\u001B[0m RED NUMBER : 5 PERMUTATION SIGNAL COUPLING: 10\n",
      "\u001B[2m\u001B[36m(find_attractors_rddas pid=33152)\u001B[0m The expression cannot be satisfied\n",
      "\u001B[2m\u001B[36m(find_attractors_rddas pid=33152)\u001B[0m RED NUMBER : 5 PERMUTATION SIGNAL COUPLING: 11\n"
     ]
    }
   ],
   "source": [
    "import ray\n",
    "# Calculate the Attractors by RDDA and by Signal\n",
    "result = RedRddasModel.find_attractors_rddas.remote(oRedRddasModel)\n",
    "oRedRddasModel = ray.get(result)"
   ],
   "metadata": {
    "collapsed": false,
    "pycharm": {
     "name": "#%%\n"
    }
   }
  },
  {
   "cell_type": "code",
   "execution_count": 101,
   "outputs": [
    {
     "ename": "TypeError",
     "evalue": "Remote functions cannot be called directly. Instead of running 'clases.red_rddas_model.calculate_attractors_fields()', try 'clases.red_rddas_model.calculate_attractors_fields.remote()'.",
     "output_type": "error",
     "traceback": [
      "\u001B[0;31m---------------------------------------------------------------------------\u001B[0m",
      "\u001B[0;31mTypeError\u001B[0m                                 Traceback (most recent call last)",
      "Input \u001B[0;32mIn [101]\u001B[0m, in \u001B[0;36m<module>\u001B[0;34m\u001B[0m\n\u001B[1;32m      1\u001B[0m \u001B[38;5;66;03m# calculate the Attractors Field\u001B[39;00m\n\u001B[1;32m      2\u001B[0m \u001B[38;5;66;03m# find attractor by rdda, calculate the compatibility between attractors and labeled graph montage\u001B[39;00m\n\u001B[0;32m----> 3\u001B[0m oRedRddasModel \u001B[38;5;241m=\u001B[39m \u001B[43mRedRddasModel\u001B[49m\u001B[38;5;241;43m.\u001B[39;49m\u001B[43mcalculate_attractors_fields\u001B[49m\u001B[43m(\u001B[49m\u001B[43moRedRddasModel\u001B[49m\u001B[43m)\u001B[49m\n",
      "File \u001B[0;32m~/.local/lib/python3.8/site-packages/ray/remote_function.py:144\u001B[0m, in \u001B[0;36mRemoteFunction.__call__\u001B[0;34m(self, *args, **kwargs)\u001B[0m\n\u001B[1;32m    143\u001B[0m \u001B[38;5;28;01mdef\u001B[39;00m \u001B[38;5;21m__call__\u001B[39m(\u001B[38;5;28mself\u001B[39m, \u001B[38;5;241m*\u001B[39margs, \u001B[38;5;241m*\u001B[39m\u001B[38;5;241m*\u001B[39mkwargs):\n\u001B[0;32m--> 144\u001B[0m     \u001B[38;5;28;01mraise\u001B[39;00m \u001B[38;5;167;01mTypeError\u001B[39;00m(\u001B[38;5;124m\"\u001B[39m\u001B[38;5;124mRemote functions cannot be called directly. Instead \u001B[39m\u001B[38;5;124m\"\u001B[39m\n\u001B[1;32m    145\u001B[0m                     \u001B[38;5;124mf\u001B[39m\u001B[38;5;124m\"\u001B[39m\u001B[38;5;124mof running \u001B[39m\u001B[38;5;124m'\u001B[39m\u001B[38;5;132;01m{\u001B[39;00m\u001B[38;5;28mself\u001B[39m\u001B[38;5;241m.\u001B[39m_function_name\u001B[38;5;132;01m}\u001B[39;00m\u001B[38;5;124m()\u001B[39m\u001B[38;5;124m'\u001B[39m\u001B[38;5;124m, \u001B[39m\u001B[38;5;124m\"\u001B[39m\n\u001B[1;32m    146\u001B[0m                     \u001B[38;5;124mf\u001B[39m\u001B[38;5;124m\"\u001B[39m\u001B[38;5;124mtry \u001B[39m\u001B[38;5;124m'\u001B[39m\u001B[38;5;132;01m{\u001B[39;00m\u001B[38;5;28mself\u001B[39m\u001B[38;5;241m.\u001B[39m_function_name\u001B[38;5;132;01m}\u001B[39;00m\u001B[38;5;124m.remote()\u001B[39m\u001B[38;5;124m'\u001B[39m\u001B[38;5;124m.\u001B[39m\u001B[38;5;124m\"\u001B[39m)\n",
      "\u001B[0;31mTypeError\u001B[0m: Remote functions cannot be called directly. Instead of running 'clases.red_rddas_model.calculate_attractors_fields()', try 'clases.red_rddas_model.calculate_attractors_fields.remote()'."
     ]
    }
   ],
   "source": [
    "# calculate the Attractors Field\n",
    "# find attractor by rdda, calculate the compatibility between attractors and labeled graph montage\n",
    "# oRedRddasModel = RedRddasModel.calculate_attractors_fields(oRedRddasModel)\n",
    "\n",
    "# import ray\n",
    "# # Calculate the Attractors by RDDA and by Signal\n",
    "result = RedRddasModel.calculate_attractors_fields.remote(oRedRddasModel)\n",
    "oRedRddasModel = ray.get(result)"
   ],
   "metadata": {
    "collapsed": false,
    "pycharm": {
     "name": "#%%\n"
    }
   }
  },
  {
   "cell_type": "code",
   "execution_count": null,
   "outputs": [],
   "source": [
    "# generate the diagram of the Network RDDA, show and save graph in .eps format\n",
    "# Show the topology graph using the igraph library\n",
    "print(\"Topology Graph of the RDDA using igraph Library\")\n",
    "oRedRddasModel.graph_topology_igraph(show_graph=True,save_graph=True,path_graph=\"\")"
   ],
   "metadata": {
    "collapsed": false,
    "pycharm": {
     "name": "#%%\n"
    }
   }
  },
  {
   "cell_type": "code",
   "execution_count": null,
   "outputs": [],
   "source": [
    "# Show the topology graph using the Networkx library\n",
    "# print(\"Topology Graph of the RDDA using Networkx Library\")\n",
    "# oRedRddasModel.graph_topology_networkx(show_graph = True ,save_graph=False,path_graph=\"\")"
   ],
   "metadata": {
    "collapsed": false,
    "pycharm": {
     "name": "#%%\n"
    }
   }
  },
  {
   "cell_type": "code",
   "execution_count": null,
   "outputs": [],
   "source": [
    "# Show the Graph of the attractor pairs\n",
    "oRedRddasModel.graph_attractor_pairs()\n",
    "\n",
    "# import igraph as ig\n",
    "# import matplotlib.pyplot as plt  # library to make draws\n",
    "# path_graph = \"\""
   ],
   "metadata": {
    "collapsed": false,
    "pycharm": {
     "name": "#%%\n"
    }
   }
  },
  {
   "cell_type": "code",
   "execution_count": null,
   "outputs": [],
   "source": [
    "# Show the Graphs of the attractor fields\n",
    "# import igraph as ig #\n",
    "# import matplotlib.pyplot as plt  # library to make draws\n",
    "oRedRddasModel.graph_attractor_fields()"
   ],
   "metadata": {
    "collapsed": false,
    "pycharm": {
     "name": "#%%\n"
    }
   }
  },
  {
   "cell_type": "code",
   "execution_count": null,
   "outputs": [],
   "source": [
    "import ray\n",
    "import time\n",
    "\n",
    "# By adding the `@ray.remote` decorator, a regular Python function\n",
    "# becomes a Ray remote function.\n",
    "@ray.remote\n",
    "def my_function():\n",
    "   return 1\n",
    "\n",
    "# To invoke this remote function, use the `remote` method.\n",
    "# This will immediately return an object ref (a future) and then create\n",
    "# a task that will be executed on a worker process.\n",
    "obj_ref = my_function.remote()\n",
    "\n",
    "# The result can be retrieved with ``ray.get``.\n",
    "assert ray.get(obj_ref) == 1\n",
    "\n",
    "@ray.remote\n",
    "def slow_function():\n",
    "   time.sleep(10)\n",
    "   return 1\n",
    "\n",
    "# Invocations of Ray remote functions happen in parallel.\n",
    "# All computation is performed in the background, driven by Ray's internal event loop.\n",
    "results = []\n",
    "for _ in range(4):\n",
    "   # this doesn't block\n",
    "   results.append(slow_function.remote())\n",
    "\n",
    "ray.get(results)"
   ],
   "metadata": {
    "collapsed": false,
    "pycharm": {
     "name": "#%%\n"
    }
   }
  }
 ],
 "metadata": {
  "kernelspec": {
   "display_name": "Python 3",
   "language": "python",
   "name": "python3"
  },
  "language_info": {
   "codemirror_mode": {
    "name": "ipython",
    "version": 2
   },
   "file_extension": ".py",
   "mimetype": "text/x-python",
   "name": "python",
   "nbconvert_exporter": "python",
   "pygments_lexer": "ipython2",
   "version": "2.7.6"
  }
 },
 "nbformat": 4,
 "nbformat_minor": 0
}