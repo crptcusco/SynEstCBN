{
 "cells": [
  {
   "cell_type": "code",
   "execution_count": null,
   "metadata": {
    "collapsed": true,
    "pycharm": {
     "name": "#%%\n"
    }
   },
   "outputs": [],
   "source": [
    "from clases.red_rddas_model import RedRddasModel\n",
    "import ray\n",
    "\n",
    "# PROGRAM TO FIND STABILITY AND SYNCHRONISE IN RDDA\n",
    "# Receiving the parameters\n",
    "n_of_rddas = 6\n",
    "n_of_variables_rdda = 5\n",
    "n_of_signals_rdda = 5\n",
    "n_exit_variables = 2\n",
    "n_clauses_function = 2\n",
    "type_network = \"ALEATORY\"\n",
    "# this name has to be unique\n",
    "unique_path = \"30_05_2022\"\n",
    "path = \"files/\" + unique_path + \"_\" + str(n_of_rddas) + \"_\" + str(n_of_variables_rdda) + \"_\" + str(n_of_signals_rdda) \\\n",
    "       + \"_\" + str(n_exit_variables) + \"_\" + str(n_clauses_function)\n",
    "\n",
    "# generate the RDDAs of the Network of RDDAs\n",
    "print(\"generating the Network of RDDAs ...\")\n",
    "oRedRddasModel = RedRddasModel(n_of_rddas, n_of_variables_rdda, n_of_signals_rdda, n_exit_variables,\n",
    "                               n_clauses_function)\n",
    "\n",
    "# generate the RDDAs\n",
    "print(\"generating the rddas ...\")\n",
    "oRedRddasModel.generate_rddas(type_network=type_network)"
   ]
  },
  {
   "cell_type": "code",
   "execution_count": null,
   "outputs": [],
   "source": [
    "\n",
    "# Calculate the Attractors by RDDA and by Signal\n",
    "result = RedRddasModel.find_attractors_rddas.remote(oRedRddasModel)\n",
    "oRedRddasModel = ray.get(result)"
   ],
   "metadata": {
    "collapsed": false,
    "pycharm": {
     "name": "#%%\n"
    }
   }
  },
  {
   "cell_type": "code",
   "execution_count": null,
   "outputs": [],
   "source": [
    "# Save the Network of RDDAs in a Pickle file\n",
    "RedRddasModel.save_file_pickle(oRedRddasModel, path)\n",
    "path += \".pickle\"\n",
    "\n",
    "print(\"=======================================================\")\n",
    "print(\"The Network of RDDAs is saved in: \", path)\n",
    "\n",
    "# Load the Network of RDDAs in a Pickle file\n",
    "# oRedRddasModel2 = RedRddasModel.load_file_pickle(path)\n",
    "\n",
    "# Show the Network of RDDAs\n",
    "# oRedRddasModel2.show()\n",
    "\n",
    "print(\"END SCRIPT\")"
   ],
   "metadata": {
    "collapsed": false,
    "pycharm": {
     "name": "#%%\n"
    }
   }
  }
 ],
 "metadata": {
  "kernelspec": {
   "display_name": "Python 3",
   "language": "python",
   "name": "python3"
  },
  "language_info": {
   "codemirror_mode": {
    "name": "ipython",
    "version": 2
   },
   "file_extension": ".py",
   "mimetype": "text/x-python",
   "name": "python",
   "nbconvert_exporter": "python",
   "pygments_lexer": "ipython2",
   "version": "2.7.6"
  }
 },
 "nbformat": 4,
 "nbformat_minor": 0
}