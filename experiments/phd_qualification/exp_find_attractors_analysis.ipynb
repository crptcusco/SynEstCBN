{
 "cells": [
  {
   "cell_type": "markdown",
   "source": [
    "# Analysing of method to find attractors in BNC"
   ],
   "metadata": {
    "collapsed": false,
    "pycharm": {
     "name": "#%% md\n"
    }
   }
  },
  {
   "cell_type": "code",
   "execution_count": 6,
   "metadata": {
    "collapsed": true,
    "pycharm": {
     "name": "#%%\n"
    }
   },
   "outputs": [
    {
     "name": "stdout",
     "output_type": "stream",
     "text": [
      "Reading the file:  data/exp_find_attractors_data.pickle\n"
     ]
    }
   ],
   "source": [
    "import pandas as pd\n",
    "import matplotlib.pyplot as plt\n",
    "import numpy as np\n",
    "\n",
    "from clases.experiment_model import ExperimentModel\n",
    "\n",
    "path = \"data/exp_find_attractors_data.pickle\"\n",
    "path_base = path[:-7]\n",
    "\n",
    "print(\"Reading the file: \", path)\n",
    "o_exp = ExperimentModel.load_file_pickle(path)\n",
    "\n",
    "# show the parameters of the experiment\n",
    "o_exp"
   ]
  },
  {
   "cell_type": "markdown",
   "source": [
    "### Process the data"
   ],
   "metadata": {
    "collapsed": false,
    "pycharm": {
     "name": "#%% md\n"
    }
   }
  },
  {
   "cell_type": "code",
   "execution_count": 10,
   "outputs": [
    {
     "data": {
      "text/plain": "                                                   0  \\\n0  <clases.red_rddas_model.RedRddasModel object a...   \n1  <clases.red_rddas_model.RedRddasModel object a...   \n2  <clases.red_rddas_model.RedRddasModel object a...   \n3  <clases.red_rddas_model.RedRddasModel object a...   \n4  <clases.red_rddas_model.RedRddasModel object a...   \n\n                                                   1  \\\n0  <clases.red_rddas_model.RedRddasModel object a...   \n1  <clases.red_rddas_model.RedRddasModel object a...   \n2  <clases.red_rddas_model.RedRddasModel object a...   \n3  <clases.red_rddas_model.RedRddasModel object a...   \n4  <clases.red_rddas_model.RedRddasModel object a...   \n\n                                                   2  \\\n0  <clases.red_rddas_model.RedRddasModel object a...   \n1  <clases.red_rddas_model.RedRddasModel object a...   \n2  <clases.red_rddas_model.RedRddasModel object a...   \n3  <clases.red_rddas_model.RedRddasModel object a...   \n4  <clases.red_rddas_model.RedRddasModel object a...   \n\n                                                   3  \\\n0  <clases.red_rddas_model.RedRddasModel object a...   \n1  <clases.red_rddas_model.RedRddasModel object a...   \n2  <clases.red_rddas_model.RedRddasModel object a...   \n3  <clases.red_rddas_model.RedRddasModel object a...   \n4  <clases.red_rddas_model.RedRddasModel object a...   \n\n                                                   4  \\\n0  <clases.red_rddas_model.RedRddasModel object a...   \n1  <clases.red_rddas_model.RedRddasModel object a...   \n2  <clases.red_rddas_model.RedRddasModel object a...   \n3  <clases.red_rddas_model.RedRddasModel object a...   \n4  <clases.red_rddas_model.RedRddasModel object a...   \n\n                                                   5  \\\n0  <clases.red_rddas_model.RedRddasModel object a...   \n1  <clases.red_rddas_model.RedRddasModel object a...   \n2  <clases.red_rddas_model.RedRddasModel object a...   \n3  <clases.red_rddas_model.RedRddasModel object a...   \n4  <clases.red_rddas_model.RedRddasModel object a...   \n\n                                                   6  \\\n0  <clases.red_rddas_model.RedRddasModel object a...   \n1  <clases.red_rddas_model.RedRddasModel object a...   \n2  <clases.red_rddas_model.RedRddasModel object a...   \n3  <clases.red_rddas_model.RedRddasModel object a...   \n4  <clases.red_rddas_model.RedRddasModel object a...   \n\n                                                   7  \n0  <clases.red_rddas_model.RedRddasModel object a...  \n1  <clases.red_rddas_model.RedRddasModel object a...  \n2  <clases.red_rddas_model.RedRddasModel object a...  \n3  <clases.red_rddas_model.RedRddasModel object a...  \n4  <clases.red_rddas_model.RedRddasModel object a...  ",
      "text/html": "<div>\n<style scoped>\n    .dataframe tbody tr th:only-of-type {\n        vertical-align: middle;\n    }\n\n    .dataframe tbody tr th {\n        vertical-align: top;\n    }\n\n    .dataframe thead th {\n        text-align: right;\n    }\n</style>\n<table border=\"1\" class=\"dataframe\">\n  <thead>\n    <tr style=\"text-align: right;\">\n      <th></th>\n      <th>0</th>\n      <th>1</th>\n      <th>2</th>\n      <th>3</th>\n      <th>4</th>\n      <th>5</th>\n      <th>6</th>\n      <th>7</th>\n    </tr>\n  </thead>\n  <tbody>\n    <tr>\n      <th>0</th>\n      <td>&lt;clases.red_rddas_model.RedRddasModel object a...</td>\n      <td>&lt;clases.red_rddas_model.RedRddasModel object a...</td>\n      <td>&lt;clases.red_rddas_model.RedRddasModel object a...</td>\n      <td>&lt;clases.red_rddas_model.RedRddasModel object a...</td>\n      <td>&lt;clases.red_rddas_model.RedRddasModel object a...</td>\n      <td>&lt;clases.red_rddas_model.RedRddasModel object a...</td>\n      <td>&lt;clases.red_rddas_model.RedRddasModel object a...</td>\n      <td>&lt;clases.red_rddas_model.RedRddasModel object a...</td>\n    </tr>\n    <tr>\n      <th>1</th>\n      <td>&lt;clases.red_rddas_model.RedRddasModel object a...</td>\n      <td>&lt;clases.red_rddas_model.RedRddasModel object a...</td>\n      <td>&lt;clases.red_rddas_model.RedRddasModel object a...</td>\n      <td>&lt;clases.red_rddas_model.RedRddasModel object a...</td>\n      <td>&lt;clases.red_rddas_model.RedRddasModel object a...</td>\n      <td>&lt;clases.red_rddas_model.RedRddasModel object a...</td>\n      <td>&lt;clases.red_rddas_model.RedRddasModel object a...</td>\n      <td>&lt;clases.red_rddas_model.RedRddasModel object a...</td>\n    </tr>\n    <tr>\n      <th>2</th>\n      <td>&lt;clases.red_rddas_model.RedRddasModel object a...</td>\n      <td>&lt;clases.red_rddas_model.RedRddasModel object a...</td>\n      <td>&lt;clases.red_rddas_model.RedRddasModel object a...</td>\n      <td>&lt;clases.red_rddas_model.RedRddasModel object a...</td>\n      <td>&lt;clases.red_rddas_model.RedRddasModel object a...</td>\n      <td>&lt;clases.red_rddas_model.RedRddasModel object a...</td>\n      <td>&lt;clases.red_rddas_model.RedRddasModel object a...</td>\n      <td>&lt;clases.red_rddas_model.RedRddasModel object a...</td>\n    </tr>\n    <tr>\n      <th>3</th>\n      <td>&lt;clases.red_rddas_model.RedRddasModel object a...</td>\n      <td>&lt;clases.red_rddas_model.RedRddasModel object a...</td>\n      <td>&lt;clases.red_rddas_model.RedRddasModel object a...</td>\n      <td>&lt;clases.red_rddas_model.RedRddasModel object a...</td>\n      <td>&lt;clases.red_rddas_model.RedRddasModel object a...</td>\n      <td>&lt;clases.red_rddas_model.RedRddasModel object a...</td>\n      <td>&lt;clases.red_rddas_model.RedRddasModel object a...</td>\n      <td>&lt;clases.red_rddas_model.RedRddasModel object a...</td>\n    </tr>\n    <tr>\n      <th>4</th>\n      <td>&lt;clases.red_rddas_model.RedRddasModel object a...</td>\n      <td>&lt;clases.red_rddas_model.RedRddasModel object a...</td>\n      <td>&lt;clases.red_rddas_model.RedRddasModel object a...</td>\n      <td>&lt;clases.red_rddas_model.RedRddasModel object a...</td>\n      <td>&lt;clases.red_rddas_model.RedRddasModel object a...</td>\n      <td>&lt;clases.red_rddas_model.RedRddasModel object a...</td>\n      <td>&lt;clases.red_rddas_model.RedRddasModel object a...</td>\n      <td>&lt;clases.red_rddas_model.RedRddasModel object a...</td>\n    </tr>\n  </tbody>\n</table>\n</div>"
     },
     "execution_count": 10,
     "metadata": {},
     "output_type": "execute_result"
    }
   ],
   "source": [
    "df = pd.DataFrame.from_dict(o_exp.d_data)\n",
    "df"
   ],
   "metadata": {
    "collapsed": false,
    "pycharm": {
     "name": "#%%\n"
    }
   }
  },
  {
   "cell_type": "code",
   "execution_count": 8,
   "outputs": [
    {
     "ename": "KeyError",
     "evalue": "\"None of [Index(['t_find_attractors_method', 't_optimized_method',\\n       't_comp_paris_method'],\\n      dtype='object')] are in the [columns]\"",
     "output_type": "error",
     "traceback": [
      "\u001B[0;31m---------------------------------------------------------------------------\u001B[0m",
      "\u001B[0;31mKeyError\u001B[0m                                  Traceback (most recent call last)",
      "\u001B[0;32m<ipython-input-8-6a293f8e0d13>\u001B[0m in \u001B[0;36m<module>\u001B[0;34m\u001B[0m\n\u001B[1;32m      3\u001B[0m \u001B[0;32mimport\u001B[0m \u001B[0mtime\u001B[0m\u001B[0;34m\u001B[0m\u001B[0;34m\u001B[0m\u001B[0m\n\u001B[1;32m      4\u001B[0m \u001B[0;34m\u001B[0m\u001B[0m\n\u001B[0;32m----> 5\u001B[0;31m \u001B[0mtime_experiment\u001B[0m \u001B[0;34m=\u001B[0m \u001B[0mdf\u001B[0m\u001B[0;34m[\u001B[0m\u001B[0;34m[\u001B[0m\u001B[0;34m't_find_attractors_method'\u001B[0m\u001B[0;34m,\u001B[0m\u001B[0;34m't_optimized_method'\u001B[0m\u001B[0;34m,\u001B[0m\u001B[0;34m't_comp_paris_method'\u001B[0m\u001B[0;34m]\u001B[0m\u001B[0;34m]\u001B[0m\u001B[0;34m.\u001B[0m\u001B[0msum\u001B[0m\u001B[0;34m(\u001B[0m\u001B[0;34m)\u001B[0m\u001B[0;34m.\u001B[0m\u001B[0msum\u001B[0m\u001B[0;34m(\u001B[0m\u001B[0;34m)\u001B[0m\u001B[0;34m\u001B[0m\u001B[0;34m\u001B[0m\u001B[0m\n\u001B[0m\u001B[1;32m      6\u001B[0m \u001B[0mtime_format\u001B[0m \u001B[0;34m=\u001B[0m \u001B[0mtime\u001B[0m\u001B[0;34m.\u001B[0m\u001B[0mstrftime\u001B[0m\u001B[0;34m(\u001B[0m\u001B[0;34m\"%H:%M:%S\"\u001B[0m\u001B[0;34m,\u001B[0m \u001B[0mtime\u001B[0m\u001B[0;34m.\u001B[0m\u001B[0mgmtime\u001B[0m\u001B[0;34m(\u001B[0m\u001B[0mtime_experiment\u001B[0m\u001B[0;34m)\u001B[0m\u001B[0;34m)\u001B[0m\u001B[0;34m\u001B[0m\u001B[0;34m\u001B[0m\u001B[0m\n\u001B[1;32m      7\u001B[0m \u001B[0mprint\u001B[0m\u001B[0;34m(\u001B[0m\u001B[0;34m\"Time experiment (seg.):\"\u001B[0m\u001B[0;34m,\u001B[0m\u001B[0mtime_experiment\u001B[0m\u001B[0;34m)\u001B[0m\u001B[0;34m\u001B[0m\u001B[0;34m\u001B[0m\u001B[0m\n",
      "\u001B[0;32m/usr/lib/python3/dist-packages/pandas/core/frame.py\u001B[0m in \u001B[0;36m__getitem__\u001B[0;34m(self, key)\u001B[0m\n\u001B[1;32m   2999\u001B[0m             \u001B[0;32mif\u001B[0m \u001B[0mis_iterator\u001B[0m\u001B[0;34m(\u001B[0m\u001B[0mkey\u001B[0m\u001B[0;34m)\u001B[0m\u001B[0;34m:\u001B[0m\u001B[0;34m\u001B[0m\u001B[0;34m\u001B[0m\u001B[0m\n\u001B[1;32m   3000\u001B[0m                 \u001B[0mkey\u001B[0m \u001B[0;34m=\u001B[0m \u001B[0mlist\u001B[0m\u001B[0;34m(\u001B[0m\u001B[0mkey\u001B[0m\u001B[0;34m)\u001B[0m\u001B[0;34m\u001B[0m\u001B[0;34m\u001B[0m\u001B[0m\n\u001B[0;32m-> 3001\u001B[0;31m             \u001B[0mindexer\u001B[0m \u001B[0;34m=\u001B[0m \u001B[0mself\u001B[0m\u001B[0;34m.\u001B[0m\u001B[0mloc\u001B[0m\u001B[0;34m.\u001B[0m\u001B[0m_convert_to_indexer\u001B[0m\u001B[0;34m(\u001B[0m\u001B[0mkey\u001B[0m\u001B[0;34m,\u001B[0m \u001B[0maxis\u001B[0m\u001B[0;34m=\u001B[0m\u001B[0;36m1\u001B[0m\u001B[0;34m,\u001B[0m \u001B[0mraise_missing\u001B[0m\u001B[0;34m=\u001B[0m\u001B[0;32mTrue\u001B[0m\u001B[0;34m)\u001B[0m\u001B[0;34m\u001B[0m\u001B[0;34m\u001B[0m\u001B[0m\n\u001B[0m\u001B[1;32m   3002\u001B[0m \u001B[0;34m\u001B[0m\u001B[0m\n\u001B[1;32m   3003\u001B[0m         \u001B[0;31m# take() does not accept boolean indexers\u001B[0m\u001B[0;34m\u001B[0m\u001B[0;34m\u001B[0m\u001B[0;34m\u001B[0m\u001B[0m\n",
      "\u001B[0;32m/usr/lib/python3/dist-packages/pandas/core/indexing.py\u001B[0m in \u001B[0;36m_convert_to_indexer\u001B[0;34m(self, obj, axis, is_setter, raise_missing)\u001B[0m\n\u001B[1;32m   1283\u001B[0m                 \u001B[0;31m# When setting, missing keys are not allowed, even with .loc:\u001B[0m\u001B[0;34m\u001B[0m\u001B[0;34m\u001B[0m\u001B[0;34m\u001B[0m\u001B[0m\n\u001B[1;32m   1284\u001B[0m                 \u001B[0mkwargs\u001B[0m \u001B[0;34m=\u001B[0m \u001B[0;34m{\u001B[0m\u001B[0;34m\"raise_missing\"\u001B[0m\u001B[0;34m:\u001B[0m \u001B[0;32mTrue\u001B[0m \u001B[0;32mif\u001B[0m \u001B[0mis_setter\u001B[0m \u001B[0;32melse\u001B[0m \u001B[0mraise_missing\u001B[0m\u001B[0;34m}\u001B[0m\u001B[0;34m\u001B[0m\u001B[0;34m\u001B[0m\u001B[0m\n\u001B[0;32m-> 1285\u001B[0;31m                 \u001B[0;32mreturn\u001B[0m \u001B[0mself\u001B[0m\u001B[0;34m.\u001B[0m\u001B[0m_get_listlike_indexer\u001B[0m\u001B[0;34m(\u001B[0m\u001B[0mobj\u001B[0m\u001B[0;34m,\u001B[0m \u001B[0maxis\u001B[0m\u001B[0;34m,\u001B[0m \u001B[0;34m**\u001B[0m\u001B[0mkwargs\u001B[0m\u001B[0;34m)\u001B[0m\u001B[0;34m[\u001B[0m\u001B[0;36m1\u001B[0m\u001B[0;34m]\u001B[0m\u001B[0;34m\u001B[0m\u001B[0;34m\u001B[0m\u001B[0m\n\u001B[0m\u001B[1;32m   1286\u001B[0m         \u001B[0;32melse\u001B[0m\u001B[0;34m:\u001B[0m\u001B[0;34m\u001B[0m\u001B[0;34m\u001B[0m\u001B[0m\n\u001B[1;32m   1287\u001B[0m             \u001B[0;32mtry\u001B[0m\u001B[0;34m:\u001B[0m\u001B[0;34m\u001B[0m\u001B[0;34m\u001B[0m\u001B[0m\n",
      "\u001B[0;32m/usr/lib/python3/dist-packages/pandas/core/indexing.py\u001B[0m in \u001B[0;36m_get_listlike_indexer\u001B[0;34m(self, key, axis, raise_missing)\u001B[0m\n\u001B[1;32m   1089\u001B[0m             \u001B[0mkeyarr\u001B[0m\u001B[0;34m,\u001B[0m \u001B[0mindexer\u001B[0m\u001B[0;34m,\u001B[0m \u001B[0mnew_indexer\u001B[0m \u001B[0;34m=\u001B[0m \u001B[0max\u001B[0m\u001B[0;34m.\u001B[0m\u001B[0m_reindex_non_unique\u001B[0m\u001B[0;34m(\u001B[0m\u001B[0mkeyarr\u001B[0m\u001B[0;34m)\u001B[0m\u001B[0;34m\u001B[0m\u001B[0;34m\u001B[0m\u001B[0m\n\u001B[1;32m   1090\u001B[0m \u001B[0;34m\u001B[0m\u001B[0m\n\u001B[0;32m-> 1091\u001B[0;31m         self._validate_read_indexer(\n\u001B[0m\u001B[1;32m   1092\u001B[0m             \u001B[0mkeyarr\u001B[0m\u001B[0;34m,\u001B[0m \u001B[0mindexer\u001B[0m\u001B[0;34m,\u001B[0m \u001B[0mo\u001B[0m\u001B[0;34m.\u001B[0m\u001B[0m_get_axis_number\u001B[0m\u001B[0;34m(\u001B[0m\u001B[0maxis\u001B[0m\u001B[0;34m)\u001B[0m\u001B[0;34m,\u001B[0m \u001B[0mraise_missing\u001B[0m\u001B[0;34m=\u001B[0m\u001B[0mraise_missing\u001B[0m\u001B[0;34m\u001B[0m\u001B[0;34m\u001B[0m\u001B[0m\n\u001B[1;32m   1093\u001B[0m         )\n",
      "\u001B[0;32m/usr/lib/python3/dist-packages/pandas/core/indexing.py\u001B[0m in \u001B[0;36m_validate_read_indexer\u001B[0;34m(self, key, indexer, axis, raise_missing)\u001B[0m\n\u001B[1;32m   1173\u001B[0m         \u001B[0;32mif\u001B[0m \u001B[0mmissing\u001B[0m\u001B[0;34m:\u001B[0m\u001B[0;34m\u001B[0m\u001B[0;34m\u001B[0m\u001B[0m\n\u001B[1;32m   1174\u001B[0m             \u001B[0;32mif\u001B[0m \u001B[0mmissing\u001B[0m \u001B[0;34m==\u001B[0m \u001B[0mlen\u001B[0m\u001B[0;34m(\u001B[0m\u001B[0mindexer\u001B[0m\u001B[0;34m)\u001B[0m\u001B[0;34m:\u001B[0m\u001B[0;34m\u001B[0m\u001B[0;34m\u001B[0m\u001B[0m\n\u001B[0;32m-> 1175\u001B[0;31m                 raise KeyError(\n\u001B[0m\u001B[1;32m   1176\u001B[0m                     \"None of [{key}] are in the [{axis}]\".format(\n\u001B[1;32m   1177\u001B[0m                         \u001B[0mkey\u001B[0m\u001B[0;34m=\u001B[0m\u001B[0mkey\u001B[0m\u001B[0;34m,\u001B[0m \u001B[0maxis\u001B[0m\u001B[0;34m=\u001B[0m\u001B[0mself\u001B[0m\u001B[0;34m.\u001B[0m\u001B[0mobj\u001B[0m\u001B[0;34m.\u001B[0m\u001B[0m_get_axis_name\u001B[0m\u001B[0;34m(\u001B[0m\u001B[0maxis\u001B[0m\u001B[0;34m)\u001B[0m\u001B[0;34m\u001B[0m\u001B[0;34m\u001B[0m\u001B[0m\n",
      "\u001B[0;31mKeyError\u001B[0m: \"None of [Index(['t_find_attractors_method', 't_optimized_method',\\n       't_comp_paris_method'],\\n      dtype='object')] are in the [columns]\""
     ]
    }
   ],
   "source": [
    "# Time of Experiment (in seg) 437589.64926457405\n",
    "# Time of Experiment (in hours, minutes and seconds) 01:33:09\n",
    "import time\n",
    "\n",
    "time_experiment = df[['t_find_attractors_method','t_optimized_method','t_comp_paris_method']].sum().sum()\n",
    "time_format = time.strftime(\"%H:%M:%S\", time.gmtime(time_experiment))\n",
    "print(\"Time experiment (seg.):\",time_experiment)\n",
    "print(\"Time experiment (hh:mm:ss):\",time_format)"
   ],
   "metadata": {
    "collapsed": false,
    "pycharm": {
     "name": "#%%\n"
    }
   }
  },
  {
   "cell_type": "code",
   "execution_count": null,
   "outputs": [],
   "source": [
    "l_labels_y = [\"Number of attractors\", \"Time to find attractors\", \"Number of pairs attractors\", \"Time to compute the attractor pairs\", \"Number of attractor fields\", \"Time of find fields attractors\"]\n",
    "\n",
    "grouped = df.groupby(\"n_sample\")\n",
    "labels = {key:label for key, label in zip(df.keys()[3:], [\n",
    "          \"Number of attractors\",\n",
    "          \"Time to find attractors\",\n",
    "          \"Number of pairs attractors\",\n",
    "          \"Time to compute the attractor pairs\",\n",
    "          \"Number of attractor fields\",\n",
    "          \"Time of find fields attractors\"])}\n",
    "\n",
    "for number in np.array(list(grouped.groups.keys()))[:5]:\n",
    "    group = grouped.get_group(number)\n",
    "    fig_, axs = plt.subplots(1,6,figsize=(24,5))\n",
    "    for (ax, key) in zip(axs, group.keys()[3:]):\n",
    "        ax.plot(group['n_rdds'], group[key])\n",
    "        ax.set_xlabel('Number of RDDs by RDDA')\n",
    "        ax.set_ylabel(labels[key])\n",
    "        ax.grid(True)\n",
    "    fig_.suptitle('Result of the execution: ' + str(number), fontsize=16)\n",
    "    fig_.tight_layout()"
   ],
   "metadata": {
    "collapsed": false,
    "pycharm": {
     "name": "#%%\n"
    }
   }
  },
  {
   "cell_type": "code",
   "execution_count": null,
   "outputs": [],
   "source": [
    "# General Boxplot by Indicator\n",
    "l_labels_y = [\"Number of attractors\", \"Time of find Attractors\", \"Number of pairs attractors\", \"Time to compute the attractor pairs\", \"Number of attractor Fields\", \"Time of find fields attractors\"]\n",
    "\n",
    "fig_, axs = plt.subplots(1,6,figsize=(24,7))\n",
    "cont_label = 0\n",
    "for (key,ax) in zip(df.keys()[3:], axs):\n",
    "    ax.boxplot(df[key])\n",
    "    ax.violinplot(df[key])\n",
    "    ax.set_xlabel(l_labels_y[cont_label])\n",
    "    ax.grid(True)\n",
    "    cont_label += 1\n",
    "fig_.suptitle('Experiment: Network Growth by Number of RDDs - General Boxplot by Indicator', fontsize=20)\n",
    "fig_.tight_layout()"
   ],
   "metadata": {
    "collapsed": false,
    "pycharm": {
     "name": "#%%\n"
    }
   }
  }
 ],
 "metadata": {
  "kernelspec": {
   "display_name": "Python 3",
   "language": "python",
   "name": "python3"
  },
  "language_info": {
   "codemirror_mode": {
    "name": "ipython",
    "version": 2
   },
   "file_extension": ".py",
   "mimetype": "text/x-python",
   "name": "python",
   "nbconvert_exporter": "python",
   "pygments_lexer": "ipython2",
   "version": "2.7.6"
  }
 },
 "nbformat": 4,
 "nbformat_minor": 0
}