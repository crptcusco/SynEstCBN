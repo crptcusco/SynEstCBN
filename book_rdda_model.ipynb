{
 "cells": [
  {
   "cell_type": "markdown",
   "metadata": {
    "pycharm": {
     "name": "#%% md\n"
    }
   },
   "source": [
    "# Begin Ray Process"
   ]
  },
  {
   "cell_type": "code",
   "execution_count": 2,
   "metadata": {
    "tags": [],
    "pycharm": {
     "name": "#%%\n"
    }
   },
   "outputs": [
    {
     "data": {
      "text/plain": "RayContext(dashboard_url='', python_version='3.8.10', ray_version='1.13.0', ray_commit='e4ce38d001dbbe09cd21c497fedd03d692b2be3e', address_info={'node_ip_address': '192.168.1.81', 'raylet_ip_address': '192.168.1.81', 'redis_address': None, 'object_store_address': '/tmp/ray/session_2022-06-18_23-23-28_289681_98344/sockets/plasma_store', 'raylet_socket_name': '/tmp/ray/session_2022-06-18_23-23-28_289681_98344/sockets/raylet', 'webui_url': '', 'session_dir': '/tmp/ray/session_2022-06-18_23-23-28_289681_98344', 'metrics_export_port': 64648, 'gcs_address': '192.168.1.81:65240', 'address': '192.168.1.81:65240', 'node_id': '66a2aabf9465633551b47c4a554c8ee4b73131d39fb66f4bce930c53'})"
     },
     "execution_count": 2,
     "metadata": {},
     "output_type": "execute_result"
    }
   ],
   "source": [
    "from clases.red_rddas_model import RedRddasModel\n",
    "import ray\n",
    "ray.init(num_cpus=4, log_to_driver=False)\n",
    "# import random  # generate random numbers\n",
    "# from random import randint  # generate random numbers integers\n",
    "# from itertools import product  # generate combinations of numbers"
   ]
  },
  {
   "cell_type": "markdown",
   "source": [
    "# Read the serial object of the RDDA"
   ],
   "metadata": {
    "collapsed": false,
    "pycharm": {
     "name": "#%% md\n"
    }
   }
  },
  {
   "cell_type": "code",
   "execution_count": 3,
   "outputs": [
    {
     "name": "stdout",
     "output_type": "stream",
     "text": [
      "Reading the file:  files/18_06_2022_6_5_2_2_2.pickle\n"
     ]
    }
   ],
   "source": [
    "path = \"files/18_06_2022_6_5_2_2_2.pickle\"\n",
    "path_base = path[:-7]\n",
    "\n",
    "print(\"Reading the file: \", path)\n",
    "oRedRddasModel = RedRddasModel.load_file_pickle(path)"
   ],
   "metadata": {
    "collapsed": false,
    "pycharm": {
     "name": "#%%\n"
    }
   }
  },
  {
   "cell_type": "markdown",
   "source": [
    "# Show the RDDA information"
   ],
   "metadata": {
    "collapsed": false,
    "pycharm": {
     "name": "#%% md\n"
    }
   }
  },
  {
   "cell_type": "code",
   "execution_count": 4,
   "metadata": {
    "collapsed": false,
    "jupyter": {
     "outputs_hidden": false
    },
    "pycharm": {
     "name": "#%%\n"
    }
   },
   "outputs": [
    {
     "name": "stdout",
     "output_type": "stream",
     "text": [
      "================================================================\n",
      "NETWORK RDDA DESCRIPTION\n",
      "================================================================\n",
      "Number of RDDs : 6\n",
      "Number of variables by RDD : 5\n",
      "Number of coupling signals by RDD : 2\n",
      "Maximum number of exit variables by signal : 6\n",
      "Maximum number of clauses by function : 6\n",
      "================================================================\n",
      "================================================================\n",
      "RDDA DESCRIPTION\n",
      "Name of RDDA : 1\n",
      "List of intern variables : \n",
      "[1, 2, 3, 4, 5]\n",
      "List of coupling signals : \n",
      "---------------\n",
      "Network Input : 1\n",
      "Network Output : 5\n",
      "Variables : [24, 25]\n",
      "Name Variable : 31\n",
      "Coupling Function : 24 ∨ 25\n",
      "Truth Table: {'11': '1', '10': '1', '01': '1', '00': '0'}\n",
      "---------------\n",
      "---------------\n",
      "Network Input : 1\n",
      "Network Output : 3\n",
      "Variables : [15, 14]\n",
      "Name Variable : 32\n",
      "Coupling Function : 15 ∨ 14\n",
      "Truth Table: {'11': '1', '10': '1', '01': '1', '00': '0'}\n",
      "---------------\n",
      "Description of Variables\n",
      "V: 1 CNF :[[2]]\n",
      "V: 2 CNF :[[3], [2]]\n",
      "V: 3 CNF :[[3, 5]]\n",
      "V: 4 CNF :[[4]]\n",
      "V: 5 CNF :[[2, 5, 32]]\n",
      "================================================================\n",
      "================================================================\n",
      "RDDA DESCRIPTION\n",
      "Name of RDDA : 2\n",
      "List of intern variables : \n",
      "[6, 7, 8, 9, 10]\n",
      "List of coupling signals : \n",
      "---------------\n",
      "Network Input : 2\n",
      "Network Output : 1\n",
      "Variables : [2, 4]\n",
      "Name Variable : 33\n",
      "Coupling Function : 2 ∨ 4\n",
      "Truth Table: {'11': '1', '10': '1', '01': '1', '00': '0'}\n",
      "---------------\n",
      "Description of Variables\n",
      "V: 6 CNF :[[10, 8]]\n",
      "V: 7 CNF :[[7, 8, 33]]\n",
      "V: 8 CNF :[[9, 8, 7], [7]]\n",
      "V: 9 CNF :[[10], [7, 9]]\n",
      "V: 10 CNF :[[6, 7, 8], [6, 10]]\n",
      "================================================================\n",
      "================================================================\n",
      "RDDA DESCRIPTION\n",
      "Name of RDDA : 3\n",
      "List of intern variables : \n",
      "[11, 12, 13, 14, 15]\n",
      "List of coupling signals : \n",
      "---------------\n",
      "Network Input : 3\n",
      "Network Output : 1\n",
      "Variables : [4, 3]\n",
      "Name Variable : 34\n",
      "Coupling Function : 4 ∨ 3\n",
      "Truth Table: {'11': '1', '10': '1', '01': '1', '00': '0'}\n",
      "---------------\n",
      "---------------\n",
      "Network Input : 3\n",
      "Network Output : 2\n",
      "Variables : [9, 6]\n",
      "Name Variable : 35\n",
      "Coupling Function : 9 ∨ 6\n",
      "Truth Table: {'11': '1', '10': '1', '01': '1', '00': '0'}\n",
      "---------------\n",
      "Description of Variables\n",
      "V: 11 CNF :[[35], [13, 15]]\n",
      "V: 12 CNF :[[13, 34]]\n",
      "V: 13 CNF :[[14, 35, 34]]\n",
      "V: 14 CNF :[[34, 12, 15]]\n",
      "V: 15 CNF :[[13]]\n",
      "================================================================\n",
      "================================================================\n",
      "RDDA DESCRIPTION\n",
      "Name of RDDA : 4\n",
      "List of intern variables : \n",
      "[16, 17, 18, 19, 20]\n",
      "List of coupling signals : \n",
      "---------------\n",
      "Network Input : 4\n",
      "Network Output : 5\n",
      "Variables : [22, 23]\n",
      "Name Variable : 36\n",
      "Coupling Function : 22 ∨ 23\n",
      "Truth Table: {'11': '1', '10': '1', '01': '1', '00': '0'}\n",
      "---------------\n",
      "Description of Variables\n",
      "V: 16 CNF :[[19]]\n",
      "V: 17 CNF :[[19, 17, 18], [20, 17, 19]]\n",
      "V: 18 CNF :[[16, 17], [16]]\n",
      "V: 19 CNF :[[16], [17, 20]]\n",
      "V: 20 CNF :[[19, 20]]\n",
      "================================================================\n",
      "================================================================\n",
      "RDDA DESCRIPTION\n",
      "Name of RDDA : 5\n",
      "List of intern variables : \n",
      "[21, 22, 23, 24, 25]\n",
      "List of coupling signals : \n",
      "---------------\n",
      "Network Input : 5\n",
      "Network Output : 6\n",
      "Variables : [28, 30]\n",
      "Name Variable : 37\n",
      "Coupling Function : 28 ∨ 30\n",
      "Truth Table: {'11': '1', '10': '1', '01': '1', '00': '0'}\n",
      "---------------\n",
      "Description of Variables\n",
      "V: 21 CNF :[[24, 37, 23], [25, 21]]\n",
      "V: 22 CNF :[[21]]\n",
      "V: 23 CNF :[[22, 37], [21, 22]]\n",
      "V: 24 CNF :[[24, 22], [24, 22]]\n",
      "V: 25 CNF :[[37, 24]]\n",
      "================================================================\n",
      "================================================================\n",
      "RDDA DESCRIPTION\n",
      "Name of RDDA : 6\n",
      "List of intern variables : \n",
      "[26, 27, 28, 29, 30]\n",
      "List of coupling signals : \n",
      "---------------\n",
      "Network Input : 6\n",
      "Network Output : 3\n",
      "Variables : [13, 14]\n",
      "Name Variable : 38\n",
      "Coupling Function : 13 ∨ 14\n",
      "Truth Table: {'11': '1', '10': '1', '01': '1', '00': '0'}\n",
      "---------------\n",
      "---------------\n",
      "Network Input : 6\n",
      "Network Output : 4\n",
      "Variables : [18, 17]\n",
      "Name Variable : 39\n",
      "Coupling Function : 18 ∨ 17\n",
      "Truth Table: {'11': '1', '10': '1', '01': '1', '00': '0'}\n",
      "---------------\n",
      "Description of Variables\n",
      "V: 26 CNF :[[26, 38], [28, 39]]\n",
      "V: 27 CNF :[[26, 30, 38], [26, 29]]\n",
      "V: 28 CNF :[[28]]\n",
      "V: 29 CNF :[[29, 30, 28], [27]]\n",
      "V: 30 CNF :[[27, 28]]\n",
      "================================================================\n"
     ]
    }
   ],
   "source": [
    "#Show the RDDA Information\n",
    "oRedRddasModel.show()"
   ]
  },
  {
   "cell_type": "markdown",
   "source": [
    "# Show the Topology Graph of RDDA"
   ],
   "metadata": {
    "collapsed": false,
    "pycharm": {
     "name": "#%% md\n"
    }
   }
  },
  {
   "cell_type": "code",
   "execution_count": 5,
   "metadata": {
    "collapsed": false,
    "jupyter": {
     "outputs_hidden": false
    },
    "pycharm": {
     "name": "#%%\n"
    }
   },
   "outputs": [
    {
     "name": "stdout",
     "output_type": "stream",
     "text": [
      "Topology Graph of the RDDA using igraph Library\n",
      "Show the Topology Graph of the RDDA\n"
     ]
    },
    {
     "data": {
      "text/plain": "<Figure size 600x400 with 1 Axes>",
      "image/png": "[encoded data removed]"
     },
     "metadata": {
      "needs_background": "light"
     },
     "output_type": "display_data"
    }
   ],
   "source": [
    "# generate the diagram of the Network RDDA, show and save graph in .eps format\n",
    "# Show the topology of the RDDA in a graph using the igraph library and save the graph in eps format\n",
    "print(\"Topology Graph of the RDDA using igraph Library\")\n",
    "oRedRddasModel.graph_topology_igraph(show_graph=True,save_graph=True,path_graph=\"\")"
   ]
  },
  {
   "cell_type": "markdown",
   "source": [
    "# Calculate the compatible pairs"
   ],
   "metadata": {
    "collapsed": false,
    "pycharm": {
     "name": "#%% md\n"
    }
   }
  },
  {
   "cell_type": "code",
   "source": [
    "# Calculate the Attractors by RDDA and by Signal\n",
    "result = RedRddasModel.calculation_compatible_pairs.remote(oRedRddasModel)\n",
    "oRedRddasModel = ray.get(result)"
   ],
   "metadata": {
    "collapsed": false,
    "pycharm": {
     "name": "#%%\n"
    }
   },
   "execution_count": 6,
   "outputs": []
  },
  {
   "cell_type": "markdown",
   "source": [
    "# Assembly the Attractors Field"
   ],
   "metadata": {
    "collapsed": false,
    "pycharm": {
     "name": "#%% md\n"
    }
   }
  },
  {
   "cell_type": "code",
   "execution_count": 7,
   "outputs": [],
   "source": [
    "# import time\n",
    "# inicio = time.time()\n",
    "#\n",
    "# # Calculate the Attractors by RDDA and by Signal with iterative Method\n",
    "# result = RedRddasModel.assembly_attractor_fields_iterative.remote(oRedRddasModel)\n",
    "# oRedRddasModel = ray.get(result)\n",
    "#\n",
    "# fim = time.time()\n",
    "# print(\"Duracion 1:\",fim - inicio)"
   ],
   "metadata": {
    "collapsed": false,
    "pycharm": {
     "name": "#%%\n"
    }
   }
  },
  {
   "cell_type": "markdown",
   "source": [
    "# Assembly the Attractor Fields Optimized"
   ],
   "metadata": {
    "collapsed": false,
    "pycharm": {
     "name": "#%% md\n"
    }
   }
  },
  {
   "cell_type": "code",
   "execution_count": 8,
   "outputs": [
    {
     "name": "stdout",
     "output_type": "stream",
     "text": [
      "OUPUT 158\n",
      "Duracion 1: 0.37405848503112793\n"
     ]
    }
   ],
   "source": [
    "import time\n",
    "inicio = time.time()\n",
    "\n",
    "# Calculate the Attractors by RDDA and by Signal with iterative Method\n",
    "oRedRddasModel = RedRddasModel.assembly_attractor_fields_optimized(oRedRddasModel)\n",
    "\n",
    "fim = time.time()\n",
    "print(\"Duracion 1:\",fim - inicio)"
   ],
   "metadata": {
    "collapsed": false,
    "pycharm": {
     "name": "#%%\n"
    }
   }
  },
  {
   "cell_type": "markdown",
   "source": [],
   "metadata": {
    "collapsed": false,
    "pycharm": {
     "name": "#%% md\n"
    }
   }
  },
  {
   "cell_type": "code",
   "execution_count": 9,
   "metadata": {
    "collapsed": false,
    "jupyter": {
     "outputs_hidden": false
    },
    "pycharm": {
     "name": "#%%\n"
    }
   },
   "outputs": [],
   "source": [
    "# Show the topology graph using the Networkx library\n",
    "# oRedRddasModel.graph_topology_networkx(show_graph = True ,save_graph=False,path_graph=\"\")"
   ]
  },
  {
   "cell_type": "markdown",
   "source": [
    "# Graph the relations between compatible attractor pairs"
   ],
   "metadata": {
    "collapsed": false,
    "pycharm": {
     "name": "#%% md\n"
    }
   }
  },
  {
   "cell_type": "code",
   "execution_count": 10,
   "metadata": {
    "collapsed": false,
    "jupyter": {
     "outputs_hidden": false
    },
    "pycharm": {
     "name": "#%%\n"
    }
   },
   "outputs": [],
   "source": [
    "# # Show the Graph of the attractor pairs\n",
    "# oRedRddasModel.graph_attractor_pairs(export_graph=True, path=path_base)"
   ]
  },
  {
   "cell_type": "markdown",
   "source": [
    "# Graph the Attractor Fields"
   ],
   "metadata": {
    "collapsed": false,
    "pycharm": {
     "name": "#%% md\n"
    }
   }
  },
  {
   "cell_type": "code",
   "execution_count": 11,
   "metadata": {
    "collapsed": false,
    "jupyter": {
     "outputs_hidden": false
    },
    "pycharm": {
     "name": "#%%\n"
    }
   },
   "outputs": [],
   "source": [
    "# # Show the Graphs of the attractor fields\n",
    "# oRedRddasModel.graph_attractor_fields()"
   ]
  },
  {
   "cell_type": "markdown",
   "source": [
    "# Show the detail of each Attractor Field"
   ],
   "metadata": {
    "collapsed": false,
    "pycharm": {
     "name": "#%% md\n"
    }
   }
  },
  {
   "cell_type": "code",
   "execution_count": 12,
   "metadata": {
    "collapsed": false,
    "jupyter": {
     "outputs_hidden": false
    },
    "pycharm": {
     "name": "#%%\n"
    }
   },
   "outputs": [],
   "source": [
    "# # Show the detail for each attractor field\n",
    "# oRedRddasModel.show_detail_attractor_fields()"
   ]
  },
  {
   "cell_type": "markdown",
   "source": [
    "# Examples"
   ],
   "metadata": {
    "collapsed": false,
    "pycharm": {
     "name": "#%% md\n"
    }
   }
  },
  {
   "cell_type": "code",
   "execution_count": 13,
   "outputs": [
    {
     "name": "stdout",
     "output_type": "stream",
     "text": [
      "Number of Attractors : 70\n",
      "Number of Attractor Fields: 158\n",
      "Duracion 1: 0.37405848503112793\n"
     ]
    }
   ],
   "source": [
    "# # Relations Between RDDs\n",
    "# l_relations_rdds = []\n",
    "# oRedRddasModel.list_of_rddas\n",
    "# for o_rdd in oRedRddasModel.list_of_rddas:\n",
    "#     for o_signal in o_rdd.list_of_signals:\n",
    "#         l_relations_rdds.append([o_signal.rdda_entrada, o_signal.rdda_salida])\n",
    "# print(l_relations_rdds)\n",
    "\n",
    "# List of attractors and his RDD\n",
    "l_attractor_rdd = []\n",
    "for v_key, v_value in oRedRddasModel.d_global_rdda_attractor.items():\n",
    "    l_attractor_rdd.append([v_key,v_value[0]])\n",
    "print(\"Number of Attractors :\", len(l_attractor_rdd))\n",
    "print(\"Number of Attractor Fields:\", len(oRedRddasModel.attractor_fields))\n",
    "print(\"Duracion 1:\",fim - inicio)\n",
    "# #Diferent List of attractors pairs\n",
    "# oRedRddasModel.group_signals_pairs\n",
    "# oRedRddasModel.rddas_attractors\n",
    "# oRedRddasModel.list_signal_pairs"
   ],
   "metadata": {
    "collapsed": false,
    "pycharm": {
     "name": "#%%\n"
    }
   }
  },
  {
   "cell_type": "markdown",
   "source": [
    "# End Ray Process"
   ],
   "metadata": {
    "collapsed": false,
    "pycharm": {
     "name": "#%% md\n"
    }
   }
  },
  {
   "cell_type": "code",
   "execution_count": 14,
   "outputs": [],
   "source": [
    "# Explicit stop Ray\n",
    "ray.shutdown()"
   ],
   "metadata": {
    "collapsed": false,
    "pycharm": {
     "name": "#%%\n"
    }
   }
  }
 ],
 "metadata": {
  "kernelspec": {
   "display_name": "Python 3 (ipykernel)",
   "language": "python",
   "name": "python3"
  },
  "language_info": {
   "codemirror_mode": {
    "name": "ipython",
    "version": 3
   },
   "file_extension": ".py",
   "mimetype": "text/x-python",
   "name": "python",
   "nbconvert_exporter": "python",
   "pygments_lexer": "ipython3",
   "version": "3.8.12"
  },
  "toc-autonumbering": true,
  "toc-showcode": false,
  "toc-showmarkdowntxt": true
 },
 "nbformat": 4,
 "nbformat_minor": 4
}