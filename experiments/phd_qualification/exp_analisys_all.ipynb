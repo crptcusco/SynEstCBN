{
 "cells": [
  {
   "cell_type": "markdown",
   "source": [
    "# Read the data"
   ],
   "metadata": {
    "collapsed": false,
    "pycharm": {
     "name": "#%% md\n"
    }
   }
  },
  {
   "cell_type": "code",
   "execution_count": 4,
   "metadata": {
    "collapsed": true,
    "pycharm": {
     "name": "#%%\n"
    },
    "ExecuteTime": {
     "end_time": "2023-11-23T16:02:52.673082721Z",
     "start_time": "2023-11-23T16:02:52.536068843Z"
    }
   },
   "outputs": [
    {
     "name": "stdout",
     "output_type": "stream",
     "text": [
      "Experiment data analysis - Network growth\n",
      "Number of samples: 500\n",
      "Number of RDDs by sample: 8\n",
      "Range of RDDs: 3 - 10\n"
     ]
    },
    {
     "data": {
      "text/plain": "    n_sample  n_network  n_rdds  n_rdda_attractors  t_find_attractors_method  \\\n0          1          1       3                 29                  1.428841   \n1          1          2       4                 27                  0.569466   \n2          1          3       5                 33                  1.312037   \n3          1          4       6                 82                  1.724923   \n4          1          5       7                 68                  1.613925   \n5          1          6       8                 93                  1.859784   \n6          1          7       9                 81                  1.812516   \n7          1          8      10                118                  2.651089   \n8          2          1       3                 26                  0.659893   \n9          2          2       4                 51                  1.085745   \n10         2          3       5                 55                  1.210809   \n11         2          4       6                 68                  1.418124   \n12         2          5       7                 75                  1.585788   \n13         2          6       8                 92                  1.984129   \n14         2          7       9                 67                  1.776789   \n15         2          8      10                120                  2.395219   \n16         3          1       3                 27                  0.637994   \n17         3          2       4                 50                  1.039831   \n18         3          3       5                 41                  1.018191   \n19         3          4       6                 47                  1.155959   \n\n    n_pair_attractors  t_comp_paris_method  n_attractor_fields  \\\n0                 242             0.078654                   6   \n1                 170             0.042919                   4   \n2                 209             0.063791                   9   \n3                 904             0.212845                 438   \n4                 676             0.165403                 172   \n5                 836             0.238347                 172   \n6                 567             0.147042                   0   \n7                1035             0.269565                2200   \n8                 183             0.047000                   3   \n9                 687             0.135254                  77   \n10                557             0.120613                  24   \n11                530             0.128676                  64   \n12                695             0.163949                  56   \n13               1049             0.261964                 654   \n14                440             0.110200                  66   \n15               1243             0.305745                   0   \n16                231             0.051032                  13   \n17                650             0.136089                  62   \n18                288             0.074701                   9   \n19                322             0.073132                  98   \n\n    t_optimized_method  \n0             0.037363  \n1             0.022636  \n2             0.064721  \n3            30.575644  \n4             3.318155  \n5            27.215594  \n6             0.006125  \n7          1864.570178  \n8             0.018296  \n9             0.511187  \n10            0.498137  \n11           13.209212  \n12            8.091701  \n13           54.401717  \n14           13.235472  \n15            0.215603  \n16            0.039961  \n17            1.165278  \n18            0.176274  \n19            0.406048  ",
      "text/html": "<div>\n<style scoped>\n    .dataframe tbody tr th:only-of-type {\n        vertical-align: middle;\n    }\n\n    .dataframe tbody tr th {\n        vertical-align: top;\n    }\n\n    .dataframe thead th {\n        text-align: right;\n    }\n</style>\n<table border=\"1\" class=\"dataframe\">\n  <thead>\n    <tr style=\"text-align: right;\">\n      <th></th>\n      <th>n_sample</th>\n      <th>n_network</th>\n      <th>n_rdds</th>\n      <th>n_rdda_attractors</th>\n      <th>t_find_attractors_method</th>\n      <th>n_pair_attractors</th>\n      <th>t_comp_paris_method</th>\n      <th>n_attractor_fields</th>\n      <th>t_optimized_method</th>\n    </tr>\n  </thead>\n  <tbody>\n    <tr>\n      <th>0</th>\n      <td>1</td>\n      <td>1</td>\n      <td>3</td>\n      <td>29</td>\n      <td>1.428841</td>\n      <td>242</td>\n      <td>0.078654</td>\n      <td>6</td>\n      <td>0.037363</td>\n    </tr>\n    <tr>\n      <th>1</th>\n      <td>1</td>\n      <td>2</td>\n      <td>4</td>\n      <td>27</td>\n      <td>0.569466</td>\n      <td>170</td>\n      <td>0.042919</td>\n      <td>4</td>\n      <td>0.022636</td>\n    </tr>\n    <tr>\n      <th>2</th>\n      <td>1</td>\n      <td>3</td>\n      <td>5</td>\n      <td>33</td>\n      <td>1.312037</td>\n      <td>209</td>\n      <td>0.063791</td>\n      <td>9</td>\n      <td>0.064721</td>\n    </tr>\n    <tr>\n      <th>3</th>\n      <td>1</td>\n      <td>4</td>\n      <td>6</td>\n      <td>82</td>\n      <td>1.724923</td>\n      <td>904</td>\n      <td>0.212845</td>\n      <td>438</td>\n      <td>30.575644</td>\n    </tr>\n    <tr>\n      <th>4</th>\n      <td>1</td>\n      <td>5</td>\n      <td>7</td>\n      <td>68</td>\n      <td>1.613925</td>\n      <td>676</td>\n      <td>0.165403</td>\n      <td>172</td>\n      <td>3.318155</td>\n    </tr>\n    <tr>\n      <th>5</th>\n      <td>1</td>\n      <td>6</td>\n      <td>8</td>\n      <td>93</td>\n      <td>1.859784</td>\n      <td>836</td>\n      <td>0.238347</td>\n      <td>172</td>\n      <td>27.215594</td>\n    </tr>\n    <tr>\n      <th>6</th>\n      <td>1</td>\n      <td>7</td>\n      <td>9</td>\n      <td>81</td>\n      <td>1.812516</td>\n      <td>567</td>\n      <td>0.147042</td>\n      <td>0</td>\n      <td>0.006125</td>\n    </tr>\n    <tr>\n      <th>7</th>\n      <td>1</td>\n      <td>8</td>\n      <td>10</td>\n      <td>118</td>\n      <td>2.651089</td>\n      <td>1035</td>\n      <td>0.269565</td>\n      <td>2200</td>\n      <td>1864.570178</td>\n    </tr>\n    <tr>\n      <th>8</th>\n      <td>2</td>\n      <td>1</td>\n      <td>3</td>\n      <td>26</td>\n      <td>0.659893</td>\n      <td>183</td>\n      <td>0.047000</td>\n      <td>3</td>\n      <td>0.018296</td>\n    </tr>\n    <tr>\n      <th>9</th>\n      <td>2</td>\n      <td>2</td>\n      <td>4</td>\n      <td>51</td>\n      <td>1.085745</td>\n      <td>687</td>\n      <td>0.135254</td>\n      <td>77</td>\n      <td>0.511187</td>\n    </tr>\n    <tr>\n      <th>10</th>\n      <td>2</td>\n      <td>3</td>\n      <td>5</td>\n      <td>55</td>\n      <td>1.210809</td>\n      <td>557</td>\n      <td>0.120613</td>\n      <td>24</td>\n      <td>0.498137</td>\n    </tr>\n    <tr>\n      <th>11</th>\n      <td>2</td>\n      <td>4</td>\n      <td>6</td>\n      <td>68</td>\n      <td>1.418124</td>\n      <td>530</td>\n      <td>0.128676</td>\n      <td>64</td>\n      <td>13.209212</td>\n    </tr>\n    <tr>\n      <th>12</th>\n      <td>2</td>\n      <td>5</td>\n      <td>7</td>\n      <td>75</td>\n      <td>1.585788</td>\n      <td>695</td>\n      <td>0.163949</td>\n      <td>56</td>\n      <td>8.091701</td>\n    </tr>\n    <tr>\n      <th>13</th>\n      <td>2</td>\n      <td>6</td>\n      <td>8</td>\n      <td>92</td>\n      <td>1.984129</td>\n      <td>1049</td>\n      <td>0.261964</td>\n      <td>654</td>\n      <td>54.401717</td>\n    </tr>\n    <tr>\n      <th>14</th>\n      <td>2</td>\n      <td>7</td>\n      <td>9</td>\n      <td>67</td>\n      <td>1.776789</td>\n      <td>440</td>\n      <td>0.110200</td>\n      <td>66</td>\n      <td>13.235472</td>\n    </tr>\n    <tr>\n      <th>15</th>\n      <td>2</td>\n      <td>8</td>\n      <td>10</td>\n      <td>120</td>\n      <td>2.395219</td>\n      <td>1243</td>\n      <td>0.305745</td>\n      <td>0</td>\n      <td>0.215603</td>\n    </tr>\n    <tr>\n      <th>16</th>\n      <td>3</td>\n      <td>1</td>\n      <td>3</td>\n      <td>27</td>\n      <td>0.637994</td>\n      <td>231</td>\n      <td>0.051032</td>\n      <td>13</td>\n      <td>0.039961</td>\n    </tr>\n    <tr>\n      <th>17</th>\n      <td>3</td>\n      <td>2</td>\n      <td>4</td>\n      <td>50</td>\n      <td>1.039831</td>\n      <td>650</td>\n      <td>0.136089</td>\n      <td>62</td>\n      <td>1.165278</td>\n    </tr>\n    <tr>\n      <th>18</th>\n      <td>3</td>\n      <td>3</td>\n      <td>5</td>\n      <td>41</td>\n      <td>1.018191</td>\n      <td>288</td>\n      <td>0.074701</td>\n      <td>9</td>\n      <td>0.176274</td>\n    </tr>\n    <tr>\n      <th>19</th>\n      <td>3</td>\n      <td>4</td>\n      <td>6</td>\n      <td>47</td>\n      <td>1.155959</td>\n      <td>322</td>\n      <td>0.073132</td>\n      <td>98</td>\n      <td>0.406048</td>\n    </tr>\n  </tbody>\n</table>\n</div>"
     },
     "execution_count": 4,
     "metadata": {},
     "output_type": "execute_result"
    }
   ],
   "source": [
    "import pandas as pd\n",
    "import matplotlib.pyplot as plt\n",
    "import numpy as np\n",
    "\n",
    "# Read the csv\n",
    "df = pd.read_csv(\"data/exp1_network_growth_data500.csv\")\n",
    "\n",
    "print(\"Experiment data analysis - Network growth\")\n",
    "print(\"Number of samples:\", df[\"n_sample\"].max())\n",
    "print(\"Number of RDDs by sample:\", df[\"n_network\"].max())\n",
    "print(\"Range of RDDs:\", df[\"n_rdds\"].min(),\"-\", df[\"n_rdds\"].max())\n",
    "\n",
    "df.head(20)"
   ]
  },
  {
   "cell_type": "code",
   "execution_count": 5,
   "outputs": [
    {
     "data": {
      "text/plain": "Index(['n_sample', 'n_network', 'n_rdds', 'n_rdda_attractors',\n       't_find_attractors_method', 'n_pair_attractors', 't_comp_paris_method',\n       'n_attractor_fields', 't_optimized_method'],\n      dtype='object')"
     },
     "execution_count": 5,
     "metadata": {},
     "output_type": "execute_result"
    }
   ],
   "source": [
    "df.keys()"
   ],
   "metadata": {
    "collapsed": false,
    "pycharm": {
     "name": "#%%\n"
    },
    "ExecuteTime": {
     "end_time": "2023-11-23T16:02:52.679586798Z",
     "start_time": "2023-11-23T16:02:52.616847086Z"
    }
   }
  },
  {
   "cell_type": "markdown",
   "source": [
    "### Correlação Numero Campos atratores com numero de Campos"
   ],
   "metadata": {
    "collapsed": false,
    "pycharm": {
     "name": "#%% md\n"
    }
   }
  },
  {
   "cell_type": "code",
   "execution_count": 6,
   "outputs": [],
   "source": [
    "# Se tem que salvar os dados do tamanho dos attratores, melhorar o sistema de experimentos"
   ],
   "metadata": {
    "collapsed": false,
    "pycharm": {
     "name": "#%%\n"
    },
    "ExecuteTime": {
     "end_time": "2023-11-23T16:02:52.680013470Z",
     "start_time": "2023-11-23T16:02:52.617229883Z"
    }
   }
  },
  {
   "cell_type": "markdown",
   "source": [
    "### Correlação entre Número de RDDS e o número de atratores"
   ],
   "metadata": {
    "collapsed": false,
    "pycharm": {
     "name": "#%% md\n"
    }
   }
  },
  {
   "cell_type": "code",
   "execution_count": 7,
   "outputs": [
    {
     "data": {
      "text/plain": "        n_rdda_attractors\nn_rdds                   \n3                  29.744\n4                  39.998\n5                  50.414\n6                  59.924\n7                  70.910\n8                  80.644\n9                  90.076\n10                101.470",
      "text/html": "<div>\n<style scoped>\n    .dataframe tbody tr th:only-of-type {\n        vertical-align: middle;\n    }\n\n    .dataframe tbody tr th {\n        vertical-align: top;\n    }\n\n    .dataframe thead th {\n        text-align: right;\n    }\n</style>\n<table border=\"1\" class=\"dataframe\">\n  <thead>\n    <tr style=\"text-align: right;\">\n      <th></th>\n      <th>n_rdda_attractors</th>\n    </tr>\n    <tr>\n      <th>n_rdds</th>\n      <th></th>\n    </tr>\n  </thead>\n  <tbody>\n    <tr>\n      <th>3</th>\n      <td>29.744</td>\n    </tr>\n    <tr>\n      <th>4</th>\n      <td>39.998</td>\n    </tr>\n    <tr>\n      <th>5</th>\n      <td>50.414</td>\n    </tr>\n    <tr>\n      <th>6</th>\n      <td>59.924</td>\n    </tr>\n    <tr>\n      <th>7</th>\n      <td>70.910</td>\n    </tr>\n    <tr>\n      <th>8</th>\n      <td>80.644</td>\n    </tr>\n    <tr>\n      <th>9</th>\n      <td>90.076</td>\n    </tr>\n    <tr>\n      <th>10</th>\n      <td>101.470</td>\n    </tr>\n  </tbody>\n</table>\n</div>"
     },
     "execution_count": 7,
     "metadata": {},
     "output_type": "execute_result"
    }
   ],
   "source": [
    "df[['n_rdds','n_rdda_attractors']].groupby('n_rdds').mean(['n_rdda_attractors'])"
   ],
   "metadata": {
    "collapsed": false,
    "pycharm": {
     "name": "#%%\n"
    },
    "ExecuteTime": {
     "end_time": "2023-11-23T16:02:52.682360121Z",
     "start_time": "2023-11-23T16:02:52.617422419Z"
    }
   }
  },
  {
   "cell_type": "code",
   "execution_count": 7,
   "outputs": [],
   "source": [],
   "metadata": {
    "collapsed": false,
    "pycharm": {
     "name": "#%%\n"
    },
    "ExecuteTime": {
     "end_time": "2023-11-23T16:02:52.683036392Z",
     "start_time": "2023-11-23T16:02:52.617619540Z"
    }
   }
  },
  {
   "cell_type": "markdown",
   "source": [],
   "metadata": {
    "collapsed": false,
    "pycharm": {
     "name": "#%% md\n"
    }
   }
  }
 ],
 "metadata": {
  "kernelspec": {
   "display_name": "Python 3",
   "language": "python",
   "name": "python3"
  },
  "language_info": {
   "codemirror_mode": {
    "name": "ipython",
    "version": 2
   },
   "file_extension": ".py",
   "mimetype": "text/x-python",
   "name": "python",
   "nbconvert_exporter": "python",
   "pygments_lexer": "ipython2",
   "version": "2.7.6"
  }
 },
 "nbformat": 4,
 "nbformat_minor": 0
}
