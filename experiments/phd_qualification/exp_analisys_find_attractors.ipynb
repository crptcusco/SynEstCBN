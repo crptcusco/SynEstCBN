{
 "cells": [
  {
   "cell_type": "markdown",
   "source": [
    "    # Analysing of method to find attractors in BNC"
   ],
   "metadata": {
    "collapsed": false
   }
  },
  {
   "cell_type": "code",
   "execution_count": 1,
   "metadata": {
    "collapsed": true,
    "ExecuteTime": {
     "end_time": "2023-11-23T16:03:48.580838323Z",
     "start_time": "2023-11-23T16:03:47.840280156Z"
    }
   },
   "outputs": [
    {
     "name": "stdout",
     "output_type": "stream",
     "text": [
      "Reading the file:  data/exp_find_attractors_data.pickle\n"
     ]
    },
    {
     "ename": "ModuleNotFoundError",
     "evalue": "No module named 'clases'",
     "output_type": "error",
     "traceback": [
      "\u001B[0;31m---------------------------------------------------------------------------\u001B[0m",
      "\u001B[0;31mModuleNotFoundError\u001B[0m                       Traceback (most recent call last)",
      "Cell \u001B[0;32mIn[1], line 12\u001B[0m\n\u001B[1;32m      9\u001B[0m path_base \u001B[38;5;241m=\u001B[39m path[:\u001B[38;5;241m-\u001B[39m\u001B[38;5;241m7\u001B[39m]\n\u001B[1;32m     11\u001B[0m \u001B[38;5;28mprint\u001B[39m(\u001B[38;5;124m\"\u001B[39m\u001B[38;5;124mReading the file: \u001B[39m\u001B[38;5;124m\"\u001B[39m, path)\n\u001B[0;32m---> 12\u001B[0m o_exp \u001B[38;5;241m=\u001B[39m \u001B[43mExperimentModel\u001B[49m\u001B[38;5;241;43m.\u001B[39;49m\u001B[43mload_file_pickle\u001B[49m\u001B[43m(\u001B[49m\u001B[43mpath\u001B[49m\u001B[43m)\u001B[49m\n\u001B[1;32m     14\u001B[0m \u001B[38;5;66;03m# show the parameters of the experiment\u001B[39;00m\n\u001B[1;32m     15\u001B[0m o_exp\u001B[38;5;241m.\u001B[39mshow()\n",
      "File \u001B[0;32m~/Documents/CODE/RESEARCH/SynEstCBN/classes/experiment.py:39\u001B[0m, in \u001B[0;36mExperimentModel.load_file_pickle\u001B[0;34m(v_path)\u001B[0m\n\u001B[1;32m     34\u001B[0m \u001B[38;5;129m@staticmethod\u001B[39m\n\u001B[1;32m     35\u001B[0m \u001B[38;5;28;01mdef\u001B[39;00m \u001B[38;5;21mload_file_pickle\u001B[39m(v_path):\n\u001B[1;32m     36\u001B[0m     \u001B[38;5;28;01mwith\u001B[39;00m \u001B[38;5;28mopen\u001B[39m(v_path, \u001B[38;5;124m'\u001B[39m\u001B[38;5;124mrb\u001B[39m\u001B[38;5;124m'\u001B[39m) \u001B[38;5;28;01mas\u001B[39;00m f:\n\u001B[1;32m     37\u001B[0m         \u001B[38;5;66;03m# The protocol version used is detected automatically, so we do not\u001B[39;00m\n\u001B[1;32m     38\u001B[0m         \u001B[38;5;66;03m# have to specify it.\u001B[39;00m\n\u001B[0;32m---> 39\u001B[0m         data \u001B[38;5;241m=\u001B[39m \u001B[43mpickle\u001B[49m\u001B[38;5;241;43m.\u001B[39;49m\u001B[43mload\u001B[49m\u001B[43m(\u001B[49m\u001B[43mf\u001B[49m\u001B[43m)\u001B[49m\n\u001B[1;32m     40\u001B[0m         \u001B[38;5;28;01mreturn\u001B[39;00m data\n",
      "\u001B[0;31mModuleNotFoundError\u001B[0m: No module named 'clases'"
     ]
    }
   ],
   "source": [
    "import pandas as pd\n",
    "import matplotlib.pyplot as plt\n",
    "import numpy as np\n",
    "import time\n",
    "\n",
    "from classes.experiment import ExperimentModel\n",
    "\n",
    "path = \"data/exp_find_attractors_data.pickle\"\n",
    "path_base = path[:-7]\n",
    "\n",
    "print(\"Reading the file: \", path)\n",
    "o_exp = ExperimentModel.load_file_pickle(path)\n",
    "\n",
    "# show the parameters of the experiment\n",
    "o_exp.show()"
   ]
  },
  {
   "cell_type": "markdown",
   "source": [
    "### Process the data"
   ],
   "metadata": {
    "collapsed": false
   }
  },
  {
   "cell_type": "code",
   "execution_count": null,
   "outputs": [],
   "source": [
    "df = pd.DataFrame(o_exp.l_data)\n",
    "df"
   ],
   "metadata": {
    "collapsed": false,
    "ExecuteTime": {
     "end_time": "2023-11-23T16:03:48.605735675Z",
     "start_time": "2023-11-23T16:03:48.585272046Z"
    }
   }
  },
  {
   "cell_type": "code",
   "execution_count": null,
   "outputs": [],
   "source": [
    "def get_attractors(o_network):\n",
    "    return o_network.l_rdda_permutation_attractors\n",
    "\n",
    "df['l_attractors'] = df['o_network'].apply(get_attractors)\n",
    "df"
   ],
   "metadata": {
    "collapsed": false,
    "ExecuteTime": {
     "start_time": "2023-11-23T16:03:48.589130510Z"
    }
   }
  },
  {
   "cell_type": "code",
   "execution_count": null,
   "outputs": [],
   "source": [
    "def get0(o_element):\n",
    "    return o_element[0][0]\n",
    "\n",
    "def get1(o_element):\n",
    "    return o_element[1][1]\n",
    "\n",
    "def get2(o_element):\n",
    "    return o_element[2][2]\n",
    "\n",
    "def get3(o_element):\n",
    "    return o_element[3]\n",
    "\n",
    "def get4(o_element):\n",
    "    return o_element[4]\n",
    "\n",
    "df['o_rdd'] = df['l_attractors'].apply(get0)\n",
    "df['o_signal'] = df['l_attractors'].apply(get1)\n",
    "df['o_attractors'] = df['l_attractors'].apply(get2)\n"
   ],
   "metadata": {
    "collapsed": false,
    "ExecuteTime": {
     "start_time": "2023-11-23T16:03:48.592659236Z"
    }
   }
  },
  {
   "cell_type": "code",
   "execution_count": null,
   "outputs": [],
   "source": [
    "df"
   ],
   "metadata": {
    "collapsed": false,
    "ExecuteTime": {
     "start_time": "2023-11-23T16:03:48.595458714Z"
    }
   }
  },
  {
   "cell_type": "code",
   "execution_count": null,
   "outputs": [],
   "source": [
    "df['n_sample'] = df['n_sample'] + 1\n",
    "df"
   ],
   "metadata": {
    "collapsed": false,
    "ExecuteTime": {
     "start_time": "2023-11-23T16:03:48.597528065Z"
    }
   }
  },
  {
   "cell_type": "code",
   "execution_count": null,
   "outputs": [],
   "source": [
    "# Compair the total time with the individual time of the steps\n",
    "o_exp.d_meta\n",
    "o_exp.l_data\n"
   ],
   "metadata": {
    "collapsed": false,
    "ExecuteTime": {
     "start_time": "2023-11-23T16:03:48.608089184Z"
    }
   }
  },
  {
   "cell_type": "code",
   "execution_count": null,
   "outputs": [],
   "source": [
    "time_experiment = df[['t_find_attractors_method','t_optimized_method','t_comp_paris_method']].sum().sum()\n",
    "time_format = time.strftime(\"%H:%M:%S\", time.gmtime(time_experiment))\n",
    "print(\"Time experiment (seg.):\",time_experiment)\n",
    "print(\"Time experiment (hh:mm:ss):\",time_format)"
   ],
   "metadata": {
    "collapsed": false,
    "ExecuteTime": {
     "start_time": "2023-11-23T16:03:48.608273419Z"
    }
   }
  },
  {
   "cell_type": "code",
   "execution_count": null,
   "outputs": [],
   "source": [
    "l_labels_y = [\"Number of attractors\", \"Time to find attractors\", \"Number of pairs attractors\", \"Time to compute the attractor pairs\", \"Number of attractor fields\", \"Time of find fields attractors\"]\n",
    "\n",
    "grouped = df.groupby(\"n_sample\")\n",
    "labels = {key:label for key, label in zip(df.keys()[3:], [\n",
    "          \"Number of attractors\",\n",
    "          \"Time to find attractors\",\n",
    "          \"Number of pairs attractors\",\n",
    "          \"Time to compute the attractor pairs\",\n",
    "          \"Number of attractor fields\",\n",
    "          \"Time of find fields attractors\"])}\n",
    "\n",
    "for number in np.array(list(grouped.groups.keys()))[:5]:\n",
    "    group = grouped.get_group(number)\n",
    "    fig_, axs = plt.subplots(1,6,figsize=(24,5))\n",
    "    for (ax, key) in zip(axs, group.keys()[3:]):\n",
    "        ax.plot(group['n_rdds'], group[key])\n",
    "        ax.set_xlabel('Number of RDDs by RDDA')\n",
    "        ax.set_ylabel(labels[key])\n",
    "        ax.grid(True)\n",
    "    fig_.suptitle('Result of the execution: ' + str(number), fontsize=16)\n",
    "    fig_.tight_layout()"
   ],
   "metadata": {
    "collapsed": false,
    "ExecuteTime": {
     "start_time": "2023-11-23T16:03:48.608413193Z"
    }
   }
  },
  {
   "cell_type": "code",
   "execution_count": null,
   "outputs": [],
   "source": [
    "# General Boxplot by Indicator\n",
    "l_labels_y = [\"Number of attractors\", \"Time of find Attractors\", \"Number of pairs attractors\", \"Time to compute the attractor pairs\", \"Number of attractor Fields\", \"Time of find fields attractors\"]\n",
    "\n",
    "fig_, axs = plt.subplots(1,6,figsize=(24,7))\n",
    "cont_label = 0\n",
    "for (key,ax) in zip(df.keys()[3:], axs):\n",
    "    ax.boxplot(df[key])\n",
    "    ax.violinplot(df[key])\n",
    "    ax.set_xlabel(l_labels_y[cont_label])\n",
    "    ax.grid(True)\n",
    "    cont_label += 1\n",
    "fig_.suptitle('Experiment: Network Growth by Number of RDDs - General Boxplot by Indicator', fontsize=20)\n",
    "fig_.tight_layout()"
   ],
   "metadata": {
    "collapsed": false,
    "ExecuteTime": {
     "start_time": "2023-11-23T16:03:48.608515577Z"
    }
   }
  }
 ],
 "metadata": {
  "kernelspec": {
   "display_name": "Python 3",
   "language": "python",
   "name": "python3"
  },
  "language_info": {
   "codemirror_mode": {
    "name": "ipython",
    "version": 2
   },
   "file_extension": ".py",
   "mimetype": "text/x-python",
   "name": "python",
   "nbconvert_exporter": "python",
   "pygments_lexer": "ipython2",
   "version": "2.7.6"
  }
 },
 "nbformat": 4,
 "nbformat_minor": 0
}
