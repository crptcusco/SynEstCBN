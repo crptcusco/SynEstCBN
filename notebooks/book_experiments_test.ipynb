{
 "cells": [
  {
   "cell_type": "markdown",
   "metadata": {
    "pycharm": {
     "name": "#%% md\n"
    }
   },
   "source": [
    "# Experiment"
   ]
  },
  {
   "cell_type": "code",
   "execution_count": null,
   "outputs": [],
   "source": [
    "# Script for generate  experiments\n",
    "# Imports\n",
    "from classes.CBN import CBN\n",
    "import ray\n",
    "import time\n",
    "\n",
    "import matplotlib.pyplot as plt\n",
    "import numpy as np\n",
    "import pandas as pd\n",
    "\n",
    "# Ray Configurations\n",
    "ray.init(num_cpus=12, log_to_driver=False)\n",
    "\n",
    "# Experiment for RDD variation\n",
    "n_experiments = 10\n",
    "l_experiments = []\n",
    "for cont_experiment in range(1,n_experiments+1):\n",
    "    print(\"============================\")\n",
    "    print(\"Experiment:\", cont_experiment)\n",
    "    print(\"============================\")\n",
    "\n",
    "    # Variable Parameters\n",
    "    n_rddas_min = 3\n",
    "    n_rddas_max = 20\n",
    "\n",
    "    # Fixed Parameters\n",
    "    n_of_variables_rdda = 5\n",
    "    n_of_signals_rdda = 2\n",
    "    n_exit_variables = 2\n",
    "    n_clauses_function = 2\n",
    "    type_network = \"ALEATORY\"\n",
    "    # this name has to be unique\n",
    "    unique_path = \"22_11_2023\"\n",
    "\n",
    "    # List of Result for the Experiments\n",
    "    l_res_experiment = []\n",
    "\n",
    "    v_n_network = 1\n",
    "    for n_of_rdds in range(n_rddas_min, n_rddas_max + 1):\n",
    "        print(\"Number of Network:\", v_n_network)\n",
    "        print(\"-------------------------------\")\n",
    "\n",
    "        path = \"files/\" + unique_path + \"_\" + str(n_of_rdds) + \"_\" + str(n_of_variables_rdda) + \"_\" + str(n_of_signals_rdda) \\\n",
    "               + \"_\" + str(n_exit_variables) + \"_\" + str(n_clauses_function)\n",
    "\n",
    "        # generate the RDDAs of the Network of RDDAs\n",
    "        print(\"generating the Network of RDDAs ...\")\n",
    "        o_cbn = CBN(n_of_rdds, n_of_variables_rdda, n_of_signals_rdda, n_exit_variables,\n",
    "                    n_clauses_function)\n",
    "\n",
    "        # Generate the RDDs\n",
    "        print(\"generating the rdds ...\")\n",
    "        o_cbn.generate_rddas(type_network=type_network)\n",
    "\n",
    "        # # Save the Network of RDDAs in a Pickle file\n",
    "        # CBN.save_file_pickle(oCBN, path)\n",
    "        # path += \".pickle\"\n",
    "        #\n",
    "        # print(\"=======================================================\")\n",
    "        # print(\"The Network of RDDAs is saved in: \", path)\n",
    "\n",
    "        # Show the Network of RDDAs\n",
    "        # oCBN.show()\n",
    "\n",
    "        # Calculate the Attractors by RDDA and by Signal\n",
    "        v_begin_0 = time.time()\n",
    "        result = CBN.find_attractors_rddas_ray.remote(o_cbn)\n",
    "        o_cbn = ray.get(result)\n",
    "        v_end_0 = time.time()\n",
    "        v_time_0 = v_end_0 - v_begin_0\n",
    "\n",
    "        # Calculate the Attractors by RDDA and by Signal\n",
    "        v_begin_1 = time.time()\n",
    "        result = CBN.calculation_compatible_pairs_ray.remote(o_cbn)\n",
    "        o_cbn = ray.get(result)\n",
    "        v_end_1 = time.time()\n",
    "        v_time_1 = v_end_1 - v_begin_1\n",
    "\n",
    "        # # Calculate the Attractors by RDDA and by Signal with iterative Method\n",
    "        # v_begin_1 = time.time()\n",
    "        # # result = CBN.assembly_attractor_fields_iterative.remote(oCBN)\n",
    "        # # oCBN = ray.get(result)\n",
    "        # v_end_1 = time.time()\n",
    "        # v_time_1 = v_end_1 - v_begin_1\n",
    "\n",
    "        # Calculate the Attractors by RDDA and by Signal with optimized Method\n",
    "        v_begin_2 = time.time()\n",
    "        result = CBN.assembly_attractor_fields_optimized.remote(o_cbn)\n",
    "        o_cbn = ray.get(result)\n",
    "        v_end_2 = time.time()\n",
    "        v_time_2 = v_end_2 - v_begin_2\n",
    "\n",
    "        # Save the results for the experiment , numeric and time indicators\n",
    "        res_dict = {\n",
    "                    \"n_network\": v_n_network,\n",
    "                    \"n_rdds\": n_of_rdds,\n",
    "                    \"n_rdda_attractors\": len(o_cbn.d_global_rdda_attractor.items()),\n",
    "                    \"t_find_attractors_method\": v_time_0,\n",
    "                    \"n_pair_attractors\": len(o_cbn.list_attractors_pairs),\n",
    "                    \"t_comp_paris_method\": v_time_1,\n",
    "                    \"n_attractor_fields\": len(o_cbn.attractor_fields),\n",
    "                    \"t_optimized_method\": v_time_2\n",
    "                    }\n",
    "        l_res_experiment.append(res_dict)\n",
    "        v_n_network = v_n_network + 1\n",
    "\n",
    "    # Read  the Data\n",
    "    df = pd.DataFrame.from_dict(l_res_experiment)\n",
    "    l_experiments.append(df)\n",
    "print(\"END EXPERIMENT\")"
   ],
   "metadata": {
    "collapsed": false,
    "pycharm": {
     "name": "#%%\n",
     "is_executing": true
    },
    "is_executing": true
   }
  },
  {
   "cell_type": "markdown",
   "source": [
    "# Analysing the result"
   ],
   "metadata": {
    "collapsed": false,
    "pycharm": {
     "name": "#%% md\n"
    }
   }
  },
  {
   "cell_type": "markdown",
   "source": [
    "### Time vs RDDAs"
   ],
   "metadata": {
    "collapsed": false,
    "pycharm": {
     "name": "#%% md\n"
    }
   }
  },
  {
   "cell_type": "code",
   "execution_count": null,
   "outputs": [],
   "source": [
    "# Show the graphs for every experiment\n",
    "l_labels_y = [\"Number of attractors\", \"Time of find Attractors\", \"Number of pairs attractors\", \"Time to compute the attractor pairs\", \"Number of attractor Fields\", \"Time of find fields attractors\"]\n",
    "n_experiment = 1\n",
    "for df in l_experiments:\n",
    "    fig_, axs = plt.subplots(1,6,figsize=(24,5))\n",
    "    cont_label = 0\n",
    "    for (ax, y) in zip(axs, np.asarray(df.keys())[2:]):\n",
    "        ax.plot(df['n_rdds'], df[y])\n",
    "        ax.set_xlabel('Number of RDDs by RDDA')\n",
    "        ax.set_ylabel(l_labels_y[cont_label])\n",
    "        ax.grid(True)\n",
    "        cont_label += 1\n",
    "    fig_.suptitle('Result of the experiment: ' + str(n_experiment), fontsize=16)\n",
    "    fig_.tight_layout()\n",
    "    n_experiment +=1"
   ],
   "metadata": {
    "collapsed": false,
    "pycharm": {
     "name": "#%%\n",
     "is_executing": true
    },
    "is_executing": true
   }
  },
  {
   "cell_type": "code",
   "execution_count": null,
   "outputs": [],
   "source": [
    "# Boxplot analysis\n",
    "l_labels_y = [\"Number of attractors\", \"Time of find Attractors\", \"Number of pairs attractors\", \"Time to compute the attractor pairs\", \"Number of attractor Fields\", \"Time of find fields attractors\"]\n",
    "n_experiment = 1\n",
    "for df in l_experiments:\n",
    "    # Filter the data to show\n",
    "    \n",
    "    # Create the Boxplot\n",
    "    fig1, ax1 = plt.subplots()\n",
    "    ax1.set_title('Number of Attractors')\n",
    "    ax1.boxplot(df['n_rdda_attractors'])\n",
    "\n",
    "\n"
   ],
   "metadata": {
    "collapsed": false,
    "pycharm": {
     "name": "#%%\n",
     "is_executing": true
    },
    "is_executing": true
   }
  },
  {
   "cell_type": "code",
   "execution_count": null,
   "outputs": [],
   "source": [
    "# Analysing the data\n",
    "for df in l_experiments:\n",
    "    print(df)"
   ],
   "metadata": {
    "collapsed": false,
    "pycharm": {
     "name": "#%%\n"
    },
    "is_executing": true
   }
  },
  {
   "cell_type": "code",
   "execution_count": null,
   "outputs": [],
   "source": [
    "# Save the result of the experiments in one csv file"
   ],
   "metadata": {
    "collapsed": false,
    "pycharm": {
     "name": "#%%\n"
    },
    "is_executing": true
   }
  },
  {
   "cell_type": "code",
   "execution_count": null,
   "outputs": [],
   "source": [
    "# Save tthe result of the experiment in one pickled file"
   ],
   "metadata": {
    "collapsed": false,
    "pycharm": {
     "name": "#%%\n"
    },
    "is_executing": true
   }
  },
  {
   "cell_type": "code",
   "execution_count": null,
   "outputs": [],
   "source": [
    "# # Show the graphs for every experiment\n",
    "# l_labels_y = [\"Number of attractors\", \"Time of find Attractors\", \"Number of pairs attractors\", \"Time to compute the attractor pairs\", \"Number of attractor Fields\", \"Time of find fields attractors\"]\n",
    "# n_experiment = 1\n",
    "# for df in l_experiments:\n",
    "#     fig_, axs = plt.subplots(1,6,figsize=(24,5))\n",
    "#     cont_label = 0\n",
    "#     for (ax, y) in zip(axs, np.asarray(df.keys())[2:]):\n",
    "#         ax.plot(df['n_rdds'], df[y])\n",
    "#         ax.set_xlabel('Number of RDDs by RDDA')\n",
    "#         ax.set_ylabel(l_labels_y[cont_label])\n",
    "#         ax.grid(True)\n",
    "#         cont_label += 1\n",
    "#     fig_.suptitle('Result of the experiment: ' + str(n_experiment), fontsize=16)\n",
    "#     fig_.tight_layout()\n",
    "#     n_experiment +=1\n",
    "\n",
    "# for v_reg_dict in l_res_experiment:\n",
    "#     # Show the metrics\n",
    "#     print(\"===========================================\")\n",
    "#     print(\"Result of Network:\", v_reg_dict[\"n_network\"])\n",
    "#     print(\"===========================================\")\n",
    "#     print(\"Number of RDDs:\", v_reg_dict[\"n_rdds\"])\n",
    "#     print(\"Number of Attractors :\", v_reg_dict[\"n_rdda_attractors\"])\n",
    "#     print(\"Number of Attractor Fields:\", v_reg_dict[\"n_attractor_fields\"])\n",
    "#     print(\"Duration Compatible Pairs Method :\", v_reg_dict[\"t_comp_paris_method\"])\n",
    "#     # print(\"Duration Iterative Method :\", v_reg_dict[\"t_iterative_method\"])\n",
    "#     print(\"Duration Optimized Method:\", v_reg_dict[\"t_optimized_method\"])\n"
   ],
   "metadata": {
    "collapsed": false,
    "pycharm": {
     "name": "#%%\n",
     "is_executing": true
    },
    "is_executing": true
   }
  }
 ],
 "metadata": {
  "kernelspec": {
   "display_name": "Python 3 (ipykernel)",
   "language": "python",
   "name": "python3"
  },
  "language_info": {
   "codemirror_mode": {
    "name": "ipython",
    "version": 3
   },
   "file_extension": ".py",
   "mimetype": "text/x-python",
   "name": "python",
   "nbconvert_exporter": "python",
   "pygments_lexer": "ipython3",
   "version": "3.8.10"
  }
 },
 "nbformat": 4,
 "nbformat_minor": 1
}
