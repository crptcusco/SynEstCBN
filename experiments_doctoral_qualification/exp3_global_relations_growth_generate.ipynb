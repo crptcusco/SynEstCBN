{
 "cells": [
  {
   "cell_type": "markdown",
   "source": [
    "# Experiment : Internal variable growth"
   ],
   "metadata": {
    "collapsed": false,
    "pycharm": {
     "name": "#%% md\n"
    }
   }
  },
  {
   "cell_type": "markdown",
   "source": [
    "## Init the Ray client"
   ],
   "metadata": {
    "collapsed": false,
    "pycharm": {
     "name": "#%% md\n"
    }
   }
  },
  {
   "cell_type": "code",
   "execution_count": 5,
   "outputs": [
    {
     "ename": "RuntimeError",
     "evalue": "Maybe you called ray.init twice by accident? This error can be suppressed by passing in 'ignore_reinit_error=True' or by calling 'ray.shutdown()' prior to 'ray.init()'.",
     "output_type": "error",
     "traceback": [
      "\u001B[0;31m---------------------------------------------------------------------------\u001B[0m",
      "\u001B[0;31mRuntimeError\u001B[0m                              Traceback (most recent call last)",
      "\u001B[0;32m<ipython-input-5-51abf044ef55>\u001B[0m in \u001B[0;36m<module>\u001B[0;34m\u001B[0m\n\u001B[1;32m      8\u001B[0m \u001B[0;31m# runtime_env = {\"working_dir\": \"/home/carlos/Documents/RESEARCH/SynEstRDDA\", \"pip\": [\"requests\", \"pendulum==2.1.2\"]}\u001B[0m\u001B[0;34m\u001B[0m\u001B[0;34m\u001B[0m\u001B[0;34m\u001B[0m\u001B[0m\n\u001B[1;32m      9\u001B[0m \u001B[0;31m# ray.init(address='ray://172.17.163.244:10001', runtime_env=runtime_env , log_to_driver=False)\u001B[0m\u001B[0;34m\u001B[0m\u001B[0;34m\u001B[0m\u001B[0;34m\u001B[0m\u001B[0m\n\u001B[0;32m---> 10\u001B[0;31m \u001B[0mray\u001B[0m\u001B[0;34m.\u001B[0m\u001B[0minit\u001B[0m\u001B[0;34m(\u001B[0m\u001B[0mlog_to_driver\u001B[0m\u001B[0;34m=\u001B[0m\u001B[0;32mFalse\u001B[0m\u001B[0;34m,\u001B[0m \u001B[0mnum_cpus\u001B[0m\u001B[0;34m=\u001B[0m\u001B[0;36m12\u001B[0m\u001B[0;34m)\u001B[0m\u001B[0;34m\u001B[0m\u001B[0;34m\u001B[0m\u001B[0m\n\u001B[0m",
      "\u001B[0;32m~/.local/lib/python3.8/site-packages/ray/_private/client_mode_hook.py\u001B[0m in \u001B[0;36mwrapper\u001B[0;34m(*args, **kwargs)\u001B[0m\n\u001B[1;32m    103\u001B[0m             \u001B[0;32mif\u001B[0m \u001B[0mfunc\u001B[0m\u001B[0;34m.\u001B[0m\u001B[0m__name__\u001B[0m \u001B[0;34m!=\u001B[0m \u001B[0;34m\"init\"\u001B[0m \u001B[0;32mor\u001B[0m \u001B[0mis_client_mode_enabled_by_default\u001B[0m\u001B[0;34m:\u001B[0m\u001B[0;34m\u001B[0m\u001B[0;34m\u001B[0m\u001B[0m\n\u001B[1;32m    104\u001B[0m                 \u001B[0;32mreturn\u001B[0m \u001B[0mgetattr\u001B[0m\u001B[0;34m(\u001B[0m\u001B[0mray\u001B[0m\u001B[0;34m,\u001B[0m \u001B[0mfunc\u001B[0m\u001B[0;34m.\u001B[0m\u001B[0m__name__\u001B[0m\u001B[0;34m)\u001B[0m\u001B[0;34m(\u001B[0m\u001B[0;34m*\u001B[0m\u001B[0margs\u001B[0m\u001B[0;34m,\u001B[0m \u001B[0;34m**\u001B[0m\u001B[0mkwargs\u001B[0m\u001B[0;34m)\u001B[0m\u001B[0;34m\u001B[0m\u001B[0;34m\u001B[0m\u001B[0m\n\u001B[0;32m--> 105\u001B[0;31m         \u001B[0;32mreturn\u001B[0m \u001B[0mfunc\u001B[0m\u001B[0;34m(\u001B[0m\u001B[0;34m*\u001B[0m\u001B[0margs\u001B[0m\u001B[0;34m,\u001B[0m \u001B[0;34m**\u001B[0m\u001B[0mkwargs\u001B[0m\u001B[0;34m)\u001B[0m\u001B[0;34m\u001B[0m\u001B[0;34m\u001B[0m\u001B[0m\n\u001B[0m\u001B[1;32m    106\u001B[0m \u001B[0;34m\u001B[0m\u001B[0m\n\u001B[1;32m    107\u001B[0m     \u001B[0;32mreturn\u001B[0m \u001B[0mwrapper\u001B[0m\u001B[0;34m\u001B[0m\u001B[0;34m\u001B[0m\u001B[0m\n",
      "\u001B[0;32m~/.local/lib/python3.8/site-packages/ray/worker.py\u001B[0m in \u001B[0;36minit\u001B[0;34m(address, num_cpus, num_gpus, resources, object_store_memory, local_mode, ignore_reinit_error, include_dashboard, dashboard_host, dashboard_port, job_config, configure_logging, logging_level, logging_format, log_to_driver, namespace, runtime_env, storage, _enable_object_reconstruction, _redis_max_memory, _plasma_directory, _node_ip_address, _driver_object_store_memory, _memory, _redis_password, _temp_dir, _metrics_export_port, _system_config, _tracing_startup_hook, _node_name, **kwargs)\u001B[0m\n\u001B[1;32m    975\u001B[0m             \u001B[0;32mreturn\u001B[0m \u001B[0mRayContext\u001B[0m\u001B[0;34m(\u001B[0m\u001B[0mdict\u001B[0m\u001B[0;34m(\u001B[0m\u001B[0m_global_node\u001B[0m\u001B[0;34m.\u001B[0m\u001B[0maddress_info\u001B[0m\u001B[0;34m,\u001B[0m \u001B[0mnode_id\u001B[0m\u001B[0;34m=\u001B[0m\u001B[0mnode_id\u001B[0m\u001B[0;34m.\u001B[0m\u001B[0mhex\u001B[0m\u001B[0;34m(\u001B[0m\u001B[0;34m)\u001B[0m\u001B[0;34m)\u001B[0m\u001B[0;34m)\u001B[0m\u001B[0;34m\u001B[0m\u001B[0;34m\u001B[0m\u001B[0m\n\u001B[1;32m    976\u001B[0m         \u001B[0;32melse\u001B[0m\u001B[0;34m:\u001B[0m\u001B[0;34m\u001B[0m\u001B[0;34m\u001B[0m\u001B[0m\n\u001B[0;32m--> 977\u001B[0;31m             raise RuntimeError(\n\u001B[0m\u001B[1;32m    978\u001B[0m                 \u001B[0;34m\"Maybe you called ray.init twice by accident? \"\u001B[0m\u001B[0;34m\u001B[0m\u001B[0;34m\u001B[0m\u001B[0m\n\u001B[1;32m    979\u001B[0m                 \u001B[0;34m\"This error can be suppressed by passing in \"\u001B[0m\u001B[0;34m\u001B[0m\u001B[0;34m\u001B[0m\u001B[0m\n",
      "\u001B[0;31mRuntimeError\u001B[0m: Maybe you called ray.init twice by accident? This error can be suppressed by passing in 'ignore_reinit_error=True' or by calling 'ray.shutdown()' prior to 'ray.init()'."
     ]
    }
   ],
   "source": [
    "# Imports\n",
    "from clases.red_rddas_model import RedRddasModel\n",
    "import ray\n",
    "import time\n",
    "import pandas as pd\n",
    "\n",
    "# Ray Configurations\n",
    "# runtime_env = {\"working_dir\": \"/home/carlos/Documents/RESEARCH/SynEstRDDA\", \"pip\": [\"requests\", \"pendulum==2.1.2\"]}\n",
    "# ray.init(address='ray://172.17.163.244:10001', runtime_env=runtime_env , log_to_driver=False)\n",
    "ray.init(log_to_driver=False, num_cpus=12)"
   ],
   "metadata": {
    "collapsed": false,
    "pycharm": {
     "name": "#%%\n"
    }
   }
  },
  {
   "cell_type": "markdown",
   "source": [
    "### Generate the Samples and recollected the indicators"
   ],
   "metadata": {
    "collapsed": false,
    "pycharm": {
     "name": "#%% md\n"
    }
   }
  },
  {
   "cell_type": "code",
   "execution_count": null,
   "outputs": [
    {
     "name": "stdout",
     "output_type": "stream",
     "text": [
      "============================\n",
      "Experiment: 1\n",
      "============================\n",
      "Number of Network: 1\n",
      "Number of RDDs: 8\n",
      "Number of var: 5\n",
      "-------------------------------\n",
      "generating the Network of RDDAs ...\n",
      "generating the rdds ...\n",
      "Number of Network: 2\n",
      "Number of RDDs: 8\n",
      "Number of var: 6\n",
      "-------------------------------\n",
      "generating the Network of RDDAs ...\n",
      "generating the rdds ...\n",
      "Number of Network: 3\n",
      "Number of RDDs: 8\n",
      "Number of var: 7\n",
      "-------------------------------\n",
      "generating the Network of RDDAs ...\n",
      "generating the rdds ...\n",
      "Number of Network: 4\n",
      "Number of RDDs: 8\n",
      "Number of var: 8\n",
      "-------------------------------\n",
      "generating the Network of RDDAs ...\n",
      "generating the rdds ...\n",
      "Number of Network: 5\n",
      "Number of RDDs: 8\n",
      "Number of var: 9\n",
      "-------------------------------\n",
      "generating the Network of RDDAs ...\n",
      "generating the rdds ...\n",
      "Number of Network: 6\n",
      "Number of RDDs: 8\n",
      "Number of var: 10\n",
      "-------------------------------\n",
      "generating the Network of RDDAs ...\n",
      "generating the rdds ...\n",
      "============================\n",
      "Experiment: 2\n",
      "============================\n",
      "Number of Network: 1\n",
      "Number of RDDs: 8\n",
      "Number of var: 5\n",
      "-------------------------------\n",
      "generating the Network of RDDAs ...\n",
      "generating the rdds ...\n",
      "Number of Network: 2\n",
      "Number of RDDs: 8\n",
      "Number of var: 6\n",
      "-------------------------------\n",
      "generating the Network of RDDAs ...\n",
      "generating the rdds ...\n",
      "Number of Network: 3\n",
      "Number of RDDs: 8\n",
      "Number of var: 7\n",
      "-------------------------------\n",
      "generating the Network of RDDAs ...\n",
      "generating the rdds ...\n",
      "Number of Network: 4\n",
      "Number of RDDs: 8\n",
      "Number of var: 8\n",
      "-------------------------------\n",
      "generating the Network of RDDAs ...\n",
      "generating the rdds ...\n",
      "Number of Network: 5\n",
      "Number of RDDs: 8\n",
      "Number of var: 9\n",
      "-------------------------------\n",
      "generating the Network of RDDAs ...\n",
      "generating the rdds ...\n",
      "Number of Network: 6\n",
      "Number of RDDs: 8\n",
      "Number of var: 10\n",
      "-------------------------------\n",
      "generating the Network of RDDAs ...\n",
      "generating the rdds ...\n",
      "============================\n",
      "Experiment: 3\n",
      "============================\n",
      "Number of Network: 1\n",
      "Number of RDDs: 8\n",
      "Number of var: 5\n",
      "-------------------------------\n",
      "generating the Network of RDDAs ...\n",
      "generating the rdds ...\n",
      "Number of Network: 2\n",
      "Number of RDDs: 8\n",
      "Number of var: 6\n",
      "-------------------------------\n",
      "generating the Network of RDDAs ...\n",
      "generating the rdds ...\n",
      "Number of Network: 3\n",
      "Number of RDDs: 8\n",
      "Number of var: 7\n",
      "-------------------------------\n",
      "generating the Network of RDDAs ...\n",
      "generating the rdds ...\n",
      "Number of Network: 4\n",
      "Number of RDDs: 8\n",
      "Number of var: 8\n",
      "-------------------------------\n",
      "generating the Network of RDDAs ...\n",
      "generating the rdds ...\n",
      "Number of Network: 5\n",
      "Number of RDDs: 8\n",
      "Number of var: 9\n",
      "-------------------------------\n",
      "generating the Network of RDDAs ...\n",
      "generating the rdds ...\n",
      "Number of Network: 6\n",
      "Number of RDDs: 8\n",
      "Number of var: 10\n",
      "-------------------------------\n",
      "generating the Network of RDDAs ...\n",
      "generating the rdds ...\n",
      "============================\n",
      "Experiment: 4\n",
      "============================\n",
      "Number of Network: 1\n",
      "Number of RDDs: 8\n",
      "Number of var: 5\n",
      "-------------------------------\n",
      "generating the Network of RDDAs ...\n",
      "generating the rdds ...\n",
      "Number of Network: 2\n",
      "Number of RDDs: 8\n",
      "Number of var: 6\n",
      "-------------------------------\n",
      "generating the Network of RDDAs ...\n",
      "generating the rdds ...\n",
      "Number of Network: 3\n",
      "Number of RDDs: 8\n",
      "Number of var: 7\n",
      "-------------------------------\n",
      "generating the Network of RDDAs ...\n",
      "generating the rdds ...\n",
      "Number of Network: 4\n",
      "Number of RDDs: 8\n",
      "Number of var: 8\n",
      "-------------------------------\n",
      "generating the Network of RDDAs ...\n",
      "generating the rdds ...\n",
      "Number of Network: 5\n",
      "Number of RDDs: 8\n",
      "Number of var: 9\n",
      "-------------------------------\n",
      "generating the Network of RDDAs ...\n",
      "generating the rdds ...\n"
     ]
    }
   ],
   "source": [
    "# Experiment for internal variable growth\n",
    "\n",
    "#capture the time for all the experiment\n",
    "v_begin_exp = time.time()\n",
    "\n",
    "n_experiments = 5\n",
    "l_experiments = []\n",
    "for cont_experiment in range(1,n_experiments+1):\n",
    "    print(\"============================\")\n",
    "    print(\"Experiment:\", cont_experiment)\n",
    "    print(\"============================\")\n",
    "\n",
    "    # Variable Parameters\n",
    "    n_of_var_by_rdd_min = 5\n",
    "    n_of_var_by_rdd_max = 10\n",
    "\n",
    "    # Fixed Parameters\n",
    "    n_of_rdds = 8\n",
    "    n_of_signals_rdd = 2\n",
    "    n_output_variables = 2\n",
    "    n_clauses_function = 2\n",
    "    type_network = \"ALEATORY\"\n",
    "\n",
    "    # List of Result for the Experiments\n",
    "    l_res_sample = []\n",
    "\n",
    "    v_n_network = 1\n",
    "    for n_of_variables_rdd in range(n_of_var_by_rdd_min, n_of_var_by_rdd_max + 1):\n",
    "        print(\"Number of Network:\", v_n_network)\n",
    "        print(\"Number of RDDs:\", n_of_rdds)\n",
    "        print(\"Number of var:\", n_of_variables_rdd)\n",
    "        print(\"-------------------------------\")\n",
    "\n",
    "\n",
    "        # generate the RDDAs of the Network of RDDAs\n",
    "        print(\"generating the Network of RDDAs ...\")\n",
    "        o_rdda_model = RedRddasModel(n_of_rdds, n_of_variables_rdd, n_of_signals_rdd, n_output_variables,\n",
    "                                       n_clauses_function)\n",
    "\n",
    "        # Generate the RDDs\n",
    "        print(\"generating the rdds ...\")\n",
    "        o_rdda_model.generate_rddas(type_network=type_network)\n",
    "\n",
    "        # Calculate the Attractors by RDDA and by Signal\n",
    "        v_begin_0 = time.time()\n",
    "        result = RedRddasModel.find_attractors_rddas_ray.remote(o_rdda_model)\n",
    "        o_rdda_model = ray.get(result)\n",
    "        v_end_0 = time.time()\n",
    "        v_time_0 = v_end_0 - v_begin_0\n",
    "\n",
    "        # Calculate the Attractors by RDDA and by Signal\n",
    "        v_begin_1 = time.time()\n",
    "        result = RedRddasModel.calculation_compatible_pairs.remote(o_rdda_model)\n",
    "        o_rdda_model = ray.get(result)\n",
    "        v_end_1 = time.time()\n",
    "        v_time_1 = v_end_1 - v_begin_1\n",
    "\n",
    "        # Calculate the Attractors by RDDA and by Signal with optimized Method\n",
    "        v_begin_2 = time.time()\n",
    "        result = RedRddasModel.assembly_attractor_fields_optimized.remote(o_rdda_model)\n",
    "        o_rdda_model = ray.get(result)\n",
    "        v_end_2 = time.time()\n",
    "        v_time_2 = v_end_2 - v_begin_2\n",
    "\n",
    "        # Save the results for the experiment , numeric and time indicators\n",
    "        res_dict = {\n",
    "                    \"n_network\": v_n_network,\n",
    "                    \"n_variables\": n_of_variables_rdd,\n",
    "                    \"n_rdda_attractors\": len(o_rdda_model.d_global_rdda_attractor.items()),\n",
    "                    \"t_find_attractors_method\": v_time_0,\n",
    "                    \"n_pair_attractors\": len(o_rdda_model.list_attractors_pairs),\n",
    "                    \"t_comp_paris_method\": v_time_1,\n",
    "                    \"n_attractor_fields\": len(o_rdda_model.attractor_fields),\n",
    "                    \"t_optimized_method\": v_time_2\n",
    "                    }\n",
    "        l_res_sample.append(res_dict)\n",
    "        v_n_network = v_n_network + 1\n",
    "\n",
    "    # Add the sample data to pandas dataframe\n",
    "    df = pd.DataFrame.from_dict(l_res_sample)\n",
    "    l_experiments.append(df)\n",
    "# Capture the time of the experiment\n",
    "v_end_exp = time.time()\n",
    "v_time_exp = v_end_exp - v_begin_exp\n",
    "print(\"END EXPERIMENT\")"
   ],
   "metadata": {
    "collapsed": false,
    "pycharm": {
     "name": "#%%\n",
     "is_executing": true
    }
   }
  },
  {
   "cell_type": "markdown",
   "source": [
    "## Save the experiment data in csv, using pandas Dataframe"
   ],
   "metadata": {
    "collapsed": false,
    "pycharm": {
     "name": "#%% md\n"
    }
   }
  },
  {
   "cell_type": "code",
   "execution_count": null,
   "outputs": [],
   "source": [
    "pf_res = pd.concat(l_experiments, keys=range(1,n_experiments+1), names=[\"n_sample\",\"n_aux\"], ignore_index=False)\n",
    "pf_res.reset_index(drop=True, inplace=True, level=1)\n",
    "pf_res"
   ],
   "metadata": {
    "collapsed": false,
    "pycharm": {
     "name": "#%%\n"
    }
   }
  },
  {
   "cell_type": "code",
   "execution_count": null,
   "outputs": [],
   "source": [
    "path = \"exp2_internal_variable_growth_data.csv\"\n",
    "pf_res.to_csv(path)\n",
    "print(\"Experiment saved in:\", path)"
   ],
   "metadata": {
    "collapsed": false,
    "pycharm": {
     "name": "#%%\n"
    }
   }
  }
 ],
 "metadata": {
  "kernelspec": {
   "display_name": "Python 3",
   "language": "python",
   "name": "python3"
  },
  "language_info": {
   "codemirror_mode": {
    "name": "ipython",
    "version": 2
   },
   "file_extension": ".py",
   "mimetype": "text/x-python",
   "name": "python",
   "nbconvert_exporter": "python",
   "pygments_lexer": "ipython2",
   "version": "2.7.6"
  }
 },
 "nbformat": 4,
 "nbformat_minor": 0
}