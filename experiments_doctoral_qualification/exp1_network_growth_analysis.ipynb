{
 "cells": [
  {
   "cell_type": "markdown",
   "source": [
    "# Experiment data analysis"
   ],
   "metadata": {
    "collapsed": false,
    "pycharm": {
     "name": "#%% md\n"
    }
   }
  },
  {
   "cell_type": "markdown",
   "source": [
    "### Show the Graphs"
   ],
   "metadata": {
    "collapsed": false,
    "pycharm": {
     "name": "#%% md\n"
    }
   }
  },
  {
   "cell_type": "code",
   "execution_count": 8,
   "outputs": [
    {
     "data": {
      "text/plain": "   n_sample  n_network  n_rdds  n_rdda_attractors  t_find_attractors_method  \\\n0         1          1       3                 29                  0.565986   \n1         1          2       4                 40                  0.586503   \n2         1          3       5                 33                  0.710711   \n3         1          4       6                 31                  0.706664   \n4         1          5       7                 69                  1.120260   \n\n   n_pair_attractors  t_comp_paris_method  n_attractor_fields  \\\n0                264             0.062490                  11   \n1                211             0.054445                 139   \n2                116             0.037357                  40   \n3                124             0.038347                  23   \n4                522             0.110559                   0   \n\n   t_optimized_method  \n0            0.041013  \n1            0.051982  \n2            0.008785  \n3            0.081930  \n4            0.021936  ",
      "text/html": "<div>\n<style scoped>\n    .dataframe tbody tr th:only-of-type {\n        vertical-align: middle;\n    }\n\n    .dataframe tbody tr th {\n        vertical-align: top;\n    }\n\n    .dataframe thead th {\n        text-align: right;\n    }\n</style>\n<table border=\"1\" class=\"dataframe\">\n  <thead>\n    <tr style=\"text-align: right;\">\n      <th></th>\n      <th>n_sample</th>\n      <th>n_network</th>\n      <th>n_rdds</th>\n      <th>n_rdda_attractors</th>\n      <th>t_find_attractors_method</th>\n      <th>n_pair_attractors</th>\n      <th>t_comp_paris_method</th>\n      <th>n_attractor_fields</th>\n      <th>t_optimized_method</th>\n    </tr>\n  </thead>\n  <tbody>\n    <tr>\n      <th>0</th>\n      <td>1</td>\n      <td>1</td>\n      <td>3</td>\n      <td>29</td>\n      <td>0.565986</td>\n      <td>264</td>\n      <td>0.062490</td>\n      <td>11</td>\n      <td>0.041013</td>\n    </tr>\n    <tr>\n      <th>1</th>\n      <td>1</td>\n      <td>2</td>\n      <td>4</td>\n      <td>40</td>\n      <td>0.586503</td>\n      <td>211</td>\n      <td>0.054445</td>\n      <td>139</td>\n      <td>0.051982</td>\n    </tr>\n    <tr>\n      <th>2</th>\n      <td>1</td>\n      <td>3</td>\n      <td>5</td>\n      <td>33</td>\n      <td>0.710711</td>\n      <td>116</td>\n      <td>0.037357</td>\n      <td>40</td>\n      <td>0.008785</td>\n    </tr>\n    <tr>\n      <th>3</th>\n      <td>1</td>\n      <td>4</td>\n      <td>6</td>\n      <td>31</td>\n      <td>0.706664</td>\n      <td>124</td>\n      <td>0.038347</td>\n      <td>23</td>\n      <td>0.081930</td>\n    </tr>\n    <tr>\n      <th>4</th>\n      <td>1</td>\n      <td>5</td>\n      <td>7</td>\n      <td>69</td>\n      <td>1.120260</td>\n      <td>522</td>\n      <td>0.110559</td>\n      <td>0</td>\n      <td>0.021936</td>\n    </tr>\n  </tbody>\n</table>\n</div>"
     },
     "execution_count": 8,
     "metadata": {},
     "output_type": "execute_result"
    }
   ],
   "source": [
    "import pandas as pd\n",
    "# Read the csv\n",
    "df = pd.read_csv(\"exp1_network_growth_data.csv\")\n",
    "df.head()"
   ],
   "metadata": {
    "collapsed": false,
    "pycharm": {
     "name": "#%%\n"
    }
   }
  },
  {
   "cell_type": "code",
   "execution_count": null,
   "outputs": [],
   "source": [],
   "metadata": {
    "collapsed": false,
    "pycharm": {
     "name": "#%%\n"
    }
   }
  },
  {
   "cell_type": "code",
   "execution_count": null,
   "metadata": {
    "collapsed": true,
    "pycharm": {
     "name": "#%%\n"
    }
   },
   "outputs": [],
   "source": [
    "# Show the graphs for every experiment\n",
    "l_labels_y = [\"Number of attractors\", \"Time of find Attractors\", \"Number of pairs attractors\", \"Time to compute the attractor pairs\", \"Number of attractor Fields\", \"Time of find fields attractors\"]\n",
    "n_experiment = 1\n",
    "for df in l_experiments:\n",
    "    fig_, axs = plt.subplots(1,6,figsize=(24,5))\n",
    "    cont_label = 0\n",
    "    for (ax, y) in zip(axs, np.asarray(df.keys())[2:]):\n",
    "        ax.plot(df['n_rdds'], df[y])\n",
    "        ax.set_xlabel('Number of RDDs by RDDA')\n",
    "        ax.set_ylabel(l_labels_y[cont_label])\n",
    "        ax.grid(True)\n",
    "        cont_label += 1\n",
    "    fig_.suptitle('Result of the experiment: ' + str(n_experiment), fontsize=16)\n",
    "    fig_.tight_layout()\n",
    "    n_experiment +=1"
   ]
  },
  {
   "cell_type": "markdown",
   "source": [
    "### Show the"
   ],
   "metadata": {
    "collapsed": false,
    "pycharm": {
     "name": "#%% md\n"
    }
   }
  },
  {
   "cell_type": "code",
   "execution_count": null,
   "outputs": [],
   "source": [
    "# Analysing the number of attractors\n",
    "data = pd_res['n_rdda_attractors']\n",
    "fig1, ax1 = plt.subplots()\n",
    "ax1.set_title('Basic Plot')\n",
    "ax1.boxplot(data)"
   ],
   "metadata": {
    "collapsed": false,
    "pycharm": {
     "name": "#%%\n"
    }
   }
  }
 ],
 "metadata": {
  "kernelspec": {
   "display_name": "Python 3",
   "language": "python",
   "name": "python3"
  },
  "language_info": {
   "codemirror_mode": {
    "name": "ipython",
    "version": 2
   },
   "file_extension": ".py",
   "mimetype": "text/x-python",
   "name": "python",
   "nbconvert_exporter": "python",
   "pygments_lexer": "ipython2",
   "version": "2.7.6"
  }
 },
 "nbformat": 4,
 "nbformat_minor": 0
}