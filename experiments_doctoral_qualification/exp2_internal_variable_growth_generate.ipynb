{
 "cells": [
  {
   "cell_type": "markdown",
   "source": [
    "# Experiment : Internal variable growth"
   ],
   "metadata": {
    "collapsed": false,
    "pycharm": {
     "name": "#%% md\n"
    }
   }
  },
  {
   "cell_type": "markdown",
   "source": [
    "## Init the Ray client"
   ],
   "metadata": {
    "collapsed": false,
    "pycharm": {
     "name": "#%% md\n"
    }
   }
  },
  {
   "cell_type": "code",
   "execution_count": 1,
   "outputs": [
    {
     "name": "stderr",
     "output_type": "stream",
     "text": [
      "2022-07-18 20:30:25,567\tINFO packaging.py:414 -- Creating a file package for local directory '/home/reynaldo/Documents/RESEARCH/SynEstRDDA'.\n",
      "2022-07-18 20:30:25,613\tWARNING packaging.py:301 -- File /home/reynaldo/Documents/RESEARCH/SynEstRDDA/.git/objects/pack/pack-83a73ad721eaae41fd5b05d906bd0582e67c27b6.pack is very large (11.31MiB). Consider adding this file to the 'excludes' list to skip uploading it: `ray.init(..., runtime_env={'excludes': ['/home/reynaldo/Documents/RESEARCH/SynEstRDDA/.git/objects/pack/pack-83a73ad721eaae41fd5b05d906bd0582e67c27b6.pack']})`\n",
      "2022-07-18 20:30:25,737\tINFO packaging.py:258 -- Pushing file package 'gcs://_ray_pkg_4d571328255a9aee.zip' (25.89MiB) to Ray cluster...\n",
      "2022-07-18 20:30:26,406\tINFO packaging.py:267 -- Successfully pushed file package 'gcs://_ray_pkg_4d571328255a9aee.zip'.\n"
     ]
    },
    {
     "data": {
      "text/plain": "ClientContext(dashboard_url='', python_version='3.8.13', ray_version='1.13.0', ray_commit='e4ce38d001dbbe09cd21c497fedd03d692b2be3e', protocol_version='2022-03-16', _num_clients=4, _context_to_restore=<ray.util.client._ClientContext object at 0x7f120479fc10>)"
     },
     "execution_count": 1,
     "metadata": {},
     "output_type": "execute_result"
    }
   ],
   "source": [
    "# Imports\n",
    "from clases.red_rddas_model import RedRddasModel\n",
    "import ray\n",
    "import time\n",
    "import pandas as pd\n",
    "ray.shutdown()\n",
    "# Ray Configurations\n",
    "ray.shutdown()\n",
    "runtime_env = {\"working_dir\": \"/home/reynaldo/Documents/RESEARCH/SynEstRDDA\", \"pip\": [\"requests\", \"pendulum==2.1.2\"]}\n",
    "ray.init(address='ray://172.17.163.253:10001', runtime_env=runtime_env, log_to_driver=False, allow_multiple=True, ignore_reinit_error=True)\n",
    "# ray.init(address='ray://172.17.163.244:10001', runtime_env=runtime_env , log_to_driver=False, num_cpus=12)\n",
    "# ray.init(log_to_driver=False, num_cpus=12)\n",
    "# ray.init(log_to_driver=False)"
   ],
   "metadata": {
    "collapsed": false,
    "pycharm": {
     "name": "#%%\n"
    }
   }
  },
  {
   "cell_type": "markdown",
   "source": [
    "### Generate the Samples and recollected the indicators"
   ],
   "metadata": {
    "collapsed": false,
    "pycharm": {
     "name": "#%% md\n"
    }
   }
  },
  {
   "cell_type": "code",
   "execution_count": 2,
   "outputs": [
    {
     "name": "stdout",
     "output_type": "stream",
     "text": [
      "============================\n",
      "Experiment: 1\n",
      "============================\n",
      "Number of Network: 1\n",
      "Number of RDDs: 5\n",
      "Number of var: 5\n",
      "-------------------------------\n",
      "generating the Network of RDDAs ...\n",
      "generating the rdds ...\n"
     ]
    },
    {
     "name": "stderr",
     "output_type": "stream",
     "text": [
      "2022-07-18 20:30:31,368\tERROR services.py:1488 -- Failed to start the dashboard: Ray Client is not connected. Please connect by calling `ray.init`.\n",
      "2022-07-18 20:30:31,370\tERROR services.py:1489 -- Ray Client is not connected. Please connect by calling `ray.init`.\n",
      "Traceback (most recent call last):\n",
      "  File \"/home/reynaldo/.local/lib/python3.8/site-packages/ray/_private/services.py\", line 1425, in start_dashboard\n",
      "    dashboard_url = ray.experimental.internal_kv._internal_kv_get(\n",
      "  File \"/home/reynaldo/.local/lib/python3.8/site-packages/ray/_private/client_mode_hook.py\", line 104, in wrapper\n",
      "    return getattr(ray, func.__name__)(*args, **kwargs)\n",
      "  File \"/home/reynaldo/.local/lib/python3.8/site-packages/ray/util/client/__init__.py\", line 267, in __getattr__\n",
      "    return self.get_context().__getattr__(name)\n",
      "  File \"/home/reynaldo/.local/lib/python3.8/site-packages/ray/util/client/__init__.py\", line 169, in __getattr__\n",
      "    raise Exception(\n",
      "Exception: Ray Client is not connected. Please connect by calling `ray.init`.\n"
     ]
    },
    {
     "ename": "AssertionError",
     "evalue": "",
     "output_type": "error",
     "traceback": [
      "\u001B[0;31m---------------------------------------------------------------------------\u001B[0m",
      "\u001B[0;31mAssertionError\u001B[0m                            Traceback (most recent call last)",
      "\u001B[0;32m<ipython-input-2-7954b696acd2>\u001B[0m in \u001B[0;36m<module>\u001B[0;34m\u001B[0m\n\u001B[1;32m     42\u001B[0m         \u001B[0;31m# Calculate the Attractors by RDDA and by Signal\u001B[0m\u001B[0;34m\u001B[0m\u001B[0;34m\u001B[0m\u001B[0;34m\u001B[0m\u001B[0m\n\u001B[1;32m     43\u001B[0m         \u001B[0mv_begin_0\u001B[0m \u001B[0;34m=\u001B[0m \u001B[0mtime\u001B[0m\u001B[0;34m.\u001B[0m\u001B[0mtime\u001B[0m\u001B[0;34m(\u001B[0m\u001B[0;34m)\u001B[0m\u001B[0;34m\u001B[0m\u001B[0;34m\u001B[0m\u001B[0m\n\u001B[0;32m---> 44\u001B[0;31m         \u001B[0mresult\u001B[0m \u001B[0;34m=\u001B[0m \u001B[0mRedRddasModel\u001B[0m\u001B[0;34m.\u001B[0m\u001B[0mfind_attractors_rddas_ray\u001B[0m\u001B[0;34m.\u001B[0m\u001B[0mremote\u001B[0m\u001B[0;34m(\u001B[0m\u001B[0mo_rdda_model\u001B[0m\u001B[0;34m)\u001B[0m\u001B[0;34m\u001B[0m\u001B[0;34m\u001B[0m\u001B[0m\n\u001B[0m\u001B[1;32m     45\u001B[0m         \u001B[0mo_rdda_model\u001B[0m \u001B[0;34m=\u001B[0m \u001B[0mray\u001B[0m\u001B[0;34m.\u001B[0m\u001B[0mget\u001B[0m\u001B[0;34m(\u001B[0m\u001B[0mresult\u001B[0m\u001B[0;34m)\u001B[0m\u001B[0;34m\u001B[0m\u001B[0;34m\u001B[0m\u001B[0m\n\u001B[1;32m     46\u001B[0m         \u001B[0mv_end_0\u001B[0m \u001B[0;34m=\u001B[0m \u001B[0mtime\u001B[0m\u001B[0;34m.\u001B[0m\u001B[0mtime\u001B[0m\u001B[0;34m(\u001B[0m\u001B[0;34m)\u001B[0m\u001B[0;34m\u001B[0m\u001B[0;34m\u001B[0m\u001B[0m\n",
      "\u001B[0;32m~/.local/lib/python3.8/site-packages/ray/remote_function.py\u001B[0m in \u001B[0;36m_remote_proxy\u001B[0;34m(*args, **kwargs)\u001B[0m\n\u001B[1;32m    109\u001B[0m         \u001B[0;34m@\u001B[0m\u001B[0mwraps\u001B[0m\u001B[0;34m(\u001B[0m\u001B[0mfunction\u001B[0m\u001B[0;34m)\u001B[0m\u001B[0;34m\u001B[0m\u001B[0;34m\u001B[0m\u001B[0m\n\u001B[1;32m    110\u001B[0m         \u001B[0;32mdef\u001B[0m \u001B[0m_remote_proxy\u001B[0m\u001B[0;34m(\u001B[0m\u001B[0;34m*\u001B[0m\u001B[0margs\u001B[0m\u001B[0;34m,\u001B[0m \u001B[0;34m**\u001B[0m\u001B[0mkwargs\u001B[0m\u001B[0;34m)\u001B[0m\u001B[0;34m:\u001B[0m\u001B[0;34m\u001B[0m\u001B[0;34m\u001B[0m\u001B[0m\n\u001B[0;32m--> 111\u001B[0;31m             \u001B[0;32mreturn\u001B[0m \u001B[0mself\u001B[0m\u001B[0;34m.\u001B[0m\u001B[0m_remote\u001B[0m\u001B[0;34m(\u001B[0m\u001B[0margs\u001B[0m\u001B[0;34m=\u001B[0m\u001B[0margs\u001B[0m\u001B[0;34m,\u001B[0m \u001B[0mkwargs\u001B[0m\u001B[0;34m=\u001B[0m\u001B[0mkwargs\u001B[0m\u001B[0;34m,\u001B[0m \u001B[0;34m**\u001B[0m\u001B[0mself\u001B[0m\u001B[0;34m.\u001B[0m\u001B[0m_default_options\u001B[0m\u001B[0;34m)\u001B[0m\u001B[0;34m\u001B[0m\u001B[0;34m\u001B[0m\u001B[0m\n\u001B[0m\u001B[1;32m    112\u001B[0m \u001B[0;34m\u001B[0m\u001B[0m\n\u001B[1;32m    113\u001B[0m         \u001B[0mself\u001B[0m\u001B[0;34m.\u001B[0m\u001B[0mremote\u001B[0m \u001B[0;34m=\u001B[0m \u001B[0m_remote_proxy\u001B[0m\u001B[0;34m\u001B[0m\u001B[0;34m\u001B[0m\u001B[0m\n",
      "\u001B[0;32m~/.local/lib/python3.8/site-packages/ray/util/tracing/tracing_helper.py\u001B[0m in \u001B[0;36m_invocation_remote_span\u001B[0;34m(self, args, kwargs, *_args, **_kwargs)\u001B[0m\n\u001B[1;32m    301\u001B[0m             \u001B[0;32mif\u001B[0m \u001B[0mkwargs\u001B[0m \u001B[0;32mis\u001B[0m \u001B[0;32mnot\u001B[0m \u001B[0;32mNone\u001B[0m\u001B[0;34m:\u001B[0m\u001B[0;34m\u001B[0m\u001B[0;34m\u001B[0m\u001B[0m\n\u001B[1;32m    302\u001B[0m                 \u001B[0;32massert\u001B[0m \u001B[0;34m\"_ray_trace_ctx\"\u001B[0m \u001B[0;32mnot\u001B[0m \u001B[0;32min\u001B[0m \u001B[0mkwargs\u001B[0m\u001B[0;34m\u001B[0m\u001B[0;34m\u001B[0m\u001B[0m\n\u001B[0;32m--> 303\u001B[0;31m             \u001B[0;32mreturn\u001B[0m \u001B[0mmethod\u001B[0m\u001B[0;34m(\u001B[0m\u001B[0mself\u001B[0m\u001B[0;34m,\u001B[0m \u001B[0margs\u001B[0m\u001B[0;34m,\u001B[0m \u001B[0mkwargs\u001B[0m\u001B[0;34m,\u001B[0m \u001B[0;34m*\u001B[0m\u001B[0m_args\u001B[0m\u001B[0;34m,\u001B[0m \u001B[0;34m**\u001B[0m\u001B[0m_kwargs\u001B[0m\u001B[0;34m)\u001B[0m\u001B[0;34m\u001B[0m\u001B[0;34m\u001B[0m\u001B[0m\n\u001B[0m\u001B[1;32m    304\u001B[0m \u001B[0;34m\u001B[0m\u001B[0m\n\u001B[1;32m    305\u001B[0m         \u001B[0;32massert\u001B[0m \u001B[0;34m\"_ray_trace_ctx\"\u001B[0m \u001B[0;32mnot\u001B[0m \u001B[0;32min\u001B[0m \u001B[0mkwargs\u001B[0m\u001B[0;34m\u001B[0m\u001B[0;34m\u001B[0m\u001B[0m\n",
      "\u001B[0;32m~/.local/lib/python3.8/site-packages/ray/remote_function.py\u001B[0m in \u001B[0;36m_remote\u001B[0;34m(self, args, kwargs, **task_options)\u001B[0m\n\u001B[1;32m    175\u001B[0m         \u001B[0;31m# it in \"_remote()\".\u001B[0m\u001B[0;34m\u001B[0m\u001B[0;34m\u001B[0m\u001B[0;34m\u001B[0m\u001B[0m\n\u001B[1;32m    176\u001B[0m         \u001B[0mtask_options\u001B[0m\u001B[0;34m.\u001B[0m\u001B[0mpop\u001B[0m\u001B[0;34m(\u001B[0m\u001B[0;34m\"max_calls\"\u001B[0m\u001B[0;34m,\u001B[0m \u001B[0;32mNone\u001B[0m\u001B[0;34m)\u001B[0m\u001B[0;34m\u001B[0m\u001B[0;34m\u001B[0m\u001B[0m\n\u001B[0;32m--> 177\u001B[0;31m         \u001B[0;32mif\u001B[0m \u001B[0mclient_mode_should_convert\u001B[0m\u001B[0;34m(\u001B[0m\u001B[0mauto_init\u001B[0m\u001B[0;34m=\u001B[0m\u001B[0;32mTrue\u001B[0m\u001B[0;34m)\u001B[0m\u001B[0;34m:\u001B[0m\u001B[0;34m\u001B[0m\u001B[0;34m\u001B[0m\u001B[0m\n\u001B[0m\u001B[1;32m    178\u001B[0m             \u001B[0;32mreturn\u001B[0m \u001B[0mclient_mode_convert_function\u001B[0m\u001B[0;34m(\u001B[0m\u001B[0mself\u001B[0m\u001B[0;34m,\u001B[0m \u001B[0margs\u001B[0m\u001B[0;34m,\u001B[0m \u001B[0mkwargs\u001B[0m\u001B[0;34m,\u001B[0m \u001B[0;34m**\u001B[0m\u001B[0mtask_options\u001B[0m\u001B[0;34m)\u001B[0m\u001B[0;34m\u001B[0m\u001B[0;34m\u001B[0m\u001B[0m\n\u001B[1;32m    179\u001B[0m \u001B[0;34m\u001B[0m\u001B[0m\n",
      "\u001B[0;32m~/.local/lib/python3.8/site-packages/ray/_private/client_mode_hook.py\u001B[0m in \u001B[0;36mclient_mode_should_convert\u001B[0;34m(auto_init)\u001B[0m\n\u001B[1;32m    122\u001B[0m             \u001B[0;32mand\u001B[0m \u001B[0;32mnot\u001B[0m \u001B[0mray\u001B[0m\u001B[0;34m.\u001B[0m\u001B[0mis_initialized\u001B[0m\u001B[0;34m(\u001B[0m\u001B[0;34m)\u001B[0m\u001B[0;34m\u001B[0m\u001B[0;34m\u001B[0m\u001B[0m\n\u001B[1;32m    123\u001B[0m         ):\n\u001B[0;32m--> 124\u001B[0;31m             \u001B[0mray\u001B[0m\u001B[0;34m.\u001B[0m\u001B[0minit\u001B[0m\u001B[0;34m(\u001B[0m\u001B[0;34m)\u001B[0m\u001B[0;34m\u001B[0m\u001B[0;34m\u001B[0m\u001B[0m\n\u001B[0m\u001B[1;32m    125\u001B[0m \u001B[0;34m\u001B[0m\u001B[0m\n\u001B[1;32m    126\u001B[0m     \u001B[0;31m# `is_client_mode_enabled_by_default` is used for testing with\u001B[0m\u001B[0;34m\u001B[0m\u001B[0;34m\u001B[0m\u001B[0;34m\u001B[0m\u001B[0m\n",
      "\u001B[0;32m~/.local/lib/python3.8/site-packages/ray/_private/client_mode_hook.py\u001B[0m in \u001B[0;36mwrapper\u001B[0;34m(*args, **kwargs)\u001B[0m\n\u001B[1;32m    103\u001B[0m             \u001B[0;32mif\u001B[0m \u001B[0mfunc\u001B[0m\u001B[0;34m.\u001B[0m\u001B[0m__name__\u001B[0m \u001B[0;34m!=\u001B[0m \u001B[0;34m\"init\"\u001B[0m \u001B[0;32mor\u001B[0m \u001B[0mis_client_mode_enabled_by_default\u001B[0m\u001B[0;34m:\u001B[0m\u001B[0;34m\u001B[0m\u001B[0;34m\u001B[0m\u001B[0m\n\u001B[1;32m    104\u001B[0m                 \u001B[0;32mreturn\u001B[0m \u001B[0mgetattr\u001B[0m\u001B[0;34m(\u001B[0m\u001B[0mray\u001B[0m\u001B[0;34m,\u001B[0m \u001B[0mfunc\u001B[0m\u001B[0;34m.\u001B[0m\u001B[0m__name__\u001B[0m\u001B[0;34m)\u001B[0m\u001B[0;34m(\u001B[0m\u001B[0;34m*\u001B[0m\u001B[0margs\u001B[0m\u001B[0;34m,\u001B[0m \u001B[0;34m**\u001B[0m\u001B[0mkwargs\u001B[0m\u001B[0;34m)\u001B[0m\u001B[0;34m\u001B[0m\u001B[0;34m\u001B[0m\u001B[0m\n\u001B[0;32m--> 105\u001B[0;31m         \u001B[0;32mreturn\u001B[0m \u001B[0mfunc\u001B[0m\u001B[0;34m(\u001B[0m\u001B[0;34m*\u001B[0m\u001B[0margs\u001B[0m\u001B[0;34m,\u001B[0m \u001B[0;34m**\u001B[0m\u001B[0mkwargs\u001B[0m\u001B[0;34m)\u001B[0m\u001B[0;34m\u001B[0m\u001B[0;34m\u001B[0m\u001B[0m\n\u001B[0m\u001B[1;32m    106\u001B[0m \u001B[0;34m\u001B[0m\u001B[0m\n\u001B[1;32m    107\u001B[0m     \u001B[0;32mreturn\u001B[0m \u001B[0mwrapper\u001B[0m\u001B[0;34m\u001B[0m\u001B[0;34m\u001B[0m\u001B[0m\n",
      "\u001B[0;32m~/.local/lib/python3.8/site-packages/ray/worker.py\u001B[0m in \u001B[0;36minit\u001B[0;34m(address, num_cpus, num_gpus, resources, object_store_memory, local_mode, ignore_reinit_error, include_dashboard, dashboard_host, dashboard_port, job_config, configure_logging, logging_level, logging_format, log_to_driver, namespace, runtime_env, storage, _enable_object_reconstruction, _redis_max_memory, _plasma_directory, _node_ip_address, _driver_object_store_memory, _memory, _redis_password, _temp_dir, _metrics_export_port, _system_config, _tracing_startup_hook, _node_name, **kwargs)\u001B[0m\n\u001B[1;32m   1120\u001B[0m \u001B[0;34m\u001B[0m\u001B[0m\n\u001B[1;32m   1121\u001B[0m     \u001B[0;32mfor\u001B[0m \u001B[0mhook\u001B[0m \u001B[0;32min\u001B[0m \u001B[0m_post_init_hooks\u001B[0m\u001B[0;34m:\u001B[0m\u001B[0;34m\u001B[0m\u001B[0;34m\u001B[0m\u001B[0m\n\u001B[0;32m-> 1122\u001B[0;31m         \u001B[0mhook\u001B[0m\u001B[0;34m(\u001B[0m\u001B[0;34m)\u001B[0m\u001B[0;34m\u001B[0m\u001B[0;34m\u001B[0m\u001B[0m\n\u001B[0m\u001B[1;32m   1123\u001B[0m \u001B[0;34m\u001B[0m\u001B[0m\n\u001B[1;32m   1124\u001B[0m     \u001B[0mnode_id\u001B[0m \u001B[0;34m=\u001B[0m \u001B[0mglobal_worker\u001B[0m\u001B[0;34m.\u001B[0m\u001B[0mcore_worker\u001B[0m\u001B[0;34m.\u001B[0m\u001B[0mget_current_node_id\u001B[0m\u001B[0;34m(\u001B[0m\u001B[0;34m)\u001B[0m\u001B[0;34m\u001B[0m\u001B[0;34m\u001B[0m\u001B[0m\n",
      "\u001B[0;32m~/.local/lib/python3.8/site-packages/ray/_private/usage/usage_lib.py\u001B[0m in \u001B[0;36m_put_pre_init_library_usages\u001B[0;34m()\u001B[0m\n\u001B[1;32m    192\u001B[0m \u001B[0;34m\u001B[0m\u001B[0m\n\u001B[1;32m    193\u001B[0m \u001B[0;32mdef\u001B[0m \u001B[0m_put_pre_init_library_usages\u001B[0m\u001B[0;34m(\u001B[0m\u001B[0;34m)\u001B[0m\u001B[0;34m:\u001B[0m\u001B[0;34m\u001B[0m\u001B[0;34m\u001B[0m\u001B[0m\n\u001B[0;32m--> 194\u001B[0;31m     \u001B[0;32massert\u001B[0m \u001B[0m_internal_kv_initialized\u001B[0m\u001B[0;34m(\u001B[0m\u001B[0;34m)\u001B[0m\u001B[0;34m\u001B[0m\u001B[0;34m\u001B[0m\u001B[0m\n\u001B[0m\u001B[1;32m    195\u001B[0m     \u001B[0;32mif\u001B[0m \u001B[0mray\u001B[0m\u001B[0;34m.\u001B[0m\u001B[0mworker\u001B[0m\u001B[0;34m.\u001B[0m\u001B[0mglobal_worker\u001B[0m\u001B[0;34m.\u001B[0m\u001B[0mmode\u001B[0m \u001B[0;34m!=\u001B[0m \u001B[0mray\u001B[0m\u001B[0;34m.\u001B[0m\u001B[0mSCRIPT_MODE\u001B[0m\u001B[0;34m:\u001B[0m\u001B[0;34m\u001B[0m\u001B[0;34m\u001B[0m\u001B[0m\n\u001B[1;32m    196\u001B[0m         \u001B[0;32mreturn\u001B[0m\u001B[0;34m\u001B[0m\u001B[0;34m\u001B[0m\u001B[0m\n",
      "\u001B[0;31mAssertionError\u001B[0m: "
     ]
    }
   ],
   "source": [
    "#capture the time for all the experiment\n",
    "v_begin_exp = time.time()\n",
    "# Experiment for internal variable growth\n",
    "n_experiments = 500\n",
    "l_experiments = []\n",
    "for cont_experiment in range(1,n_experiments+1):\n",
    "    print(\"============================\")\n",
    "    print(\"Experiment:\", cont_experiment)\n",
    "    print(\"============================\")\n",
    "\n",
    "    # Variable Parameters\n",
    "    n_of_var_by_rdd_min = 5\n",
    "    n_of_var_by_rdd_max = 10\n",
    "\n",
    "    # Fixed Parameters\n",
    "    n_of_rdds = 5\n",
    "    n_of_signals_rdd = 2\n",
    "    n_output_variables = 2\n",
    "    n_clauses_function = 2\n",
    "    type_network = \"ALEATORY\"\n",
    "\n",
    "    # List of Result for the Experiments\n",
    "    l_res_sample = []\n",
    "\n",
    "    v_n_network = 1\n",
    "    for n_of_variables_rdd in range(n_of_var_by_rdd_min, n_of_var_by_rdd_max + 1):\n",
    "        print(\"Number of Network:\", v_n_network)\n",
    "        print(\"Number of RDDs:\", n_of_rdds)\n",
    "        print(\"Number of var:\", n_of_variables_rdd)\n",
    "        print(\"-------------------------------\")\n",
    "\n",
    "\n",
    "        # generate the RDDAs of the Network of RDDAs\n",
    "        print(\"generating the Network of RDDAs ...\")\n",
    "        o_rdda_model = RedRddasModel(n_of_rdds, n_of_variables_rdd, n_of_signals_rdd, n_output_variables,\n",
    "                                       n_clauses_function)\n",
    "\n",
    "        # Generate the RDDs\n",
    "        print(\"generating the rdds ...\")\n",
    "        o_rdda_model.generate_rddas(type_network=type_network)\n",
    "\n",
    "        # Calculate the Attractors by RDDA and by Signal\n",
    "        v_begin_0 = time.time()\n",
    "        result = RedRddasModel.find_attractors_rddas_ray.remote(o_rdda_model)\n",
    "        o_rdda_model = ray.get(result)\n",
    "        v_end_0 = time.time()\n",
    "        v_time_0 = v_end_0 - v_begin_0\n",
    "\n",
    "        # Calculate the Attractors by RDDA and by Signal\n",
    "        v_begin_1 = time.time()\n",
    "        result = RedRddasModel.calculation_compatible_pairs.remote(o_rdda_model)\n",
    "        o_rdda_model = ray.get(result)\n",
    "        v_end_1 = time.time()\n",
    "        v_time_1 = v_end_1 - v_begin_1\n",
    "\n",
    "        # Calculate the Attractors by RDDA and by Signal with optimized Method\n",
    "        v_begin_2 = time.time()\n",
    "        result = RedRddasModel.assembly_attractor_fields_optimized.remote(o_rdda_model)\n",
    "        o_rdda_model = ray.get(result)\n",
    "        v_end_2 = time.time()\n",
    "        v_time_2 = v_end_2 - v_begin_2\n",
    "\n",
    "        # Save the results for the experiment , numeric and time indicators\n",
    "        res_dict = {\n",
    "                    \"n_network\": v_n_network,\n",
    "                    \"n_rdds\": n_of_rdds,\n",
    "                    \"n_variables\": n_of_variables_rdd,\n",
    "                    \"n_coupling_signals\": n_of_signals_rdd,\n",
    "                    \"n_rdda_attractors\": len(o_rdda_model.d_global_rdda_attractor.items()),\n",
    "                    \"t_find_attractors_method\": v_time_0,\n",
    "                    \"n_pair_attractors\": len(o_rdda_model.list_attractors_pairs),\n",
    "                    \"t_comp_paris_method\": v_time_1,\n",
    "                    \"n_attractor_fields\": len(o_rdda_model.attractor_fields),\n",
    "                    \"t_optimized_method\": v_time_2\n",
    "                    }\n",
    "        l_res_sample.append(res_dict)\n",
    "        v_n_network = v_n_network + 1\n",
    "\n",
    "    # Add the sample data to pandas dataframe\n",
    "    df = pd.DataFrame.from_dict(l_res_sample)\n",
    "    l_experiments.append(df)\n",
    "# Capture the time of the experiment\n",
    "v_end_exp = time.time()\n",
    "v_time_exp = v_end_exp - v_begin_exp\n",
    "# print(\"Time of Experiment (in seg)\", v_time_exp)\n",
    "# print(\"Time of Experiment (in hours, minutes and seconds)\", time.strftime(\"%H:%M:%S\", time.gmtime(v_time_exp)))\n",
    "print(\"END EXPERIMENT\")"
   ],
   "metadata": {
    "collapsed": false,
    "pycharm": {
     "name": "#%%\n"
    }
   }
  },
  {
   "cell_type": "markdown",
   "source": [
    "### Resume of the experiment"
   ],
   "metadata": {
    "collapsed": false,
    "pycharm": {
     "name": "#%% md\n"
    }
   }
  },
  {
   "cell_type": "code",
   "execution_count": null,
   "outputs": [],
   "source": [
    "# Time of Experiment (in seg) 1898.2322750091553\n",
    "# Time of Experiment (in hours, minutes and seconds) 00:31:38\n",
    "print(\"RESUME OF THE EXPERIMENT\")\n",
    "print(\"--------------------------------------------------------------------\")\n",
    "print(\"Name of the Experiment:\", \"Experiment 2 - Internal Variable Growth\")\n",
    "print(\"Variable Parameters : Number os Variables\")\n",
    "print(\"Range of Number of variables:\",n_of_var_by_rdd_min,\"-\", n_of_var_by_rdd_max)\n",
    "print(\"Fixed parameters\")\n",
    "print(\"Number of rdds:\",n_of_rdds)\n",
    "print(\"Number of signals by RDD :\", n_of_signals_rdd)\n",
    "print(\"Number of output variables:\", n_output_variables)\n",
    "print(\"Number of function clauses:\", n_clauses_function)\n",
    "print(\"Network Type:\", type_network)\n",
    "print(\"--------------------------------------------------------------------\")\n",
    "print(\"Time of Experiment (in seg)\", v_time_exp)\n",
    "print(\"Time of Experiment (in hours, minutes and seconds)\", time.strftime(\"%H:%M:%S\", time.gmtime(v_time_exp)))\n",
    "print(\"--------------------------------------------------------------------\")\n",
    "pf_res = pd.concat(l_experiments, keys=range(1,n_experiments+1), names=[\"n_sample\",\"n_aux\"], ignore_index=False)\n",
    "pf_res.reset_index(drop=True, inplace=True, level=1)\n",
    "pf_res"
   ],
   "metadata": {
    "collapsed": false,
    "pycharm": {
     "name": "#%%\n"
    }
   }
  },
  {
   "cell_type": "markdown",
   "source": [
    "### Save the experiment data in csv, using pandas Dataframe"
   ],
   "metadata": {
    "collapsed": false,
    "pycharm": {
     "name": "#%% md\n"
    }
   }
  },
  {
   "cell_type": "code",
   "execution_count": null,
   "outputs": [],
   "source": [
    "path = \"exp2_internal_variable_growth_data.csv\"\n",
    "pf_res.to_csv(path)\n",
    "print(\"Experiment saved in:\", path)"
   ],
   "metadata": {
    "collapsed": false,
    "pycharm": {
     "name": "#%%\n"
    }
   }
  }
 ],
 "metadata": {
  "kernelspec": {
   "display_name": "Python 3",
   "language": "python",
   "name": "python3"
  },
  "language_info": {
   "codemirror_mode": {
    "name": "ipython",
    "version": 2
   },
   "file_extension": ".py",
   "mimetype": "text/x-python",
   "name": "python",
   "nbconvert_exporter": "python",
   "pygments_lexer": "ipython2",
   "version": "2.7.6"
  }
 },
 "nbformat": 4,
 "nbformat_minor": 0
}